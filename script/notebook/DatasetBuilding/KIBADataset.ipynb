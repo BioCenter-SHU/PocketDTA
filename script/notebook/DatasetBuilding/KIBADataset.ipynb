{
 "cells": [
  {
   "attachments": {},
   "cell_type": "markdown",
   "metadata": {},
   "source": [
    "# KIBA dataset"
   ]
  },
  {
   "attachments": {},
   "cell_type": "markdown",
   "metadata": {},
   "source": [
    "##  1 Read raw data from the DeepDTA"
   ]
  },
  {
   "attachments": {},
   "cell_type": "markdown",
   "metadata": {},
   "source": [
    "> The raw data can be downloaded from [DeepDTA Github Repository](https://github.com/hkmztrk/DeepDTA/tree/master/data)."
   ]
  },
  {
   "cell_type": "code",
   "execution_count": null,
   "metadata": {},
   "outputs": [],
   "source": [
    "import pandas as pd  # pandas for table-like data"
   ]
  },
  {
   "cell_type": "code",
   "execution_count": null,
   "metadata": {},
   "outputs": [],
   "source": [
    "kiba_data = pd.read_table(\"../../../data/dta-datasets/KIBA/DTA_Raw_Data/KIBA/kiba_binding_affinity_v2.txt\", sep = \"\\t\", header=None)"
   ]
  },
  {
   "cell_type": "code",
   "execution_count": null,
   "metadata": {},
   "outputs": [],
   "source": [
    "kiba_data.shape  # all 2111 drugs and 229 proteins make the matrix"
   ]
  },
  {
   "cell_type": "code",
   "execution_count": null,
   "metadata": {},
   "outputs": [],
   "source": [
    "kiba_data"
   ]
  },
  {
   "cell_type": "code",
   "execution_count": null,
   "metadata": {},
   "outputs": [],
   "source": [
    "select_col = [col for col in range(229)] # the last col is all NaN"
   ]
  },
  {
   "cell_type": "code",
   "execution_count": null,
   "metadata": {},
   "outputs": [],
   "source": [
    "kiba_data[select_col].shape"
   ]
  },
  {
   "cell_type": "code",
   "execution_count": null,
   "metadata": {},
   "outputs": [],
   "source": [
    "kiba_data[select_col].head()"
   ]
  },
  {
   "cell_type": "code",
   "execution_count": null,
   "metadata": {},
   "outputs": [],
   "source": [
    "kiba_data[select_col].describe()  # a lookup for all the data in the dataset"
   ]
  },
  {
   "cell_type": "code",
   "execution_count": null,
   "metadata": {},
   "outputs": [],
   "source": [
    "kiba_data[select_col].to_csv('../../../data/dta-datasets/KIBA/kiba_affinities.csv', header=None, index=None)"
   ]
  },
  {
   "attachments": {},
   "cell_type": "markdown",
   "metadata": {},
   "source": [
    "## 2 Add protein ID and ligand ID"
   ]
  },
  {
   "attachments": {},
   "cell_type": "markdown",
   "metadata": {},
   "source": [
    "Use the DeepDTA methods to load the data."
   ]
  },
  {
   "attachments": {},
   "cell_type": "markdown",
   "metadata": {},
   "source": [
    "### 3.1 Ligands ID and SMILES"
   ]
  },
  {
   "attachments": {},
   "cell_type": "markdown",
   "metadata": {},
   "source": [
    "Load the raw **2111** ligands from DeepDTA."
   ]
  },
  {
   "cell_type": "code",
   "execution_count": null,
   "metadata": {},
   "outputs": [],
   "source": [
    "import json\n",
    "ligands = json.load(open(\"../../../data/dta-datasets/KIBA/DTA_Raw_Data/KIBA/ligands_can.txt\"))"
   ]
  },
  {
   "cell_type": "code",
   "execution_count": null,
   "metadata": {},
   "outputs": [],
   "source": [
    "ligands"
   ]
  },
  {
   "cell_type": "code",
   "execution_count": null,
   "metadata": {},
   "outputs": [],
   "source": [
    "ligands['CHEMBL1087421']"
   ]
  },
  {
   "cell_type": "code",
   "execution_count": null,
   "metadata": {},
   "outputs": [],
   "source": [
    "ligands.keys()  # CHEMBL ID as the keys in the dict"
   ]
  },
  {
   "cell_type": "code",
   "execution_count": null,
   "metadata": {},
   "outputs": [],
   "source": [
    "import pandas as pd\n",
    "ligands_df = pd.DataFrame(ligands, index=[0])"
   ]
  },
  {
   "cell_type": "code",
   "execution_count": null,
   "metadata": {},
   "outputs": [],
   "source": [
    "ligands_df.T.head()"
   ]
  },
  {
   "attachments": {},
   "cell_type": "markdown",
   "metadata": {},
   "source": [
    "Then store the raw ligands dataframe into a csv file."
   ]
  },
  {
   "cell_type": "code",
   "execution_count": null,
   "metadata": {},
   "outputs": [],
   "source": [
    "ligands_df.T.to_csv('../../../data/dta-datasets/KIBA/kiba_ligands.csv', index_label=['CHEMBLID'], header=['SMILES'])"
   ]
  },
  {
   "attachments": {},
   "cell_type": "markdown",
   "metadata": {},
   "source": [
    "### 2.2 Protein ID and AA(Amino Acid) Sequences"
   ]
  },
  {
   "attachments": {},
   "cell_type": "markdown",
   "metadata": {},
   "source": [
    "Load the raw **442** proteins from DeepDTA."
   ]
  },
  {
   "cell_type": "code",
   "execution_count": null,
   "metadata": {},
   "outputs": [],
   "source": [
    "import json\n",
    "proteins = json.load(open(\"../../../data/dta-datasets/KIBA/DTA_Raw_Data/KIBA/proteins.txt\"))"
   ]
  },
  {
   "cell_type": "code",
   "execution_count": null,
   "metadata": {},
   "outputs": [],
   "source": [
    "import pandas as pd\n",
    "proteins_df = pd.DataFrame(proteins, index=[0])"
   ]
  },
  {
   "cell_type": "code",
   "execution_count": null,
   "metadata": {},
   "outputs": [],
   "source": [
    "proteins_df.T.head()"
   ]
  },
  {
   "attachments": {},
   "cell_type": "markdown",
   "metadata": {},
   "source": [
    "Then store the raw proteins dataframe into a csv file."
   ]
  },
  {
   "cell_type": "code",
   "execution_count": null,
   "metadata": {},
   "outputs": [],
   "source": [
    "proteins_df.T.to_csv('../../../data/dta-datasets/KIBA/kiba_proteins.csv', index_label=['Gene'], header=['Sequence'])"
   ]
  },
  {
   "attachments": {},
   "cell_type": "markdown",
   "metadata": {},
   "source": [
    "## 3 Consturct the DTA pair data"
   ]
  },
  {
   "attachments": {},
   "cell_type": "markdown",
   "metadata": {},
   "source": [
    "Then we need to build a DataFrame with above files.   \n",
    "*Drug_ID    Drug    Target_ID   Target  Y* # 5 col "
   ]
  },
  {
   "attachments": {},
   "cell_type": "markdown",
   "metadata": {},
   "source": [
    "Now Read the above 3 files to get the Drug, Protein and Affinity values. But we need to be careful with the index. So I set a for loop beyond the affinity matrix to build the new DataFrame."
   ]
  },
  {
   "cell_type": "code",
   "execution_count": null,
   "metadata": {},
   "outputs": [],
   "source": [
    "import pandas as pd\n",
    "import numpy as np"
   ]
  },
  {
   "cell_type": "code",
   "execution_count": null,
   "metadata": {},
   "outputs": [],
   "source": [
    "drugs = pd.read_table(\"../../../data/dta-datasets/KIBA/kiba_ligands.csv\", sep = \",\")"
   ]
  },
  {
   "cell_type": "code",
   "execution_count": null,
   "metadata": {},
   "outputs": [],
   "source": [
    "drugs"
   ]
  },
  {
   "cell_type": "code",
   "execution_count": null,
   "metadata": {},
   "outputs": [],
   "source": [
    "drugs.loc[0][\"CHEMBLID\"]"
   ]
  },
  {
   "cell_type": "code",
   "execution_count": null,
   "metadata": {},
   "outputs": [],
   "source": [
    "drugs.loc[0][\"SMILES\"]"
   ]
  },
  {
   "cell_type": "code",
   "execution_count": null,
   "metadata": {},
   "outputs": [],
   "source": [
    "targets = pd.read_table(\"../../../data/dta-datasets/KIBA/kiba_proteins.csv\", sep = \",\")"
   ]
  },
  {
   "cell_type": "code",
   "execution_count": null,
   "metadata": {},
   "outputs": [],
   "source": [
    "targets"
   ]
  },
  {
   "cell_type": "code",
   "execution_count": null,
   "metadata": {},
   "outputs": [],
   "source": [
    "targets.loc[0][\"Gene\"]"
   ]
  },
  {
   "cell_type": "code",
   "execution_count": null,
   "metadata": {},
   "outputs": [],
   "source": [
    "affinities = pd.read_table(\"../../../data/dta-datasets/KIBA/kiba_affinities.csv\",sep = \",\" , header=None)"
   ]
  },
  {
   "cell_type": "code",
   "execution_count": null,
   "metadata": {},
   "outputs": [],
   "source": [
    "affinities"
   ]
  },
  {
   "cell_type": "code",
   "execution_count": null,
   "metadata": {},
   "outputs": [],
   "source": [
    "affinities.shape"
   ]
  },
  {
   "cell_type": "code",
   "execution_count": null,
   "metadata": {},
   "outputs": [],
   "source": [
    "affinities.loc[0][0] # use the index to get the item affinity"
   ]
  },
  {
   "attachments": {},
   "cell_type": "markdown",
   "metadata": {},
   "source": [
    "### Loop for new DataFrame"
   ]
  },
  {
   "cell_type": "code",
   "execution_count": null,
   "metadata": {},
   "outputs": [],
   "source": [
    "kiba_dataset = pd.DataFrame(columns=('Drug_ID', 'Drug', 'Target_ID', 'Target', 'Y'))  # create a new dataframe for latter append each row into"
   ]
  },
  {
   "cell_type": "code",
   "execution_count": null,
   "metadata": {},
   "outputs": [],
   "source": [
    "kiba_dataset"
   ]
  },
  {
   "cell_type": "code",
   "execution_count": null,
   "metadata": {},
   "outputs": [],
   "source": [
    "for row in range(affinities.shape[0]):\n",
    "    drug_id = drugs.loc[row][\"CHEMBLID\"]\n",
    "    drug = drugs.loc[row][\"SMILES\"]\n",
    "    for col in range(affinities.shape[1]):\n",
    "        target_id = targets.loc[col][\"Gene\"]\n",
    "        target = targets.loc[col][\"Sequence\"]\n",
    "        affinity = affinities.loc[row][col]  \n",
    "        kiba_dataset = kiba_dataset.append(pd.DataFrame({\n",
    "            'Drug_ID':[drug_id],'Drug':[drug],'Target_ID':[target_id],'Target':[target], 'Y':[affinity]}), ignore_index=True)"
   ]
  },
  {
   "cell_type": "code",
   "execution_count": null,
   "metadata": {},
   "outputs": [],
   "source": [
    "kiba_dataset"
   ]
  },
  {
   "cell_type": "code",
   "execution_count": null,
   "metadata": {},
   "outputs": [],
   "source": [
    "kiba_dataset.shape"
   ]
  },
  {
   "cell_type": "code",
   "execution_count": null,
   "metadata": {},
   "outputs": [],
   "source": [
    "kiba_dataset.dropna(how='any', inplace=True) "
   ]
  },
  {
   "cell_type": "code",
   "execution_count": null,
   "metadata": {},
   "outputs": [],
   "source": [
    "kiba_dataset"
   ]
  },
  {
   "cell_type": "code",
   "execution_count": null,
   "metadata": {},
   "outputs": [],
   "source": [
    "kiba_dataset.to_csv('../../../data/dta-datasets/KIBA/kiba_datasets.csv', index=False)"
   ]
  },
  {
   "attachments": {},
   "cell_type": "markdown",
   "metadata": {
    "pycharm": {
     "name": "#%% md\n"
    }
   },
   "source": [
    "## 4 Visualize the Davis dataset distribution"
   ]
  },
  {
   "attachments": {},
   "cell_type": "markdown",
   "metadata": {
    "pycharm": {
     "name": "#%% md\n"
    }
   },
   "source": [
    "Define the length plot function for repeative usage"
   ]
  },
  {
   "cell_type": "code",
   "execution_count": null,
   "metadata": {
    "pycharm": {
     "name": "#%%\n"
    }
   },
   "outputs": [],
   "source": [
    "import pandas as pd\n",
    "kiba_df = pd.read_csv('../../../data/dta-datasets/KIBA/kiba_datasets.csv')"
   ]
  },
  {
   "cell_type": "code",
   "execution_count": null,
   "metadata": {
    "pycharm": {
     "name": "#%%\n"
    }
   },
   "outputs": [],
   "source": [
    "import seaborn as sns\n",
    "import matplotlib.pyplot as plt\n",
    "\n",
    "def str2length(sequences):\n",
    "    sequences = list(set(sequences))\n",
    "    length_list = []\n",
    "    for sequence in sequences:\n",
    "        length_list.append(len(sequence))\n",
    "    print(\"Min Len:\", min(length_list))\n",
    "    print(\"Max Len:\", max(length_list))\n",
    "    return length_list\n",
    "\n",
    "def data_length_plot(\n",
    "    length_list, dataset, plot_name, binwidth, xlabel, ylabel, x_start, x_end, y_start, y_end, color\n",
    "    ):\n",
    "    \"\"\"\n",
    "    sequences: list/pd.series of the data\n",
    "    plot_name: the name of the data to be plotted\n",
    "    \"\"\"\n",
    "    sns.displot(length_list, binwidth=binwidth, color=color)  # sns.displot(length_list, binwidth=100)\n",
    "    # sns.set_style(\"whitegrid\")\n",
    "    plt.xlabel(xlabel)\n",
    "    plt.ylabel(ylabel)\n",
    "    plt.xlim(x_start, x_end) \n",
    "    plt.ylim(y_start, y_end) \n",
    "    plt.title(dataset)\n",
    "    plt.gca().spines['top'].set_visible(True)\n",
    "    plt.gca().spines['right'].set_visible(True)\n",
    "    plt.gcf().set_size_inches(4, 5)\n",
    "    plt.savefig(\"../../../result/fig_output/datasets/KIBA/\" + plot_name + \"Length.png\", bbox_inches='tight') # dpi=300, , dpi=300, bbox_inches='tight'"
   ]
  },
  {
   "cell_type": "code",
   "execution_count": null,
   "metadata": {},
   "outputs": [],
   "source": [
    "data_length_plot(\n",
    "    length_list=str2length(kiba_df[\"Target\"]), dataset=\"KIBA\", plot_name=\"KIBATarget\", binwidth=100, \n",
    "    xlabel=\"Length of target sequences\", ylabel=\"Number of targets\", \n",
    "    x_start=0, x_end=3000, y_start=0, y_end=50, color=\"limegreen\"\n",
    "    )"
   ]
  },
  {
   "cell_type": "code",
   "execution_count": null,
   "metadata": {
    "pycharm": {
     "name": "#%%\n"
    }
   },
   "outputs": [],
   "source": [
    "data_length_plot(\n",
    "    length_list=str2length(kiba_df[\"Drug\"]), dataset=\"KIBA\", plot_name=\"KIBADrug\", binwidth=5, \n",
    "    xlabel=\"Length of SMILES\", ylabel=\"Number of drugs\", \n",
    "    x_start=0, x_end=600, y_start=0, y_end=350, color=\"slateblue\")"
   ]
  },
  {
   "cell_type": "code",
   "execution_count": null,
   "metadata": {},
   "outputs": [],
   "source": [
    "print(min(kiba_df[\"Y\"]))\n",
    "print(max(kiba_df[\"Y\"]))"
   ]
  },
  {
   "cell_type": "code",
   "execution_count": null,
   "metadata": {
    "pycharm": {
     "name": "#%%\n"
    }
   },
   "outputs": [],
   "source": [
    "data_length_plot(\n",
    "    length_list=kiba_df[\"Y\"],  dataset=\"KIBA\", plot_name=\"KIBAAffinity\", binwidth=0.2, \n",
    "    xlabel=\"KIBA scores\", ylabel=\"Number of DT pairs\", \n",
    "    x_start=0, x_end=18, y_start=0, y_end=25000, color=\"khaki\")"
   ]
  },
  {
   "attachments": {},
   "cell_type": "markdown",
   "metadata": {},
   "source": [
    "## 5 Download the 229 protein pdb files."
   ]
  },
  {
   "cell_type": "code",
   "execution_count": null,
   "metadata": {},
   "outputs": [],
   "source": [
    "import pandas as pd\n",
    "proteins = pd.read_table(\"../../../data/dta-datasets/KIBA/kiba_proteins.csv\", sep = \",\")"
   ]
  },
  {
   "cell_type": "code",
   "execution_count": null,
   "metadata": {},
   "outputs": [],
   "source": [
    "proteins"
   ]
  },
  {
   "cell_type": "code",
   "execution_count": null,
   "metadata": {},
   "outputs": [],
   "source": [
    "len(proteins[\"Sequence\"].unique())"
   ]
  },
  {
   "cell_type": "code",
   "execution_count": null,
   "metadata": {},
   "outputs": [],
   "source": [
    "pdb_list = proteins[\"Gene\"].to_list()\n",
    "pdb_list"
   ]
  },
  {
   "cell_type": "code",
   "execution_count": null,
   "metadata": {},
   "outputs": [],
   "source": [
    "len(pdb_list)"
   ]
  },
  {
   "attachments": {},
   "cell_type": "markdown",
   "metadata": {},
   "source": [
    "You need to get uniprotID to download the corresponding PDBfile from AlphaFold Database. For example, genotype AAK1 corresponds to PDB ID Q2M2I8."
   ]
  },
  {
   "attachments": {},
   "cell_type": "markdown",
   "metadata": {},
   "source": [
    "> PDB file in AlphaFold format with v4 version like：https://alphafold.ebi.ac.uk/files/AF-Q2M2I8-F1-model_v4.pdb"
   ]
  },
  {
   "cell_type": "code",
   "execution_count": null,
   "metadata": {},
   "outputs": [],
   "source": [
    "proteins.head()"
   ]
  },
  {
   "cell_type": "code",
   "execution_count": null,
   "metadata": {},
   "outputs": [],
   "source": [
    "len(set(pdb_list))"
   ]
  },
  {
   "cell_type": "code",
   "execution_count": null,
   "metadata": {},
   "outputs": [],
   "source": [
    "prefix = 'https://alphafold.ebi.ac.uk/files/AF-'\n",
    "suffix = '-F1-model_v4.pdb'"
   ]
  },
  {
   "attachments": {},
   "cell_type": "markdown",
   "metadata": {},
   "source": [
    "Start download!"
   ]
  },
  {
   "cell_type": "code",
   "execution_count": null,
   "metadata": {},
   "outputs": [],
   "source": [
    "import os\n",
    "from torchdrug import utils\n",
    "urls = []\n",
    "path = '../../../data/dta-datasets/KIBA/pdb/'\n",
    "for item in range(len(pdb_list)):\n",
    "    url = prefix + pdb_list[item] + suffix\n",
    "    pdb_name = \"AF-\" + pdb_list[item] + suffix\n",
    "    pdb_file = os.path.join(path, pdb_name)\n",
    "    if os.path.exists(pdb_file):\n",
    "        print(\"==================== Using the pdb file: \", pdb_file, \"====================\")\n",
    "    else:\n",
    "        if url not in urls:\n",
    "            urls.append(url)\n",
    "            # print(url)\n",
    "            try:\n",
    "                utils.download(url, path)\n",
    "            except:\n",
    "                print(f'This url: {url} can not be downloaded')"
   ]
  },
  {
   "cell_type": "markdown",
   "metadata": {},
   "source": [
    "- P78527 Len: 4128 No AlphaFold2 use 7OTY"
   ]
  },
  {
   "attachments": {},
   "cell_type": "markdown",
   "metadata": {},
   "source": [
    "## 6 Build the new KIBA dataset"
   ]
  },
  {
   "attachments": {},
   "cell_type": "markdown",
   "metadata": {},
   "source": [
    "### Merge the DTA and pdb table"
   ]
  },
  {
   "attachments": {},
   "cell_type": "markdown",
   "metadata": {},
   "source": [
    "[TO DO]Need to do"
   ]
  },
  {
   "attachments": {},
   "cell_type": "markdown",
   "metadata": {},
   "source": [
    "Load the DTA table to DataFrame"
   ]
  },
  {
   "cell_type": "code",
   "execution_count": null,
   "metadata": {},
   "outputs": [],
   "source": [
    "import pandas as pd\n",
    "path = '../../../data/dta-datasets/KIBA/'"
   ]
  },
  {
   "cell_type": "code",
   "execution_count": null,
   "metadata": {},
   "outputs": [],
   "source": [
    "kiba_path = path + 'kiba_datasets.csv'\n",
    "kiba_df = pd.read_csv(kiba_path)"
   ]
  },
  {
   "cell_type": "code",
   "execution_count": null,
   "metadata": {},
   "outputs": [],
   "source": [
    "kiba_df"
   ]
  },
  {
   "cell_type": "code",
   "execution_count": null,
   "metadata": {},
   "outputs": [],
   "source": [
    "len(kiba_df)"
   ]
  },
  {
   "attachments": {},
   "cell_type": "markdown",
   "metadata": {},
   "source": [
    "Load the PDB file  col to a df"
   ]
  },
  {
   "cell_type": "code",
   "execution_count": null,
   "metadata": {},
   "outputs": [],
   "source": [
    "pdb_path = path + 'kiba_proteins.csv'\n",
    "pdb_df = pd.read_csv(pdb_path)"
   ]
  },
  {
   "cell_type": "code",
   "execution_count": null,
   "metadata": {},
   "outputs": [],
   "source": [
    "pdb_df"
   ]
  },
  {
   "attachments": {},
   "cell_type": "markdown",
   "metadata": {},
   "source": [
    "load the drug file to a df"
   ]
  },
  {
   "cell_type": "code",
   "execution_count": null,
   "metadata": {},
   "outputs": [],
   "source": [
    "drug_path = path + 'kiba_ligands.csv'\n",
    "drug_df = pd.read_csv(drug_path)"
   ]
  },
  {
   "cell_type": "code",
   "execution_count": null,
   "metadata": {},
   "outputs": [],
   "source": [
    "drug_df"
   ]
  },
  {
   "cell_type": "code",
   "execution_count": null,
   "metadata": {},
   "outputs": [],
   "source": [
    "pdb_df[pdb_df[\"Gene\"] == kiba_df.loc[0][\"Target_ID\"]].index.to_list()[0]"
   ]
  },
  {
   "cell_type": "code",
   "execution_count": null,
   "metadata": {},
   "outputs": [],
   "source": [
    "drug_df[drug_df[\"CHEMBLID\"] == \"CHEMBL1087421\"].index.to_list()[0]"
   ]
  },
  {
   "attachments": {},
   "cell_type": "markdown",
   "metadata": {},
   "source": [
    "Built a dict first to add pdb file into the df"
   ]
  },
  {
   "cell_type": "code",
   "execution_count": null,
   "metadata": {},
   "outputs": [],
   "source": [
    "pdb_df.loc[0][\"Gene\"]"
   ]
  },
  {
   "cell_type": "code",
   "execution_count": null,
   "metadata": {},
   "outputs": [],
   "source": [
    "'AF-' + pdb_df.loc[0][\"Gene\"] + '-F1-model_v4.pdb'"
   ]
  },
  {
   "attachments": {},
   "cell_type": "markdown",
   "metadata": {},
   "source": [
    "Traverse 118254 rows of data, add the corresponding PDB file name and corresponding protein index to each row of data, and the drug index is convenient for subsequent direct reference."
   ]
  },
  {
   "cell_type": "code",
   "execution_count": null,
   "metadata": {},
   "outputs": [],
   "source": [
    "kiba_df.loc[0][\"Target_ID\"]"
   ]
  },
  {
   "cell_type": "code",
   "execution_count": null,
   "metadata": {},
   "outputs": [],
   "source": [
    "len(kiba_df)"
   ]
  },
  {
   "cell_type": "code",
   "execution_count": null,
   "metadata": {},
   "outputs": [],
   "source": [
    "pdb_list = []\n",
    "protein_index_list = []\n",
    "drug_index_list = []\n",
    "# traverse the 30056 line to add the pdb file\n",
    "for i in range(len(kiba_df)):\n",
    "    protein_id = kiba_df.loc[i][\"Target_ID\"]\n",
    "    drug_id = kiba_df.loc[i][\"Drug_ID\"]\n",
    "    pdb_list.append('AF-' + protein_id + '-F1-model_v4.pdb')\n",
    "    protein_index_list.append(pdb_df[pdb_df[\"Gene\"] == protein_id].index.to_list()[0])\n",
    "    drug_index_list.append(drug_df[drug_df[\"CHEMBLID\"] == drug_id].index.to_list()[0])"
   ]
  },
  {
   "cell_type": "code",
   "execution_count": null,
   "metadata": {},
   "outputs": [],
   "source": [
    "pdb_list"
   ]
  },
  {
   "cell_type": "code",
   "execution_count": null,
   "metadata": {},
   "outputs": [],
   "source": [
    "len(pdb_list)"
   ]
  },
  {
   "cell_type": "code",
   "execution_count": null,
   "metadata": {},
   "outputs": [],
   "source": [
    "protein_index_list"
   ]
  },
  {
   "cell_type": "code",
   "execution_count": null,
   "metadata": {},
   "outputs": [],
   "source": [
    "len(protein_index_list)"
   ]
  },
  {
   "cell_type": "code",
   "execution_count": null,
   "metadata": {},
   "outputs": [],
   "source": [
    "drug_index_list"
   ]
  },
  {
   "cell_type": "code",
   "execution_count": null,
   "metadata": {},
   "outputs": [],
   "source": [
    "len(drug_index_list)"
   ]
  },
  {
   "cell_type": "code",
   "execution_count": null,
   "metadata": {},
   "outputs": [],
   "source": [
    "pdb_col = pd.DataFrame(pdb_list, columns=[\"PDB_File\"])"
   ]
  },
  {
   "cell_type": "code",
   "execution_count": null,
   "metadata": {},
   "outputs": [],
   "source": [
    "drug_index_col = pd.DataFrame(drug_index_list, columns=[\"Drug_Index\"])"
   ]
  },
  {
   "cell_type": "code",
   "execution_count": null,
   "metadata": {},
   "outputs": [],
   "source": [
    "protein_index_col = pd.DataFrame(protein_index_list, columns=[\"protein_Index\"])"
   ]
  },
  {
   "cell_type": "code",
   "execution_count": null,
   "metadata": {},
   "outputs": [],
   "source": [
    "kiba_df"
   ]
  },
  {
   "cell_type": "code",
   "execution_count": null,
   "metadata": {},
   "outputs": [],
   "source": [
    "pdb_col"
   ]
  },
  {
   "cell_type": "code",
   "execution_count": null,
   "metadata": {},
   "outputs": [],
   "source": [
    "drug_index_col"
   ]
  },
  {
   "cell_type": "code",
   "execution_count": null,
   "metadata": {},
   "outputs": [],
   "source": [
    "protein_index_col"
   ]
  },
  {
   "cell_type": "code",
   "execution_count": null,
   "metadata": {},
   "outputs": [],
   "source": [
    "temp_df1 = pd.merge(pdb_col, drug_index_col, left_index=True, right_index=True)"
   ]
  },
  {
   "cell_type": "code",
   "execution_count": null,
   "metadata": {},
   "outputs": [],
   "source": [
    "temp_df1"
   ]
  },
  {
   "cell_type": "code",
   "execution_count": null,
   "metadata": {},
   "outputs": [],
   "source": [
    "temp_df2 = pd.merge(temp_df1, protein_index_col, left_index=True, right_index=True)"
   ]
  },
  {
   "cell_type": "code",
   "execution_count": null,
   "metadata": {},
   "outputs": [],
   "source": [
    "temp_df2"
   ]
  },
  {
   "cell_type": "code",
   "execution_count": null,
   "metadata": {},
   "outputs": [],
   "source": [
    "kiba_dataset_all = pd.merge(kiba_df, temp_df2, left_index=True, right_index=True)"
   ]
  },
  {
   "cell_type": "code",
   "execution_count": null,
   "metadata": {},
   "outputs": [],
   "source": [
    "kiba_dataset_all"
   ]
  },
  {
   "cell_type": "code",
   "execution_count": null,
   "metadata": {},
   "outputs": [],
   "source": [
    "kiba_dataset_all.to_csv('../../../data/dta-datasets/KIBA/kiba_datasets.csv', index=None)"
   ]
  }
 ],
 "metadata": {
  "kernelspec": {
   "display_name": "Python 3.8.13 ('torchdrug')",
   "language": "python",
   "name": "python3"
  },
  "language_info": {
   "codemirror_mode": {
    "name": "ipython",
    "version": 3
   },
   "file_extension": ".py",
   "mimetype": "text/x-python",
   "name": "python",
   "nbconvert_exporter": "python",
   "pygments_lexer": "ipython3",
   "version": "3.8.13"
  },
  "orig_nbformat": 4,
  "vscode": {
   "interpreter": {
    "hash": "cb15710f8c0deeed06839ee1c6afab27549449016d814ee789699df3eb9a6173"
   }
  }
 },
 "nbformat": 4,
 "nbformat_minor": 2
}

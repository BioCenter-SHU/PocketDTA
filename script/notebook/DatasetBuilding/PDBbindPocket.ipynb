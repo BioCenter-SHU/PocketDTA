{
 "cells": [
  {
   "attachments": {},
   "cell_type": "markdown",
   "metadata": {},
   "source": [
    "## Pockets Label"
   ]
  },
  {
   "cell_type": "code",
   "execution_count": 1,
   "metadata": {},
   "outputs": [],
   "source": [
    "# demo for a pdb to generate a graph\n",
    "import torch\n",
    "import pandas as pd\n",
    "from torchdrug import data, layers"
   ]
  },
  {
   "cell_type": "code",
   "execution_count": 2,
   "metadata": {},
   "outputs": [],
   "source": [
    "pre = \"../../../data/dta-datasets/PDBbind/\"\n",
    "pdb_name = \"1a0q\"\n",
    "csv_path = pre + \"PDBbind_file/\" + pdb_name + \"/\" + pdb_name + \"_proteins.csv\""
   ]
  },
  {
   "cell_type": "code",
   "execution_count": 3,
   "metadata": {},
   "outputs": [
    {
     "data": {
      "text/html": [
       "<div>\n",
       "<style scoped>\n",
       "    .dataframe tbody tr th:only-of-type {\n",
       "        vertical-align: middle;\n",
       "    }\n",
       "\n",
       "    .dataframe tbody tr th {\n",
       "        vertical-align: top;\n",
       "    }\n",
       "\n",
       "    .dataframe thead th {\n",
       "        text-align: right;\n",
       "    }\n",
       "</style>\n",
       "<table border=\"1\" class=\"dataframe\">\n",
       "  <thead>\n",
       "    <tr style=\"text-align: right;\">\n",
       "      <th></th>\n",
       "      <th>chain</th>\n",
       "      <th>residue_label</th>\n",
       "      <th>residue_name</th>\n",
       "      <th>pocket</th>\n",
       "    </tr>\n",
       "  </thead>\n",
       "  <tbody>\n",
       "    <tr>\n",
       "      <th>0</th>\n",
       "      <td>L</td>\n",
       "      <td>2</td>\n",
       "      <td>ILE</td>\n",
       "      <td>0</td>\n",
       "    </tr>\n",
       "    <tr>\n",
       "      <th>1</th>\n",
       "      <td>L</td>\n",
       "      <td>3</td>\n",
       "      <td>GLU</td>\n",
       "      <td>0</td>\n",
       "    </tr>\n",
       "    <tr>\n",
       "      <th>2</th>\n",
       "      <td>L</td>\n",
       "      <td>4</td>\n",
       "      <td>LEU</td>\n",
       "      <td>0</td>\n",
       "    </tr>\n",
       "    <tr>\n",
       "      <th>3</th>\n",
       "      <td>L</td>\n",
       "      <td>5</td>\n",
       "      <td>THR</td>\n",
       "      <td>0</td>\n",
       "    </tr>\n",
       "    <tr>\n",
       "      <th>4</th>\n",
       "      <td>L</td>\n",
       "      <td>6</td>\n",
       "      <td>GLN</td>\n",
       "      <td>0</td>\n",
       "    </tr>\n",
       "    <tr>\n",
       "      <th>...</th>\n",
       "      <td>...</td>\n",
       "      <td>...</td>\n",
       "      <td>...</td>\n",
       "      <td>...</td>\n",
       "    </tr>\n",
       "    <tr>\n",
       "      <th>411</th>\n",
       "      <td>H</td>\n",
       "      <td>207</td>\n",
       "      <td>ASP</td>\n",
       "      <td>0</td>\n",
       "    </tr>\n",
       "    <tr>\n",
       "      <th>412</th>\n",
       "      <td>H</td>\n",
       "      <td>208</td>\n",
       "      <td>LYS</td>\n",
       "      <td>0</td>\n",
       "    </tr>\n",
       "    <tr>\n",
       "      <th>413</th>\n",
       "      <td>H</td>\n",
       "      <td>209</td>\n",
       "      <td>LYS</td>\n",
       "      <td>0</td>\n",
       "    </tr>\n",
       "    <tr>\n",
       "      <th>414</th>\n",
       "      <td>H</td>\n",
       "      <td>210</td>\n",
       "      <td>ILE</td>\n",
       "      <td>0</td>\n",
       "    </tr>\n",
       "    <tr>\n",
       "      <th>415</th>\n",
       "      <td>H</td>\n",
       "      <td>211</td>\n",
       "      <td>GLU</td>\n",
       "      <td>0</td>\n",
       "    </tr>\n",
       "  </tbody>\n",
       "</table>\n",
       "<p>416 rows × 4 columns</p>\n",
       "</div>"
      ],
      "text/plain": [
       "    chain  residue_label residue_name  pocket\n",
       "0       L              2          ILE       0\n",
       "1       L              3          GLU       0\n",
       "2       L              4          LEU       0\n",
       "3       L              5          THR       0\n",
       "4       L              6          GLN       0\n",
       "..    ...            ...          ...     ...\n",
       "411     H            207          ASP       0\n",
       "412     H            208          LYS       0\n",
       "413     H            209          LYS       0\n",
       "414     H            210          ILE       0\n",
       "415     H            211          GLU       0\n",
       "\n",
       "[416 rows x 4 columns]"
      ]
     },
     "execution_count": 3,
     "metadata": {},
     "output_type": "execute_result"
    }
   ],
   "source": [
    "pdb_residues = pd.read_csv(csv_path)\n",
    "pdb_residues.columns = pdb_residues.columns.str.strip()  # 原始表格列名有空格，这里去除方便索引\n",
    "pdb_residues"
   ]
  },
  {
   "attachments": {},
   "cell_type": "markdown",
   "metadata": {},
   "source": [
    "首先获取pocket的数量，从`pocket`列获取不重复数字，即不重复的口袋数量，目的是获取非0（0表示该氨基酸不属于任何一个口袋）的子图。"
   ]
  },
  {
   "cell_type": "code",
   "execution_count": 4,
   "metadata": {},
   "outputs": [
    {
     "data": {
      "text/plain": [
       "array([0, 1], dtype=int64)"
      ]
     },
     "execution_count": 4,
     "metadata": {},
     "output_type": "execute_result"
    }
   ],
   "source": [
    "pocket_list = pdb_residues[\"pocket\"].unique()\n",
    "pocket_list"
   ]
  },
  {
   "attachments": {},
   "cell_type": "markdown",
   "metadata": {},
   "source": [
    "通过条件索引分别得到pocket=1的氨基酸索引"
   ]
  },
  {
   "cell_type": "code",
   "execution_count": 5,
   "metadata": {},
   "outputs": [
    {
     "data": {
      "text/plain": [
       "[30,\n",
       " 31,\n",
       " 32,\n",
       " 33,\n",
       " 34,\n",
       " 42,\n",
       " 44,\n",
       " 45,\n",
       " 46,\n",
       " 47,\n",
       " 48,\n",
       " 49,\n",
       " 53,\n",
       " 86,\n",
       " 87,\n",
       " 88,\n",
       " 89,\n",
       " 90,\n",
       " 92,\n",
       " 93,\n",
       " 94,\n",
       " 95,\n",
       " 241,\n",
       " 242,\n",
       " 243,\n",
       " 244,\n",
       " 245,\n",
       " 246,\n",
       " 254,\n",
       " 255,\n",
       " 256,\n",
       " 257,\n",
       " 258,\n",
       " 259,\n",
       " 304,\n",
       " 305,\n",
       " 306,\n",
       " 307,\n",
       " 308,\n",
       " 309,\n",
       " 310,\n",
       " 312,\n",
       " 313,\n",
       " 314]"
      ]
     },
     "execution_count": 5,
     "metadata": {},
     "output_type": "execute_result"
    }
   ],
   "source": [
    "pdb_residues[pdb_residues[\"pocket\"] == 1].index.tolist()"
   ]
  },
  {
   "cell_type": "code",
   "execution_count": 7,
   "metadata": {},
   "outputs": [
    {
     "name": "stdout",
     "output_type": "stream",
     "text": [
      "[30, 31, 32, 33, 34, 42, 44, 45, 46, 47, 48, 49, 53, 86, 87, 88, 89, 90, 92, 93, 94, 95, 241, 242, 243, 244, 245, 246, 254, 255, 256, 257, 258, 259, 304, 305, 306, 307, 308, 309, 310, 312, 313, 314]\n"
     ]
    }
   ],
   "source": [
    "current_pocket = pdb_residues[pdb_residues[\"pocket\"] == 1].index.tolist()\n",
    "print(current_pocket)"
   ]
  },
  {
   "cell_type": "markdown",
   "metadata": {},
   "source": [
    "将蛋白质全长变成一个tensor，最好保存为一个pkl进行后续的使用。"
   ]
  },
  {
   "cell_type": "code",
   "execution_count": 9,
   "metadata": {},
   "outputs": [
    {
     "data": {
      "text/plain": [
       "416"
      ]
     },
     "execution_count": 9,
     "metadata": {},
     "output_type": "execute_result"
    }
   ],
   "source": [
    "pdb_residues.shape[0]"
   ]
  },
  {
   "cell_type": "code",
   "execution_count": 11,
   "metadata": {},
   "outputs": [
    {
     "data": {
      "text/plain": [
       "tensor([0., 0., 0., 0., 0., 0., 0., 0., 0., 0., 0., 0., 0., 0., 0., 0., 0., 0., 0., 0., 0., 0., 0., 0.,\n",
       "        0., 0., 0., 0., 0., 0., 0., 0., 0., 0., 0., 0., 0., 0., 0., 0., 0., 0., 0., 0., 0., 0., 0., 0.,\n",
       "        0., 0., 0., 0., 0., 0., 0., 0., 0., 0., 0., 0., 0., 0., 0., 0., 0., 0., 0., 0., 0., 0., 0., 0.,\n",
       "        0., 0., 0., 0., 0., 0., 0., 0., 0., 0., 0., 0., 0., 0., 0., 0., 0., 0., 0., 0., 0., 0., 0., 0.,\n",
       "        0., 0., 0., 0., 0., 0., 0., 0., 0., 0., 0., 0., 0., 0., 0., 0., 0., 0., 0., 0., 0., 0., 0., 0.,\n",
       "        0., 0., 0., 0., 0., 0., 0., 0., 0., 0., 0., 0., 0., 0., 0., 0., 0., 0., 0., 0., 0., 0., 0., 0.,\n",
       "        0., 0., 0., 0., 0., 0., 0., 0., 0., 0., 0., 0., 0., 0., 0., 0., 0., 0., 0., 0., 0., 0., 0., 0.,\n",
       "        0., 0., 0., 0., 0., 0., 0., 0., 0., 0., 0., 0., 0., 0., 0., 0., 0., 0., 0., 0., 0., 0., 0., 0.,\n",
       "        0., 0., 0., 0., 0., 0., 0., 0., 0., 0., 0., 0., 0., 0., 0., 0., 0., 0., 0., 0., 0., 0., 0., 0.,\n",
       "        0., 0., 0., 0., 0., 0., 0., 0., 0., 0., 0., 0., 0., 0., 0., 0., 0., 0., 0., 0., 0., 0., 0., 0.,\n",
       "        0., 0., 0., 0., 0., 0., 0., 0., 0., 0., 0., 0., 0., 0., 0., 0., 0., 0., 0., 0., 0., 0., 0., 0.,\n",
       "        0., 0., 0., 0., 0., 0., 0., 0., 0., 0., 0., 0., 0., 0., 0., 0., 0., 0., 0., 0., 0., 0., 0., 0.,\n",
       "        0., 0., 0., 0., 0., 0., 0., 0., 0., 0., 0., 0., 0., 0., 0., 0., 0., 0., 0., 0., 0., 0., 0., 0.,\n",
       "        0., 0., 0., 0., 0., 0., 0., 0., 0., 0., 0., 0., 0., 0., 0., 0., 0., 0., 0., 0., 0., 0., 0., 0.,\n",
       "        0., 0., 0., 0., 0., 0., 0., 0., 0., 0., 0., 0., 0., 0., 0., 0., 0., 0., 0., 0., 0., 0., 0., 0.,\n",
       "        0., 0., 0., 0., 0., 0., 0., 0., 0., 0., 0., 0., 0., 0., 0., 0., 0., 0., 0., 0., 0., 0., 0., 0.,\n",
       "        0., 0., 0., 0., 0., 0., 0., 0., 0., 0., 0., 0., 0., 0., 0., 0., 0., 0., 0., 0., 0., 0., 0., 0.,\n",
       "        0., 0., 0., 0., 0., 0., 0., 0.])"
      ]
     },
     "execution_count": 11,
     "metadata": {},
     "output_type": "execute_result"
    }
   ],
   "source": [
    "import torch\n",
    "\n",
    "label = torch.zeros(pdb_residues.shape[0])\n",
    "label"
   ]
  },
  {
   "cell_type": "code",
   "execution_count": 12,
   "metadata": {},
   "outputs": [],
   "source": [
    "for index in current_pocket:\n",
    "    label[index] = 1"
   ]
  },
  {
   "cell_type": "code",
   "execution_count": 13,
   "metadata": {},
   "outputs": [
    {
     "data": {
      "text/plain": [
       "tensor([0., 0., 0., 0., 0., 0., 0., 0., 0., 0., 0., 0., 0., 0., 0., 0., 0., 0.,\n",
       "        0., 0., 0., 0., 0., 0., 0., 0., 0., 0., 0., 0., 1., 1., 1., 1., 1., 0.,\n",
       "        0., 0., 0., 0., 0., 0., 1., 0., 1., 1., 1., 1., 1., 1., 0., 0., 0., 1.,\n",
       "        0., 0., 0., 0., 0., 0., 0., 0., 0., 0., 0., 0., 0., 0., 0., 0., 0., 0.,\n",
       "        0., 0., 0., 0., 0., 0., 0., 0., 0., 0., 0., 0., 0., 0., 1., 1., 1., 1.,\n",
       "        1., 0., 1., 1., 1., 1., 0., 0., 0., 0., 0., 0., 0., 0., 0., 0., 0., 0.,\n",
       "        0., 0., 0., 0., 0., 0., 0., 0., 0., 0., 0., 0., 0., 0., 0., 0., 0., 0.,\n",
       "        0., 0., 0., 0., 0., 0., 0., 0., 0., 0., 0., 0., 0., 0., 0., 0., 0., 0.,\n",
       "        0., 0., 0., 0., 0., 0., 0., 0., 0., 0., 0., 0., 0., 0., 0., 0., 0., 0.,\n",
       "        0., 0., 0., 0., 0., 0., 0., 0., 0., 0., 0., 0., 0., 0., 0., 0., 0., 0.,\n",
       "        0., 0., 0., 0., 0., 0., 0., 0., 0., 0., 0., 0., 0., 0., 0., 0., 0., 0.,\n",
       "        0., 0., 0., 0., 0., 0., 0., 0., 0., 0., 0., 0., 0., 0., 0., 0., 0., 0.,\n",
       "        0., 0., 0., 0., 0., 0., 0., 0., 0., 0., 0., 0., 0., 0., 0., 0., 0., 0.,\n",
       "        0., 0., 0., 0., 0., 0., 0., 1., 1., 1., 1., 1., 1., 0., 0., 0., 0., 0.,\n",
       "        0., 0., 1., 1., 1., 1., 1., 1., 0., 0., 0., 0., 0., 0., 0., 0., 0., 0.,\n",
       "        0., 0., 0., 0., 0., 0., 0., 0., 0., 0., 0., 0., 0., 0., 0., 0., 0., 0.,\n",
       "        0., 0., 0., 0., 0., 0., 0., 0., 0., 0., 0., 0., 0., 0., 0., 0., 1., 1.,\n",
       "        1., 1., 1., 1., 1., 0., 1., 1., 1., 0., 0., 0., 0., 0., 0., 0., 0., 0.,\n",
       "        0., 0., 0., 0., 0., 0., 0., 0., 0., 0., 0., 0., 0., 0., 0., 0., 0., 0.,\n",
       "        0., 0., 0., 0., 0., 0., 0., 0., 0., 0., 0., 0., 0., 0., 0., 0., 0., 0.,\n",
       "        0., 0., 0., 0., 0., 0., 0., 0., 0., 0., 0., 0., 0., 0., 0., 0., 0., 0.,\n",
       "        0., 0., 0., 0., 0., 0., 0., 0., 0., 0., 0., 0., 0., 0., 0., 0., 0., 0.,\n",
       "        0., 0., 0., 0., 0., 0., 0., 0., 0., 0., 0., 0., 0., 0., 0., 0., 0., 0.,\n",
       "        0., 0.])"
      ]
     },
     "execution_count": 13,
     "metadata": {},
     "output_type": "execute_result"
    }
   ],
   "source": [
    "label"
   ]
  },
  {
   "cell_type": "code",
   "execution_count": 14,
   "metadata": {},
   "outputs": [
    {
     "data": {
      "text/plain": [
       "torch.Size([416])"
      ]
     },
     "execution_count": 14,
     "metadata": {},
     "output_type": "execute_result"
    }
   ],
   "source": [
    "label.shape"
   ]
  },
  {
   "attachments": {},
   "cell_type": "markdown",
   "metadata": {},
   "source": [
    "### Dataset Pockets"
   ]
  },
  {
   "cell_type": "code",
   "execution_count": 1,
   "metadata": {},
   "outputs": [],
   "source": [
    "import pickle\n",
    "import torch\n",
    "from tqdm import tqdm\n",
    "import pandas as pd\n",
    "from torchdrug import data, utils"
   ]
  },
  {
   "cell_type": "code",
   "execution_count": 2,
   "metadata": {},
   "outputs": [],
   "source": [
    "affinity_csv = '../../../data/dta-datasets/PDBbind/PDBbind_pocket/pdbbind_datasets.csv'\n",
    "pre = \"../../../data/dta-datasets/PDBbind\""
   ]
  },
  {
   "cell_type": "code",
   "execution_count": 3,
   "metadata": {},
   "outputs": [
    {
     "data": {
      "text/html": [
       "<div>\n",
       "<style scoped>\n",
       "    .dataframe tbody tr th:only-of-type {\n",
       "        vertical-align: middle;\n",
       "    }\n",
       "\n",
       "    .dataframe tbody tr th {\n",
       "        vertical-align: top;\n",
       "    }\n",
       "\n",
       "    .dataframe thead th {\n",
       "        text-align: right;\n",
       "    }\n",
       "</style>\n",
       "<table border=\"1\" class=\"dataframe\">\n",
       "  <thead>\n",
       "    <tr style=\"text-align: right;\">\n",
       "      <th></th>\n",
       "      <th>PDB_ID</th>\n",
       "      <th>Drug</th>\n",
       "      <th>Target</th>\n",
       "      <th>Y</th>\n",
       "      <th>Drug_Index</th>\n",
       "      <th>Protein_Index</th>\n",
       "    </tr>\n",
       "  </thead>\n",
       "  <tbody>\n",
       "    <tr>\n",
       "      <th>0</th>\n",
       "      <td>3ZZF</td>\n",
       "      <td>CC(=O)N[C@@H](CCC(=O)O)C(=O)O</td>\n",
       "      <td>NGFSATRSTVIQLLNNISTKREVEQYLKYFTSVSQQQFAVIKVGGA...</td>\n",
       "      <td>0.40</td>\n",
       "      <td>0</td>\n",
       "      <td>0</td>\n",
       "    </tr>\n",
       "    <tr>\n",
       "      <th>1</th>\n",
       "      <td>3GWW</td>\n",
       "      <td>C[NH2+]CC[C@H](Oc1ccc(C(F)(F)F)cc1)c1ccccc1</td>\n",
       "      <td>REHWATRLGLILAMAGNAVGLGNFLRFPVQAAENGGGAFMIPYIIA...</td>\n",
       "      <td>0.45</td>\n",
       "      <td>1</td>\n",
       "      <td>1</td>\n",
       "    </tr>\n",
       "    <tr>\n",
       "      <th>2</th>\n",
       "      <td>1W8L</td>\n",
       "      <td>CC(=O)N1CCC[C@@H](C)C1</td>\n",
       "      <td>MVNPTVFFDIAVDGEPLGRVSFELFADKVPKTAENFRALSTGEKGF...</td>\n",
       "      <td>0.49</td>\n",
       "      <td>2</td>\n",
       "      <td>2</td>\n",
       "    </tr>\n",
       "    <tr>\n",
       "      <th>3</th>\n",
       "      <td>3FQA</td>\n",
       "      <td>Nc1cccc(C(=O)O)c1</td>\n",
       "      <td>KTIKSDEIFAAAQKLMPGGVSSPVRAFKSVGGQPIVFDRVKDAYAW...</td>\n",
       "      <td>0.49</td>\n",
       "      <td>3</td>\n",
       "      <td>3</td>\n",
       "    </tr>\n",
       "    <tr>\n",
       "      <th>4</th>\n",
       "      <td>1ZSB</td>\n",
       "      <td>CC(=O)Nc1nnc(S(N)(=O)=O)s1</td>\n",
       "      <td>HWGYGKHNGPEHWHKDFPIAKGERQSPVDIDTHTAKYDPSLKPLSV...</td>\n",
       "      <td>0.60</td>\n",
       "      <td>4</td>\n",
       "      <td>4</td>\n",
       "    </tr>\n",
       "    <tr>\n",
       "      <th>...</th>\n",
       "      <td>...</td>\n",
       "      <td>...</td>\n",
       "      <td>...</td>\n",
       "      <td>...</td>\n",
       "      <td>...</td>\n",
       "      <td>...</td>\n",
       "    </tr>\n",
       "    <tr>\n",
       "      <th>19349</th>\n",
       "      <td>7CPA</td>\n",
       "      <td>CC(C)[C@H](NC(=O)[C@H](Cc1ccccc1)NC(=O)OCc1ccc...</td>\n",
       "      <td>ARSTNTFNYATYHTLDEIYDFMDLLVAQHPELVSKLQIGRSYEGRP...</td>\n",
       "      <td>13.96</td>\n",
       "      <td>19349</td>\n",
       "      <td>19403</td>\n",
       "    </tr>\n",
       "    <tr>\n",
       "      <th>19350</th>\n",
       "      <td>2XUF</td>\n",
       "      <td>Nc1ccc2c(c1)C(c1ccccc1)N(CCCCCCc1cn(CCNc3c4ccc...</td>\n",
       "      <td>REDPQLLVRVRGGQLRGIRLKAPGGPVSAFLGIPFAEPPVGSRRFM...</td>\n",
       "      <td>14.39</td>\n",
       "      <td>19350</td>\n",
       "      <td>19404</td>\n",
       "    </tr>\n",
       "    <tr>\n",
       "      <th>19351</th>\n",
       "      <td>1AVD</td>\n",
       "      <td>O=C(O)CCCC[C@@H]1SC[C@@H]2NC(=O)N[C@@H]21</td>\n",
       "      <td>KCSLTGKWTNDLGSNMTIGAVNSRGEFTGTYTTAVTATSNEIKESP...</td>\n",
       "      <td>15.00</td>\n",
       "      <td>19351</td>\n",
       "      <td>19405</td>\n",
       "    </tr>\n",
       "    <tr>\n",
       "      <th>19352</th>\n",
       "      <td>2XUI</td>\n",
       "      <td>Nc1ccc2c(c1)C(c1ccccc1)N(CCCCCCc1cnnn1CCNc1c3c...</td>\n",
       "      <td>EGREDPQLLVRVRGGQLRGIRLKAPGGPVSAFLGIPFAEPPVGSRR...</td>\n",
       "      <td>15.00</td>\n",
       "      <td>19352</td>\n",
       "      <td>19406</td>\n",
       "    </tr>\n",
       "    <tr>\n",
       "      <th>19353</th>\n",
       "      <td>2AVI</td>\n",
       "      <td>O=C(O)CCCC[C@@H]1SC[C@@H]2NC(=O)N[C@@H]21</td>\n",
       "      <td>KCSLTGKWTNDLGSNMTIGAVNSRGEFTGTYTTAVTATSNEIKESP...</td>\n",
       "      <td>15.22</td>\n",
       "      <td>19353</td>\n",
       "      <td>19407</td>\n",
       "    </tr>\n",
       "  </tbody>\n",
       "</table>\n",
       "<p>19354 rows × 6 columns</p>\n",
       "</div>"
      ],
      "text/plain": [
       "      PDB_ID                                               Drug  \\\n",
       "0       3ZZF                      CC(=O)N[C@@H](CCC(=O)O)C(=O)O   \n",
       "1       3GWW        C[NH2+]CC[C@H](Oc1ccc(C(F)(F)F)cc1)c1ccccc1   \n",
       "2       1W8L                             CC(=O)N1CCC[C@@H](C)C1   \n",
       "3       3FQA                                  Nc1cccc(C(=O)O)c1   \n",
       "4       1ZSB                         CC(=O)Nc1nnc(S(N)(=O)=O)s1   \n",
       "...      ...                                                ...   \n",
       "19349   7CPA  CC(C)[C@H](NC(=O)[C@H](Cc1ccccc1)NC(=O)OCc1ccc...   \n",
       "19350   2XUF  Nc1ccc2c(c1)C(c1ccccc1)N(CCCCCCc1cn(CCNc3c4ccc...   \n",
       "19351   1AVD          O=C(O)CCCC[C@@H]1SC[C@@H]2NC(=O)N[C@@H]21   \n",
       "19352   2XUI  Nc1ccc2c(c1)C(c1ccccc1)N(CCCCCCc1cnnn1CCNc1c3c...   \n",
       "19353   2AVI          O=C(O)CCCC[C@@H]1SC[C@@H]2NC(=O)N[C@@H]21   \n",
       "\n",
       "                                                  Target      Y  Drug_Index  \\\n",
       "0      NGFSATRSTVIQLLNNISTKREVEQYLKYFTSVSQQQFAVIKVGGA...   0.40           0   \n",
       "1      REHWATRLGLILAMAGNAVGLGNFLRFPVQAAENGGGAFMIPYIIA...   0.45           1   \n",
       "2      MVNPTVFFDIAVDGEPLGRVSFELFADKVPKTAENFRALSTGEKGF...   0.49           2   \n",
       "3      KTIKSDEIFAAAQKLMPGGVSSPVRAFKSVGGQPIVFDRVKDAYAW...   0.49           3   \n",
       "4      HWGYGKHNGPEHWHKDFPIAKGERQSPVDIDTHTAKYDPSLKPLSV...   0.60           4   \n",
       "...                                                  ...    ...         ...   \n",
       "19349  ARSTNTFNYATYHTLDEIYDFMDLLVAQHPELVSKLQIGRSYEGRP...  13.96       19349   \n",
       "19350  REDPQLLVRVRGGQLRGIRLKAPGGPVSAFLGIPFAEPPVGSRRFM...  14.39       19350   \n",
       "19351  KCSLTGKWTNDLGSNMTIGAVNSRGEFTGTYTTAVTATSNEIKESP...  15.00       19351   \n",
       "19352  EGREDPQLLVRVRGGQLRGIRLKAPGGPVSAFLGIPFAEPPVGSRR...  15.00       19352   \n",
       "19353  KCSLTGKWTNDLGSNMTIGAVNSRGEFTGTYTTAVTATSNEIKESP...  15.22       19353   \n",
       "\n",
       "       Protein_Index  \n",
       "0                  0  \n",
       "1                  1  \n",
       "2                  2  \n",
       "3                  3  \n",
       "4                  4  \n",
       "...              ...  \n",
       "19349          19403  \n",
       "19350          19404  \n",
       "19351          19405  \n",
       "19352          19406  \n",
       "19353          19407  \n",
       "\n",
       "[19354 rows x 6 columns]"
      ]
     },
     "execution_count": 3,
     "metadata": {},
     "output_type": "execute_result"
    }
   ],
   "source": [
    "pdbbind_affinities= pd.read_csv(affinity_csv)\n",
    "pdbbind_affinities"
   ]
  },
  {
   "cell_type": "code",
   "execution_count": 5,
   "metadata": {},
   "outputs": [
    {
     "name": "stderr",
     "output_type": "stream",
     "text": [
      "100%|██████████| 19354/19354 [02:41<00:00, 119.54it/s]\n"
     ]
    }
   ],
   "source": [
    "label_list = []\n",
    "for pdb in tqdm(pdbbind_affinities.PDB_ID):\n",
    "    pdb_name = pdb.lower()\n",
    "    csv_path = pre + \"/PDBbind_file/\" + pdb_name + \"/\" + pdb_name + \"_proteins.csv\"\n",
    "    pdb_residues = pd.read_csv(csv_path)\n",
    "    pdb_residues.columns = pdb_residues.columns.str.strip()  # 原始表格列名有空格，这里去除方便索引\n",
    "    current_pocket = pdb_residues[pdb_residues[\"pocket\"] == 1].index.tolist()\n",
    "    label = torch.zeros(pdb_residues.shape[0])\n",
    "    for index in current_pocket:\n",
    "        label[index] = 1\n",
    "    label_list.append(label)"
   ]
  },
  {
   "cell_type": "code",
   "execution_count": 7,
   "metadata": {},
   "outputs": [
    {
     "data": {
      "text/plain": [
       "19354"
      ]
     },
     "execution_count": 7,
     "metadata": {},
     "output_type": "execute_result"
    }
   ],
   "source": [
    "len(label_list)"
   ]
  },
  {
   "cell_type": "code",
   "execution_count": 8,
   "metadata": {},
   "outputs": [],
   "source": [
    "label_pkl = '../../../data/dta-datasets/PDBbind/PDBbind_pocket/pocket_label.pkl'\n",
    "with utils.smart_open(label_pkl, \"wb\") as fout:\n",
    "    pickle.dump(label_list, fout)"
   ]
  }
 ],
 "metadata": {
  "kernelspec": {
   "display_name": "Python 3.8.13 ('torchdrug')",
   "language": "python",
   "name": "python3"
  },
  "language_info": {
   "codemirror_mode": {
    "name": "ipython",
    "version": 3
   },
   "file_extension": ".py",
   "mimetype": "text/x-python",
   "name": "python",
   "nbconvert_exporter": "python",
   "pygments_lexer": "ipython3",
   "version": "3.8.13"
  },
  "orig_nbformat": 4,
  "vscode": {
   "interpreter": {
    "hash": "cb15710f8c0deeed06839ee1c6afab27549449016d814ee789699df3eb9a6173"
   }
  }
 },
 "nbformat": 4,
 "nbformat_minor": 2
}

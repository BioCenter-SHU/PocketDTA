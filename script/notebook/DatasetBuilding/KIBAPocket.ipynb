{
 "cells": [
  {
   "cell_type": "markdown",
   "metadata": {},
   "source": [
    "## PDB construction"
   ]
  },
  {
   "cell_type": "code",
   "execution_count": 1,
   "metadata": {},
   "outputs": [],
   "source": [
    "from torchdrug import data, utils\n",
    "import pickle\n",
    "import pandas as pd"
   ]
  },
  {
   "cell_type": "code",
   "execution_count": 2,
   "metadata": {},
   "outputs": [],
   "source": [
    "path = \"../../../data/dta-datasets/KIBA/\"\n",
    "protein_file = path + \"kiba_proteins.csv\"\n",
    "protein_pkl = path + \"pdb_Protein.pkl\""
   ]
  },
  {
   "cell_type": "code",
   "execution_count": 3,
   "metadata": {},
   "outputs": [
    {
     "data": {
      "text/html": [
       "<div>\n",
       "<style scoped>\n",
       "    .dataframe tbody tr th:only-of-type {\n",
       "        vertical-align: middle;\n",
       "    }\n",
       "\n",
       "    .dataframe tbody tr th {\n",
       "        vertical-align: top;\n",
       "    }\n",
       "\n",
       "    .dataframe thead th {\n",
       "        text-align: right;\n",
       "    }\n",
       "</style>\n",
       "<table border=\"1\" class=\"dataframe\">\n",
       "  <thead>\n",
       "    <tr style=\"text-align: right;\">\n",
       "      <th></th>\n",
       "      <th>Gene</th>\n",
       "      <th>Sequence</th>\n",
       "      <th>AA length</th>\n",
       "      <th>PDBID</th>\n",
       "    </tr>\n",
       "  </thead>\n",
       "  <tbody>\n",
       "    <tr>\n",
       "      <th>0</th>\n",
       "      <td>O00141</td>\n",
       "      <td>MTVKTEAAKGTLTYSRMRGMVAILIAFMKQRRMGLNDFIQKIANNS...</td>\n",
       "      <td>431</td>\n",
       "      <td>O00141</td>\n",
       "    </tr>\n",
       "    <tr>\n",
       "      <th>1</th>\n",
       "      <td>O00311</td>\n",
       "      <td>MEASLGIQMDEPMAFSPQRDRFQAEGSLKKNEQNFKLAGVKKDIEK...</td>\n",
       "      <td>574</td>\n",
       "      <td>O00311</td>\n",
       "    </tr>\n",
       "    <tr>\n",
       "      <th>2</th>\n",
       "      <td>O00329</td>\n",
       "      <td>MPPGVDCPMEFWTKEENQSVVVDFLLPTGVYLNFPVSRNANLSTIK...</td>\n",
       "      <td>1044</td>\n",
       "      <td>O00329</td>\n",
       "    </tr>\n",
       "    <tr>\n",
       "      <th>3</th>\n",
       "      <td>O00418</td>\n",
       "      <td>MADEDLIFRLEGVDGGQSPRAGHDGDSDGDSDDEEGYFICPITDDP...</td>\n",
       "      <td>725</td>\n",
       "      <td>O00418</td>\n",
       "    </tr>\n",
       "    <tr>\n",
       "      <th>4</th>\n",
       "      <td>O00444</td>\n",
       "      <td>MATCIGEKIEDFKVGNLLGKGSFAGVYRAESIHTGLEVAIKMIDKK...</td>\n",
       "      <td>970</td>\n",
       "      <td>O00444</td>\n",
       "    </tr>\n",
       "    <tr>\n",
       "      <th>...</th>\n",
       "      <td>...</td>\n",
       "      <td>...</td>\n",
       "      <td>...</td>\n",
       "      <td>...</td>\n",
       "    </tr>\n",
       "    <tr>\n",
       "      <th>224</th>\n",
       "      <td>Q9Y243</td>\n",
       "      <td>MSDVTIVKEGWVQKRGEYIKNWRPRYFLLKTDGSFIGYKEKPQDVD...</td>\n",
       "      <td>479</td>\n",
       "      <td>Q9Y243</td>\n",
       "    </tr>\n",
       "    <tr>\n",
       "      <th>225</th>\n",
       "      <td>Q9Y463</td>\n",
       "      <td>MAVPPGHGPFSGFPGPQEHTQVLPDVRLLPRRLPLAFRDATSAPLR...</td>\n",
       "      <td>629</td>\n",
       "      <td>Q9Y463</td>\n",
       "    </tr>\n",
       "    <tr>\n",
       "      <th>226</th>\n",
       "      <td>Q9Y478</td>\n",
       "      <td>MGNTSSERAALERHGGHKTPRRDSSGGTKDGDRPKILMDSPEDADL...</td>\n",
       "      <td>270</td>\n",
       "      <td>Q9Y478</td>\n",
       "    </tr>\n",
       "    <tr>\n",
       "      <th>227</th>\n",
       "      <td>Q9Y4K4</td>\n",
       "      <td>MEAPLRPAADILRRNPQQDYELVQRVGSGTYGDVYKARNVHTGELA...</td>\n",
       "      <td>846</td>\n",
       "      <td>Q9Y4K4</td>\n",
       "    </tr>\n",
       "    <tr>\n",
       "      <th>228</th>\n",
       "      <td>Q9Y6M4</td>\n",
       "      <td>MENKKKDKDKSDDRMARPSGRSGHNTRGTGSSSSGVLMVGPNFRVG...</td>\n",
       "      <td>447</td>\n",
       "      <td>Q9Y6M4</td>\n",
       "    </tr>\n",
       "  </tbody>\n",
       "</table>\n",
       "<p>229 rows × 4 columns</p>\n",
       "</div>"
      ],
      "text/plain": [
       "       Gene                                           Sequence  AA length  \\\n",
       "0    O00141  MTVKTEAAKGTLTYSRMRGMVAILIAFMKQRRMGLNDFIQKIANNS...        431   \n",
       "1    O00311  MEASLGIQMDEPMAFSPQRDRFQAEGSLKKNEQNFKLAGVKKDIEK...        574   \n",
       "2    O00329  MPPGVDCPMEFWTKEENQSVVVDFLLPTGVYLNFPVSRNANLSTIK...       1044   \n",
       "3    O00418  MADEDLIFRLEGVDGGQSPRAGHDGDSDGDSDDEEGYFICPITDDP...        725   \n",
       "4    O00444  MATCIGEKIEDFKVGNLLGKGSFAGVYRAESIHTGLEVAIKMIDKK...        970   \n",
       "..      ...                                                ...        ...   \n",
       "224  Q9Y243  MSDVTIVKEGWVQKRGEYIKNWRPRYFLLKTDGSFIGYKEKPQDVD...        479   \n",
       "225  Q9Y463  MAVPPGHGPFSGFPGPQEHTQVLPDVRLLPRRLPLAFRDATSAPLR...        629   \n",
       "226  Q9Y478  MGNTSSERAALERHGGHKTPRRDSSGGTKDGDRPKILMDSPEDADL...        270   \n",
       "227  Q9Y4K4  MEAPLRPAADILRRNPQQDYELVQRVGSGTYGDVYKARNVHTGELA...        846   \n",
       "228  Q9Y6M4  MENKKKDKDKSDDRMARPSGRSGHNTRGTGSSSSGVLMVGPNFRVG...        447   \n",
       "\n",
       "      PDBID  \n",
       "0    O00141  \n",
       "1    O00311  \n",
       "2    O00329  \n",
       "3    O00418  \n",
       "4    O00444  \n",
       "..      ...  \n",
       "224  Q9Y243  \n",
       "225  Q9Y463  \n",
       "226  Q9Y478  \n",
       "227  Q9Y4K4  \n",
       "228  Q9Y6M4  \n",
       "\n",
       "[229 rows x 4 columns]"
      ]
     },
     "execution_count": 3,
     "metadata": {},
     "output_type": "execute_result"
    }
   ],
   "source": [
    "protein_df = pd.read_csv(protein_file)\n",
    "protein_df"
   ]
  },
  {
   "cell_type": "code",
   "execution_count": 4,
   "metadata": {},
   "outputs": [
    {
     "name": "stdout",
     "output_type": "stream",
     "text": [
      "../../../data/dta-datasets/KIBA/pdb/AF-O00141-F1-model_v4.pdb\n",
      "../../../data/dta-datasets/KIBA/pdb/AF-O00311-F1-model_v4.pdb\n",
      "../../../data/dta-datasets/KIBA/pdb/AF-O00329-F1-model_v4.pdb\n",
      "../../../data/dta-datasets/KIBA/pdb/AF-O00418-F1-model_v4.pdb\n",
      "../../../data/dta-datasets/KIBA/pdb/AF-O00444-F1-model_v4.pdb\n",
      "../../../data/dta-datasets/KIBA/pdb/AF-O14757-F1-model_v4.pdb\n",
      "../../../data/dta-datasets/KIBA/pdb/AF-O14920-F1-model_v4.pdb\n",
      "../../../data/dta-datasets/KIBA/pdb/AF-O14965-F1-model_v4.pdb\n",
      "../../../data/dta-datasets/KIBA/pdb/AF-O15075-F1-model_v4.pdb\n",
      "../../../data/dta-datasets/KIBA/pdb/AF-O15111-F1-model_v4.pdb\n",
      "../../../data/dta-datasets/KIBA/pdb/AF-O15264-F1-model_v4.pdb\n",
      "../../../data/dta-datasets/KIBA/pdb/AF-O15530-F1-model_v4.pdb\n",
      "../../../data/dta-datasets/KIBA/pdb/AF-O43293-F1-model_v4.pdb\n",
      "../../../data/dta-datasets/KIBA/pdb/AF-O43741-F1-model_v4.pdb\n",
      "../../../data/dta-datasets/KIBA/pdb/AF-O43781-F1-model_v4.pdb\n",
      "../../../data/dta-datasets/KIBA/pdb/AF-O60285-F1-model_v4.pdb\n",
      "../../../data/dta-datasets/KIBA/pdb/AF-O60674-F1-model_v4.pdb\n",
      "../../../data/dta-datasets/KIBA/pdb/AF-O75116-F1-model_v4.pdb\n",
      "../../../data/dta-datasets/KIBA/pdb/AF-O75582-F1-model_v4.pdb\n",
      "../../../data/dta-datasets/KIBA/pdb/AF-O75676-F1-model_v4.pdb\n",
      "../../../data/dta-datasets/KIBA/pdb/AF-O94806-F1-model_v4.pdb\n",
      "../../../data/dta-datasets/KIBA/pdb/AF-O95819-F1-model_v4.pdb\n",
      "../../../data/dta-datasets/KIBA/pdb/AF-O96013-F1-model_v4.pdb\n",
      "../../../data/dta-datasets/KIBA/pdb/AF-O96017-F1-model_v4.pdb\n",
      "../../../data/dta-datasets/KIBA/pdb/AF-P00519-F1-model_v4.pdb\n",
      "../../../data/dta-datasets/KIBA/pdb/AF-P00533-F1-model_v4.pdb\n",
      "../../../data/dta-datasets/KIBA/pdb/AF-P04049-F1-model_v4.pdb\n",
      "../../../data/dta-datasets/KIBA/pdb/AF-P04626-F1-model_v4.pdb\n",
      "../../../data/dta-datasets/KIBA/pdb/AF-P04629-F1-model_v4.pdb\n",
      "../../../data/dta-datasets/KIBA/pdb/AF-P05129-F1-model_v4.pdb\n",
      "../../../data/dta-datasets/KIBA/pdb/AF-P05771-F1-model_v4.pdb\n",
      "../../../data/dta-datasets/KIBA/pdb/AF-P06213-F1-model_v4.pdb\n",
      "../../../data/dta-datasets/KIBA/pdb/AF-P06239-F1-model_v4.pdb\n",
      "../../../data/dta-datasets/KIBA/pdb/AF-P06241-F1-model_v4.pdb\n",
      "../../../data/dta-datasets/KIBA/pdb/AF-P06493-F1-model_v4.pdb\n",
      "../../../data/dta-datasets/KIBA/pdb/AF-P07332-F1-model_v4.pdb\n",
      "../../../data/dta-datasets/KIBA/pdb/AF-P07333-F1-model_v4.pdb\n",
      "../../../data/dta-datasets/KIBA/pdb/AF-P07947-F1-model_v4.pdb\n",
      "../../../data/dta-datasets/KIBA/pdb/AF-P07948-F1-model_v4.pdb\n",
      "../../../data/dta-datasets/KIBA/pdb/AF-P07949-F1-model_v4.pdb\n",
      "../../../data/dta-datasets/KIBA/pdb/AF-P08069-F1-model_v4.pdb\n",
      "../../../data/dta-datasets/KIBA/pdb/AF-P08581-F1-model_v4.pdb\n",
      "../../../data/dta-datasets/KIBA/pdb/AF-P08631-F1-model_v4.pdb\n",
      "../../../data/dta-datasets/KIBA/pdb/AF-P08922-F1-model_v4.pdb\n",
      "../../../data/dta-datasets/KIBA/pdb/AF-P09619-F1-model_v4.pdb\n",
      "../../../data/dta-datasets/KIBA/pdb/AF-P09769-F1-model_v4.pdb\n",
      "../../../data/dta-datasets/KIBA/pdb/AF-P10721-F1-model_v4.pdb\n",
      "../../../data/dta-datasets/KIBA/pdb/AF-P11309-F1-model_v4.pdb\n",
      "../../../data/dta-datasets/KIBA/pdb/AF-P11362-F1-model_v4.pdb\n",
      "../../../data/dta-datasets/KIBA/pdb/AF-P11802-F1-model_v4.pdb\n",
      "../../../data/dta-datasets/KIBA/pdb/AF-P12931-F1-model_v4.pdb\n",
      "../../../data/dta-datasets/KIBA/pdb/AF-P15056-F1-model_v4.pdb\n",
      "../../../data/dta-datasets/KIBA/pdb/AF-P15735-F1-model_v4.pdb\n",
      "../../../data/dta-datasets/KIBA/pdb/AF-P16234-F1-model_v4.pdb\n",
      "../../../data/dta-datasets/KIBA/pdb/AF-P16591-F1-model_v4.pdb\n",
      "../../../data/dta-datasets/KIBA/pdb/AF-P17252-F1-model_v4.pdb\n",
      "../../../data/dta-datasets/KIBA/pdb/AF-P17612-F1-model_v4.pdb\n",
      "../../../data/dta-datasets/KIBA/pdb/AF-P17948-F1-model_v4.pdb\n",
      "../../../data/dta-datasets/KIBA/pdb/AF-P19784-F1-model_v4.pdb\n",
      "../../../data/dta-datasets/KIBA/pdb/AF-P21802-F1-model_v4.pdb\n",
      "../../../data/dta-datasets/KIBA/pdb/AF-P22455-F1-model_v4.pdb\n",
      "../../../data/dta-datasets/KIBA/pdb/AF-P22607-F1-model_v4.pdb\n",
      "../../../data/dta-datasets/KIBA/pdb/AF-P22612-F1-model_v4.pdb\n",
      "../../../data/dta-datasets/KIBA/pdb/AF-P22694-F1-model_v4.pdb\n",
      "../../../data/dta-datasets/KIBA/pdb/AF-P23443-F1-model_v4.pdb\n",
      "../../../data/dta-datasets/KIBA/pdb/AF-P23458-F1-model_v4.pdb\n",
      "../../../data/dta-datasets/KIBA/pdb/AF-P24723-F1-model_v4.pdb\n",
      "../../../data/dta-datasets/KIBA/pdb/AF-P24941-F1-model_v4.pdb\n",
      "../../../data/dta-datasets/KIBA/pdb/AF-P27361-F1-model_v4.pdb\n",
      "../../../data/dta-datasets/KIBA/pdb/AF-P27448-F1-model_v4.pdb\n",
      "../../../data/dta-datasets/KIBA/pdb/AF-P28482-F1-model_v4.pdb\n",
      "../../../data/dta-datasets/KIBA/pdb/AF-P29317-F1-model_v4.pdb\n",
      "../../../data/dta-datasets/KIBA/pdb/AF-P29323-F1-model_v4.pdb\n",
      "../../../data/dta-datasets/KIBA/pdb/AF-P29376-F1-model_v4.pdb\n",
      "../../../data/dta-datasets/KIBA/pdb/AF-P29597-F1-model_v4.pdb\n",
      "../../../data/dta-datasets/KIBA/pdb/AF-P30291-F1-model_v4.pdb\n",
      "../../../data/dta-datasets/KIBA/pdb/AF-P30530-F1-model_v4.pdb\n",
      "../../../data/dta-datasets/KIBA/pdb/AF-P31749-F1-model_v4.pdb\n",
      "../../../data/dta-datasets/KIBA/pdb/AF-P31751-F1-model_v4.pdb\n",
      "../../../data/dta-datasets/KIBA/pdb/AF-P34947-F1-model_v4.pdb\n",
      "../../../data/dta-datasets/KIBA/pdb/AF-P35916-F1-model_v4.pdb\n",
      "../../../data/dta-datasets/KIBA/pdb/AF-P35968-F1-model_v4.pdb\n",
      "../../../data/dta-datasets/KIBA/pdb/AF-P36507-F1-model_v4.pdb\n",
      "../../../data/dta-datasets/KIBA/pdb/AF-P36888-F1-model_v4.pdb\n",
      "../../../data/dta-datasets/KIBA/pdb/AF-P41240-F1-model_v4.pdb\n",
      "../../../data/dta-datasets/KIBA/pdb/AF-P41279-F1-model_v4.pdb\n",
      "../../../data/dta-datasets/KIBA/pdb/AF-P41743-F1-model_v4.pdb\n",
      "../../../data/dta-datasets/KIBA/pdb/AF-P42336-F1-model_v4.pdb\n",
      "../../../data/dta-datasets/KIBA/pdb/AF-P42338-F1-model_v4.pdb\n",
      "../../../data/dta-datasets/KIBA/pdb/AF-P42345-F1-model_v4.pdb\n",
      "../../../data/dta-datasets/KIBA/pdb/AF-P42679-F1-model_v4.pdb\n",
      "../../../data/dta-datasets/KIBA/pdb/AF-P42684-F1-model_v4.pdb\n",
      "../../../data/dta-datasets/KIBA/pdb/AF-P42685-F1-model_v4.pdb\n",
      "../../../data/dta-datasets/KIBA/pdb/AF-P43403-F1-model_v4.pdb\n",
      "../../../data/dta-datasets/KIBA/pdb/AF-P43405-F1-model_v4.pdb\n",
      "../../../data/dta-datasets/KIBA/pdb/AF-P45983-F1-model_v4.pdb\n",
      "../../../data/dta-datasets/KIBA/pdb/AF-P45984-F1-model_v4.pdb\n",
      "../../../data/dta-datasets/KIBA/pdb/AF-P48729-F1-model_v4.pdb\n",
      "../../../data/dta-datasets/KIBA/pdb/AF-P48730-F1-model_v4.pdb\n",
      "../../../data/dta-datasets/KIBA/pdb/AF-P48736-F1-model_v4.pdb\n",
      "../../../data/dta-datasets/KIBA/pdb/AF-P49137-F1-model_v4.pdb\n",
      "../../../data/dta-datasets/KIBA/pdb/AF-P49336-F1-model_v4.pdb\n",
      "../../../data/dta-datasets/KIBA/pdb/AF-P49674-F1-model_v4.pdb\n",
      "../../../data/dta-datasets/KIBA/pdb/AF-P49759-F1-model_v4.pdb\n",
      "../../../data/dta-datasets/KIBA/pdb/AF-P49760-F1-model_v4.pdb\n",
      "../../../data/dta-datasets/KIBA/pdb/AF-P49840-F1-model_v4.pdb\n",
      "../../../data/dta-datasets/KIBA/pdb/AF-P49841-F1-model_v4.pdb\n",
      "../../../data/dta-datasets/KIBA/pdb/AF-P50613-F1-model_v4.pdb\n",
      "../../../data/dta-datasets/KIBA/pdb/AF-P50750-F1-model_v4.pdb\n",
      "../../../data/dta-datasets/KIBA/pdb/AF-P51451-F1-model_v4.pdb\n",
      "../../../data/dta-datasets/KIBA/pdb/AF-P51617-F1-model_v4.pdb\n",
      "../../../data/dta-datasets/KIBA/pdb/AF-P51812-F1-model_v4.pdb\n",
      "../../../data/dta-datasets/KIBA/pdb/AF-P51813-F1-model_v4.pdb\n",
      "../../../data/dta-datasets/KIBA/pdb/AF-P51817-F1-model_v4.pdb\n",
      "../../../data/dta-datasets/KIBA/pdb/AF-P51955-F1-model_v4.pdb\n",
      "../../../data/dta-datasets/KIBA/pdb/AF-P51957-F1-model_v4.pdb\n",
      "../../../data/dta-datasets/KIBA/pdb/AF-P52333-F1-model_v4.pdb\n",
      "../../../data/dta-datasets/KIBA/pdb/AF-P52564-F1-model_v4.pdb\n",
      "../../../data/dta-datasets/KIBA/pdb/AF-P53350-F1-model_v4.pdb\n",
      "../../../data/dta-datasets/KIBA/pdb/AF-P53667-F1-model_v4.pdb\n",
      "../../../data/dta-datasets/KIBA/pdb/AF-P53778-F1-model_v4.pdb\n",
      "../../../data/dta-datasets/KIBA/pdb/AF-P53779-F1-model_v4.pdb\n",
      "../../../data/dta-datasets/KIBA/pdb/AF-P54619-F1-model_v4.pdb\n",
      "../../../data/dta-datasets/KIBA/pdb/AF-P54646-F1-model_v4.pdb\n",
      "../../../data/dta-datasets/KIBA/pdb/AF-P54760-F1-model_v4.pdb\n",
      "../../../data/dta-datasets/KIBA/pdb/AF-P67870-F1-model_v4.pdb\n",
      "../../../data/dta-datasets/KIBA/pdb/AF-P68400-F1-model_v4.pdb\n",
      "../../../data/dta-datasets/KIBA/pdb/AF-P78368-F1-model_v4.pdb\n"
     ]
    }
   ],
   "source": [
    "protein_list = []  \n",
    "pdbs = protein_df[\"PDBID\"].tolist() \n",
    "for index in range(0, 128):\n",
    "    # alphafold 3d pdb format 'AF-O06917-F1-model_v3.pdb'\n",
    "    pdb_name = path + 'pdb/AF-' + pdbs[index] + '-F1-model_v4.pdb'\n",
    "    print(pdb_name)\n",
    "    protein = data.Protein.from_pdb(pdb_name)\n",
    "    protein_list.append(protein)"
   ]
  },
  {
   "cell_type": "code",
   "execution_count": 5,
   "metadata": {},
   "outputs": [
    {
     "data": {
      "text/plain": [
       "128"
      ]
     },
     "execution_count": 5,
     "metadata": {},
     "output_type": "execute_result"
    }
   ],
   "source": [
    "len(protein_list)"
   ]
  },
  {
   "cell_type": "markdown",
   "metadata": {},
   "source": [
    "P78527 need to process separately"
   ]
  },
  {
   "cell_type": "code",
   "execution_count": 7,
   "metadata": {},
   "outputs": [
    {
     "name": "stdout",
     "output_type": "stream",
     "text": [
      "Protein(num_atom=11082, num_bond=22620, num_residue=1400)\n",
      "Protein(num_atom=11237, num_bond=22944, num_residue=1400)\n",
      "Protein(num_atom=10641, num_bond=21728, num_residue=1328)\n"
     ]
    }
   ],
   "source": [
    "p78527_list = []\n",
    "for index in range(0, 3):\n",
    "    pdb_name = path + 'pdb/P78527/AF-P78527-F' + str(index * 7 + 1) + '-model_v4.pdb'\n",
    "    # print(pdb_name)\n",
    "    protein = data.Protein.from_pdb(pdb_name)\n",
    "    print(protein)\n",
    "    p78527_list.append(protein)"
   ]
  },
  {
   "cell_type": "code",
   "execution_count": 8,
   "metadata": {},
   "outputs": [
    {
     "data": {
      "text/plain": [
       "[Protein(num_atom=11082, num_bond=22620, num_residue=1400),\n",
       " Protein(num_atom=11237, num_bond=22944, num_residue=1400),\n",
       " Protein(num_atom=10641, num_bond=21728, num_residue=1328)]"
      ]
     },
     "execution_count": 8,
     "metadata": {},
     "output_type": "execute_result"
    }
   ],
   "source": [
    "p78527_list"
   ]
  },
  {
   "cell_type": "code",
   "execution_count": 9,
   "metadata": {},
   "outputs": [
    {
     "data": {
      "text/plain": [
       "PackedProtein(batch_size=3, num_atoms=[11082, 11237, 10641], num_bonds=[22620, 22944, 21728], num_residues=[1400, 1400, 1328])"
      ]
     },
     "execution_count": 9,
     "metadata": {},
     "output_type": "execute_result"
    }
   ],
   "source": [
    "p78527 = data.Protein.pack(p78527_list)\n",
    "p78527"
   ]
  },
  {
   "cell_type": "code",
   "execution_count": 10,
   "metadata": {},
   "outputs": [
    {
     "data": {
      "text/plain": [
       "PackedProtein(batch_size=1, num_atoms=[32960], num_bonds=[67292], num_residues=[4128])"
      ]
     },
     "execution_count": 10,
     "metadata": {},
     "output_type": "execute_result"
    }
   ],
   "source": [
    "packed_p78527 = data.Protein.pack([p78527])\n",
    "packed_p78527"
   ]
  },
  {
   "cell_type": "code",
   "execution_count": 11,
   "metadata": {},
   "outputs": [
    {
     "data": {
      "text/plain": [
       "Protein(num_atom=32960, num_bond=67292, num_residue=4128)"
      ]
     },
     "execution_count": 11,
     "metadata": {},
     "output_type": "execute_result"
    }
   ],
   "source": [
    "p78527_pocket = packed_p78527.unpack()\n",
    "p78527_pocket[0]"
   ]
  },
  {
   "cell_type": "code",
   "execution_count": 22,
   "metadata": {},
   "outputs": [
    {
     "data": {
      "text/plain": [
       "tensor(4128)"
      ]
     },
     "execution_count": 22,
     "metadata": {},
     "output_type": "execute_result"
    }
   ],
   "source": [
    "p78527_pocket[0].num_residue"
   ]
  },
  {
   "cell_type": "code",
   "execution_count": 21,
   "metadata": {},
   "outputs": [
    {
     "data": {
      "text/plain": [
       "'R.DPIIAKQLFSSLFSGILKEMDKFKTLSEKNNITQKLLQDFNRFLNTTFSFFPPFVSCIQDISCQHAALLSLDPAAVSAGCLASLQQPVGIRLLEEALLRLLPAELPAKRVRGKARLPPDVLRWVELAKLYRSIGEYDVLRGIFTSEIGTKQITQSALLAEARSDYSEAAKQYDEALNKQDWVDGEPTEAEKDFWELASLDCYNHLAEWKSLEYCSTASIDSENPPDLNKIWSEPFYQETYLPYMIRSKLKLLLQGEADQSLLTFIDKAMHGELQKAILELHYSQELSLLYLLQDDVDRAKYYIQNGIQSFMQNYSSIDVLLHQSRLTKLQSVQALTEIQEFISFISKQGNLSSQVPLKRLLNTWTNRYPDAKMDPMNIWDDIITNRCFFLSKIEEKLTPLPEDNSMNVDQDGDPSDRMEVQEQEEDISSLIRSCKFSMKMKMIDSARKQNNFSLAMKLLKELHKESKTRDDWLVSWVQSYCRLSHCRSRSQGCSEQVLTVLKTVSLLDENNVSSYLSKNILAFRDQNILLGTTYRIIANALSSEPACLAEIEEDKARRILELSGSSSEDSEKVIAGLYQRAFQHLSEAVQAAEEEAQPPSWSCGPAAGVIDAYMTLADFCDQQLRKEEENASVIDSAELQAYPALVVEKMLKALKLNSNEARLKFPRLLQIIERYPEETLSLMTKEISSVPCWQFISWISHMVALLDKDQAVAVQHSVEEITDNYPQAIVYPFIISSESYSFKDTSTGHKNKEFVARIKSKLDQGGVIQDFINALDQLSNPELLFKDWSNDVRAELAKTPVNKKNIEKMYERMYAALGDPKAPGLGAFRRKFIQTFGKEFDKHFGKGGSKLLRMKLSDFNDITNMLLLKMNKDSKPPGNLKECSPWMSDFKVEFLRNELEIPGQYDGRGKPLPEYHVRIAGFDERVTVMASLRRPKRIIIRGHDEREHPFLVKGGEDLRQDQRVEQLFQVMNGILAQDSACSQRALQLRTYSVVPMTSRLGLIEWLENTVTLKDLLLNTMSQEEKAAYLSDPRAPPCEYKDWLTKMSGKHDVGAYMLMYKGANRTETVTSFRKRESKVPADLLKRAFVRMSTSPEAFLALRSHFASSHALICISHWILGIGDRHLNNFMVAMETGGVIGIDFGHAFGSATQFLPVPELMPFRLTRQFINLMLPMKETGLMYSIMVHALRAFRSDPGLLTNTMDVFVKEPSFDWKNFEQKMLKKGGSWIQEINVAEKNWYPRQKICYAKRKLAGANPAVITCDELLLGHEKAPAFRDYVAVARGSKDHNIRAQEPESGLSEETQVKCLMDQATDPNILGRTWEGWEPWM'"
      ]
     },
     "execution_count": 21,
     "metadata": {},
     "output_type": "execute_result"
    }
   ],
   "source": [
    "p78527_pocket[0].to_sequence()[2800:]  # . . for batch split "
   ]
  },
  {
   "cell_type": "code",
   "execution_count": 18,
   "metadata": {},
   "outputs": [
    {
     "data": {
      "text/plain": [
       "4130"
      ]
     },
     "execution_count": 18,
     "metadata": {},
     "output_type": "execute_result"
    }
   ],
   "source": [
    "len(p78527_pocket[0].to_sequence())"
   ]
  },
  {
   "cell_type": "code",
   "execution_count": 12,
   "metadata": {},
   "outputs": [],
   "source": [
    "protein_list.append(p78527_pocket[0])"
   ]
  },
  {
   "cell_type": "code",
   "execution_count": 13,
   "metadata": {},
   "outputs": [
    {
     "data": {
      "text/plain": [
       "129"
      ]
     },
     "execution_count": 13,
     "metadata": {},
     "output_type": "execute_result"
    }
   ],
   "source": [
    "len(protein_list)"
   ]
  },
  {
   "cell_type": "code",
   "execution_count": 14,
   "metadata": {},
   "outputs": [],
   "source": [
    "for index in range(129, 229):\n",
    "    # alphafold 3d pdb format 'AF-O06917-F1-model_v3.pdb'\n",
    "    pdb_name = path + 'pdb/AF-' + pdbs[index] + '-F1-model_v4.pdb'\n",
    "    # print(pdb_name)\n",
    "    protein = data.Protein.from_pdb(pdb_name)\n",
    "    protein_list.append(protein)"
   ]
  },
  {
   "cell_type": "code",
   "execution_count": 15,
   "metadata": {},
   "outputs": [
    {
     "data": {
      "text/plain": [
       "229"
      ]
     },
     "execution_count": 15,
     "metadata": {},
     "output_type": "execute_result"
    }
   ],
   "source": [
    "len(protein_list)"
   ]
  },
  {
   "cell_type": "code",
   "execution_count": 16,
   "metadata": {},
   "outputs": [],
   "source": [
    "with utils.smart_open(protein_pkl, \"wb\") as fout:\n",
    "    pickle.dump(protein_list, fout)"
   ]
  },
  {
   "attachments": {},
   "cell_type": "markdown",
   "metadata": {},
   "source": [
    "## Pockets Segmentation"
   ]
  },
  {
   "attachments": {},
   "cell_type": "markdown",
   "metadata": {},
   "source": [
    "> p2rank is a pocket segment method only needingg PDB file."
   ]
  },
  {
   "attachments": {},
   "cell_type": "markdown",
   "metadata": {},
   "source": [
    "### Dataset file build"
   ]
  },
  {
   "cell_type": "code",
   "execution_count": 1,
   "metadata": {},
   "outputs": [],
   "source": [
    "import os\n",
    "import sys\n",
    "import pandas as pd\n",
    "from tqdm import tqdm"
   ]
  },
  {
   "cell_type": "code",
   "execution_count": 2,
   "metadata": {},
   "outputs": [],
   "source": [
    "data_path = \"../../../data/dta-datasets/KIBA/\""
   ]
  },
  {
   "cell_type": "code",
   "execution_count": 3,
   "metadata": {},
   "outputs": [
    {
     "data": {
      "text/html": [
       "<div>\n",
       "<style scoped>\n",
       "    .dataframe tbody tr th:only-of-type {\n",
       "        vertical-align: middle;\n",
       "    }\n",
       "\n",
       "    .dataframe tbody tr th {\n",
       "        vertical-align: top;\n",
       "    }\n",
       "\n",
       "    .dataframe thead th {\n",
       "        text-align: right;\n",
       "    }\n",
       "</style>\n",
       "<table border=\"1\" class=\"dataframe\">\n",
       "  <thead>\n",
       "    <tr style=\"text-align: right;\">\n",
       "      <th></th>\n",
       "      <th>Gene</th>\n",
       "      <th>Sequence</th>\n",
       "      <th>AA length</th>\n",
       "      <th>PDBID</th>\n",
       "    </tr>\n",
       "  </thead>\n",
       "  <tbody>\n",
       "    <tr>\n",
       "      <th>0</th>\n",
       "      <td>O00141</td>\n",
       "      <td>MTVKTEAAKGTLTYSRMRGMVAILIAFMKQRRMGLNDFIQKIANNS...</td>\n",
       "      <td>431</td>\n",
       "      <td>O00141</td>\n",
       "    </tr>\n",
       "    <tr>\n",
       "      <th>1</th>\n",
       "      <td>O00311</td>\n",
       "      <td>MEASLGIQMDEPMAFSPQRDRFQAEGSLKKNEQNFKLAGVKKDIEK...</td>\n",
       "      <td>574</td>\n",
       "      <td>O00311</td>\n",
       "    </tr>\n",
       "    <tr>\n",
       "      <th>2</th>\n",
       "      <td>O00329</td>\n",
       "      <td>MPPGVDCPMEFWTKEENQSVVVDFLLPTGVYLNFPVSRNANLSTIK...</td>\n",
       "      <td>1044</td>\n",
       "      <td>O00329</td>\n",
       "    </tr>\n",
       "    <tr>\n",
       "      <th>3</th>\n",
       "      <td>O00418</td>\n",
       "      <td>MADEDLIFRLEGVDGGQSPRAGHDGDSDGDSDDEEGYFICPITDDP...</td>\n",
       "      <td>725</td>\n",
       "      <td>O00418</td>\n",
       "    </tr>\n",
       "    <tr>\n",
       "      <th>4</th>\n",
       "      <td>O00444</td>\n",
       "      <td>MATCIGEKIEDFKVGNLLGKGSFAGVYRAESIHTGLEVAIKMIDKK...</td>\n",
       "      <td>970</td>\n",
       "      <td>O00444</td>\n",
       "    </tr>\n",
       "    <tr>\n",
       "      <th>...</th>\n",
       "      <td>...</td>\n",
       "      <td>...</td>\n",
       "      <td>...</td>\n",
       "      <td>...</td>\n",
       "    </tr>\n",
       "    <tr>\n",
       "      <th>224</th>\n",
       "      <td>Q9Y243</td>\n",
       "      <td>MSDVTIVKEGWVQKRGEYIKNWRPRYFLLKTDGSFIGYKEKPQDVD...</td>\n",
       "      <td>479</td>\n",
       "      <td>Q9Y243</td>\n",
       "    </tr>\n",
       "    <tr>\n",
       "      <th>225</th>\n",
       "      <td>Q9Y463</td>\n",
       "      <td>MAVPPGHGPFSGFPGPQEHTQVLPDVRLLPRRLPLAFRDATSAPLR...</td>\n",
       "      <td>629</td>\n",
       "      <td>Q9Y463</td>\n",
       "    </tr>\n",
       "    <tr>\n",
       "      <th>226</th>\n",
       "      <td>Q9Y478</td>\n",
       "      <td>MGNTSSERAALERHGGHKTPRRDSSGGTKDGDRPKILMDSPEDADL...</td>\n",
       "      <td>270</td>\n",
       "      <td>Q9Y478</td>\n",
       "    </tr>\n",
       "    <tr>\n",
       "      <th>227</th>\n",
       "      <td>Q9Y4K4</td>\n",
       "      <td>MEAPLRPAADILRRNPQQDYELVQRVGSGTYGDVYKARNVHTGELA...</td>\n",
       "      <td>846</td>\n",
       "      <td>Q9Y4K4</td>\n",
       "    </tr>\n",
       "    <tr>\n",
       "      <th>228</th>\n",
       "      <td>Q9Y6M4</td>\n",
       "      <td>MENKKKDKDKSDDRMARPSGRSGHNTRGTGSSSSGVLMVGPNFRVG...</td>\n",
       "      <td>447</td>\n",
       "      <td>Q9Y6M4</td>\n",
       "    </tr>\n",
       "  </tbody>\n",
       "</table>\n",
       "<p>229 rows × 4 columns</p>\n",
       "</div>"
      ],
      "text/plain": [
       "       Gene  ...   PDBID\n",
       "0    O00141  ...  O00141\n",
       "1    O00311  ...  O00311\n",
       "2    O00329  ...  O00329\n",
       "3    O00418  ...  O00418\n",
       "4    O00444  ...  O00444\n",
       "..      ...  ...     ...\n",
       "224  Q9Y243  ...  Q9Y243\n",
       "225  Q9Y463  ...  Q9Y463\n",
       "226  Q9Y478  ...  Q9Y478\n",
       "227  Q9Y4K4  ...  Q9Y4K4\n",
       "228  Q9Y6M4  ...  Q9Y6M4\n",
       "\n",
       "[229 rows x 4 columns]"
      ]
     },
     "execution_count": 3,
     "metadata": {},
     "output_type": "execute_result"
    }
   ],
   "source": [
    "protein = pd.read_csv(f'{data_path}kiba_proteins.csv')\n",
    "protein"
   ]
  },
  {
   "cell_type": "code",
   "execution_count": 4,
   "metadata": {},
   "outputs": [
    {
     "data": {
      "text/plain": [
       "0"
      ]
     },
     "execution_count": 4,
     "metadata": {},
     "output_type": "execute_result"
    }
   ],
   "source": [
    "prediction_folder = f\"{data_path}p2rank\"\n",
    "os.system(f\"mkdir -p {prediction_folder}\")"
   ]
  },
  {
   "cell_type": "code",
   "execution_count": 5,
   "metadata": {},
   "outputs": [
    {
     "data": {
      "text/plain": [
       "array(['O00141', 'O00311', 'O00329', 'O00418', 'O00444', 'O14757',\n",
       "       'O14920', 'O14965', 'O15075', 'O15111', 'O15264', 'O15530',\n",
       "       'O43293', 'O43741', 'O43781', 'O60285', 'O60674', 'O75116',\n",
       "       'O75582', 'O75676', 'O94806', 'O95819', 'O96013', 'O96017',\n",
       "       'P00519', 'P00533', 'P04049', 'P04626', 'P04629', 'P05129',\n",
       "       'P05771', 'P06213', 'P06239', 'P06241', 'P06493', 'P07332',\n",
       "       'P07333', 'P07947', 'P07948', 'P07949', 'P08069', 'P08581',\n",
       "       'P08631', 'P08922', 'P09619', 'P09769', 'P10721', 'P11309',\n",
       "       'P11362', 'P11802', 'P12931', 'P15056', 'P15735', 'P16234',\n",
       "       'P16591', 'P17252', 'P17612', 'P17948', 'P19784', 'P21802',\n",
       "       'P22455', 'P22607', 'P22612', 'P22694', 'P23443', 'P23458',\n",
       "       'P24723', 'P24941', 'P27361', 'P27448', 'P28482', 'P29317',\n",
       "       'P29323', 'P29376', 'P29597', 'P30291', 'P30530', 'P31749',\n",
       "       'P31751', 'P34947', 'P35916', 'P35968', 'P36507', 'P36888',\n",
       "       'P41240', 'P41279', 'P41743', 'P42336', 'P42338', 'P42345',\n",
       "       'P42679', 'P42684', 'P42685', 'P43403', 'P43405', 'P45983',\n",
       "       'P45984', 'P48729', 'P48730', 'P48736', 'P49137', 'P49336',\n",
       "       'P49674', 'P49759', 'P49760', 'P49840', 'P49841', 'P50613',\n",
       "       'P50750', 'P51451', 'P51617', 'P51812', 'P51813', 'P51817',\n",
       "       'P51955', 'P51957', 'P52333', 'P52564', 'P53350', 'P53667',\n",
       "       'P53778', 'P53779', 'P54619', 'P54646', 'P54760', 'P67870',\n",
       "       'P68400', 'P78368', 'P78527', 'P80192', 'Q00534', 'Q00535',\n",
       "       'Q02156', 'Q02750', 'Q02763', 'Q02779', 'Q04759', 'Q04771',\n",
       "       'Q04912', 'Q05397', 'Q05513', 'Q05655', 'Q06187', 'Q06418',\n",
       "       'Q07912', 'Q08881', 'Q12851', 'Q12866', 'Q13131', 'Q13153',\n",
       "       'Q13177', 'Q13188', 'Q13237', 'Q13464', 'Q13554', 'Q13555',\n",
       "       'Q13557', 'Q13627', 'Q13882', 'Q13976', 'Q14012', 'Q14164',\n",
       "       'Q14289', 'Q14680', 'Q15078', 'Q15118', 'Q15139', 'Q15303',\n",
       "       'Q15418', 'Q15759', 'Q16288', 'Q16512', 'Q16513', 'Q16539',\n",
       "       'Q16566', 'Q16584', 'Q16620', 'Q16644', 'Q5S007', 'Q5VT25',\n",
       "       'Q7KZI7', 'Q7L7X3', 'Q86V86', 'Q8IU85', 'Q8IW41', 'Q8N4C8',\n",
       "       'Q8NE63', 'Q8TDC3', 'Q96GD4', 'Q96KB5', 'Q96L34', 'Q96PF2',\n",
       "       'Q96RG2', 'Q96RR4', 'Q96SB4', 'Q99683', 'Q9BUB5', 'Q9BWU1',\n",
       "       'Q9BXA7', 'Q9BZL6', 'Q9H0K1', 'Q9H2G2', 'Q9H2X6', 'Q9H3Y6',\n",
       "       'Q9H4B4', 'Q9HAZ1', 'Q9HBH9', 'Q9HBY8', 'Q9HC98', 'Q9HCP0',\n",
       "       'Q9NR20', 'Q9NWZ3', 'Q9NYL2', 'Q9P1W9', 'Q9P289', 'Q9UBE8',\n",
       "       'Q9UBF8', 'Q9UBS0', 'Q9UEE5', 'Q9UGI9', 'Q9UGJ0', 'Q9UHD2',\n",
       "       'Q9UM73', 'Q9UQM7', 'Q9Y243', 'Q9Y463', 'Q9Y478', 'Q9Y4K4',\n",
       "       'Q9Y6M4'], dtype=object)"
      ]
     },
     "execution_count": 5,
     "metadata": {},
     "output_type": "execute_result"
    }
   ],
   "source": [
    "protein.Gene.values"
   ]
  },
  {
   "cell_type": "code",
   "execution_count": 6,
   "metadata": {},
   "outputs": [
    {
     "data": {
      "text/plain": [
       "229"
      ]
     },
     "execution_count": 6,
     "metadata": {},
     "output_type": "execute_result"
    }
   ],
   "source": [
    "len(protein.Gene.values)"
   ]
  },
  {
   "attachments": {},
   "cell_type": "markdown",
   "metadata": {},
   "source": [
    "Build a `.ds` file for batch p2rank process, with the file path for each PDB."
   ]
  },
  {
   "cell_type": "code",
   "execution_count": 7,
   "metadata": {},
   "outputs": [],
   "source": [
    "ds = f\"../../../data/dta-datasets/KIBA/p2rank/protein_list.ds\"\n",
    "with open(ds, \"w\") as out:\n",
    "    for pdb in protein.Gene.values:\n",
    "        out.write(f\"pdb/AF-{pdb}-F1-model_v4.pdb\\n\")"
   ]
  },
  {
   "attachments": {},
   "cell_type": "markdown",
   "metadata": {},
   "source": [
    "In the p2rank code (/DTA_Work/data/processed-app/p2rank_2.4/) run the following preprocessing bash code in your terminal. `predict` means running the prediction on the target `protein_list.ds` file, which the computing threads are 6. `-c alphafold` means using alphafold config and model, this profile is recommended for AlphaFold models, NMR and cryo-EM structures since it doesn't depend on b-factor as a feature. Otherwise, the output will be different using default config."
   ]
  },
  {
   "cell_type": "code",
   "execution_count": null,
   "metadata": {
    "vscode": {
     "languageId": "shellscript"
    }
   },
   "outputs": [],
   "source": [
    "./prank predict -c alphafold /home/marine/CodeBase/CurrentWork/Demo/DTA_Work/data/dta-datasets/KIBA/p2rank/protein_list.ds -threads 6"
   ]
  },
  {
   "attachments": {},
   "cell_type": "markdown",
   "metadata": {},
   "source": [
    "The command line output maybe like below:\n",
    "- Be careful of the path `pdb/AF-{pdb}-F1-model_v4.pdb\\n` which will concat with the code `/home/marine/CodeBase/CurrentWork/Demo/DTA_Work/data/dta-datasets/KIBA/p2rank/` path by default. So the real path is `/home/marine/CodeBase/CurrentWork/Demo/DTA_Work/data/dta-datasets/KIBA/p2rank/pdb/AF-{pdb}-F1-model_v4.pdb\\n` one by one."
   ]
  },
  {
   "attachments": {},
   "cell_type": "markdown",
   "metadata": {},
   "source": [
    "```bash\n",
    "(base) marine@HomeLand:~/CodeBase/CurrentWork/Demo/DTA_Work/data/processed-app/p2rank_2.4$ ./prank predict -c alphafold /home/marine/CodeBase/CurrentWork/Demo/DTA_Work/data/dta-datasets/KIBA/p2rank/protein_list.ds -threads 6\n",
    "----------------------------------------------------------------------------------------------\n",
    " P2Rank 2.4\n",
    "----------------------------------------------------------------------------------------------\n",
    "\n",
    "predicting pockets for proteins from dataset [protein_list.ds]\n",
    "processing [AF-O00329-F1-model_v4.pdb] (3/229)\n",
    "processing [AF-O14757-F1-model_v4.pdb] (6/229)\n",
    "processing [AF-O00444-F1-model_v4.pdb] (5/229)\n",
    "......\n",
    "......\n",
    "......\n",
    "processing [AF-Q9Y4K4-F1-model_v4.pdb] (228/229)\n",
    "processing [AF-Q9Y6M4-F1-model_v4.pdb] (229/229)\n",
    "predicting pockets finished in 0 hours 1 minutes 14.173 seconds\n",
    "results saved to directory [/home/marine/CodeBase/CurrentWork/Demo/DTA_Work/data/processed-app/p2rank_2.4/test_output/predict_protein_list]\n",
    "\n",
    "----------------------------------------------------------------------------------------------\n",
    " finished successfully in 0 hours 1 minutes 14.911 seconds\n",
    "----------------------------------------------------------------------------------------------\n",
    "\n",
    "```"
   ]
  },
  {
   "attachments": {},
   "cell_type": "markdown",
   "metadata": {},
   "source": [
    "And I copy the output file into the p2rank file in the dataset. `/home/marine/CodeBase/CurrentWork/Demo/DTA_Work/data/dta-datasets/KIBA/p2rank/predict_protein_list` is the absolute path."
   ]
  },
  {
   "attachments": {},
   "cell_type": "markdown",
   "metadata": {},
   "source": [
    "### p2rank Output"
   ]
  },
  {
   "attachments": {},
   "cell_type": "markdown",
   "metadata": {},
   "source": [
    "With one PDB file，there are two `csv` file.\n",
    "- `/data/dta-datasets/Davis/p2rank/predict_protein_list/AF-A4VCI5-F1-model_v4.pdb_predictions.csv`\n",
    "- `/data/dta-datasets/Davis/p2rank/predict_protein_list/AF-A4VCI5-F1-model_v4.pdb_residues.csv`\n",
    "  \n",
    "The `pdb_predictions.csv`contains the protein pocket details, include the probability and residue_ids for future work。\n",
    "```csv\n",
    "name     ,  rank,   score, probability, sas_points, surf_atoms,   center_x,   center_y,   center_z,           residue_ids,   surf_atom_ids\n",
    "pocket1  ,     1,   23.59,       0.843,        135,         71,    -6.8074,     7.4196,     8.6606, A_191 A_192 A_196 ..., 1500 1501 1508 ...\n",
    "pocket2  ,     2,    2.98,       0.078,         51,         25,     2.5313,    12.144,      -5.261, A_308 A_330 A_338 ..., 2452 2453 2456 ...\n",
    "......\n",
    "```"
   ]
  },
  {
   "attachments": {},
   "cell_type": "markdown",
   "metadata": {},
   "source": [
    "The `pdb_residues.csv` file contains each residue details of the protein.\n",
    "```csv\n",
    "chain, residue_label, residue_name,     score,  zscore, probability, pocket\n",
    "    A,             1,          GLU,    0.0174, -0.3856,      0.0003,      0\n",
    "    A,             2,          ARG,    0.0640, -0.3616,      0.0009,      0\n",
    "......"
   ]
  },
  {
   "attachments": {},
   "cell_type": "markdown",
   "metadata": {},
   "source": [
    "For visualizations, you can change the code. There are raw outputs from the p2rank with a pml file for pymol software, like below. See more information from their website.  \n",
    "![pml](../../../docs/figures/pml.png)"
   ]
  },
  {
   "attachments": {},
   "cell_type": "markdown",
   "metadata": {},
   "source": [
    "As you can see the green dots are the protein surface, the colorful part in the hole is the one of pocket zones(4 pockets in the protein) as the drug target."
   ]
  },
  {
   "attachments": {},
   "cell_type": "markdown",
   "metadata": {},
   "source": [
    "### Subresidues Graph  "
   ]
  },
  {
   "attachments": {},
   "cell_type": "markdown",
   "metadata": {},
   "source": [
    "这里以一个蛋白质为例，试一下将一个蛋白质转化为多个离散的口袋子图（空间距离构建？），最好可视化一下。  \n",
    "- 可能存在的问题是，口袋子图可能不是一个肽链上的氨基酸，而且边的连接是不是需要和原图一模一样，还是突出一下口袋的空间几何形状。"
   ]
  },
  {
   "cell_type": "code",
   "execution_count": 9,
   "metadata": {},
   "outputs": [],
   "source": [
    "# demo for a pdb to generate a graph\n",
    "import pandas as pd\n",
    "from torchdrug import data\n",
    "pdb_path = \"../../../data/dta-datasets/KIBA/p2rank/pdb/AF-O00141-F1-model_v4.pdb\"\n",
    "csv_path = \"../../../data/dta-datasets/KIBA/p2rank/predict_protein_list/AF-O00141-F1-model_v4.pdb_residues.csv\""
   ]
  },
  {
   "cell_type": "code",
   "execution_count": 10,
   "metadata": {},
   "outputs": [
    {
     "data": {
      "text/html": [
       "<div>\n",
       "<style scoped>\n",
       "    .dataframe tbody tr th:only-of-type {\n",
       "        vertical-align: middle;\n",
       "    }\n",
       "\n",
       "    .dataframe tbody tr th {\n",
       "        vertical-align: top;\n",
       "    }\n",
       "\n",
       "    .dataframe thead th {\n",
       "        text-align: right;\n",
       "    }\n",
       "</style>\n",
       "<table border=\"1\" class=\"dataframe\">\n",
       "  <thead>\n",
       "    <tr style=\"text-align: right;\">\n",
       "      <th></th>\n",
       "      <th>chain</th>\n",
       "      <th>residue_label</th>\n",
       "      <th>residue_name</th>\n",
       "      <th>score</th>\n",
       "      <th>zscore</th>\n",
       "      <th>probability</th>\n",
       "      <th>pocket</th>\n",
       "    </tr>\n",
       "  </thead>\n",
       "  <tbody>\n",
       "    <tr>\n",
       "      <th>0</th>\n",
       "      <td>A</td>\n",
       "      <td>1</td>\n",
       "      <td>MET</td>\n",
       "      <td>0.0463</td>\n",
       "      <td>-0.3707</td>\n",
       "      <td>0.0006</td>\n",
       "      <td>0</td>\n",
       "    </tr>\n",
       "    <tr>\n",
       "      <th>1</th>\n",
       "      <td>A</td>\n",
       "      <td>2</td>\n",
       "      <td>THR</td>\n",
       "      <td>0.0158</td>\n",
       "      <td>-0.3863</td>\n",
       "      <td>0.0003</td>\n",
       "      <td>0</td>\n",
       "    </tr>\n",
       "    <tr>\n",
       "      <th>2</th>\n",
       "      <td>A</td>\n",
       "      <td>3</td>\n",
       "      <td>VAL</td>\n",
       "      <td>0.0187</td>\n",
       "      <td>-0.3849</td>\n",
       "      <td>0.0003</td>\n",
       "      <td>0</td>\n",
       "    </tr>\n",
       "    <tr>\n",
       "      <th>3</th>\n",
       "      <td>A</td>\n",
       "      <td>4</td>\n",
       "      <td>LYS</td>\n",
       "      <td>0.0177</td>\n",
       "      <td>-0.3854</td>\n",
       "      <td>0.0003</td>\n",
       "      <td>0</td>\n",
       "    </tr>\n",
       "    <tr>\n",
       "      <th>4</th>\n",
       "      <td>A</td>\n",
       "      <td>5</td>\n",
       "      <td>THR</td>\n",
       "      <td>0.0065</td>\n",
       "      <td>-0.3911</td>\n",
       "      <td>0.0002</td>\n",
       "      <td>0</td>\n",
       "    </tr>\n",
       "    <tr>\n",
       "      <th>...</th>\n",
       "      <td>...</td>\n",
       "      <td>...</td>\n",
       "      <td>...</td>\n",
       "      <td>...</td>\n",
       "      <td>...</td>\n",
       "      <td>...</td>\n",
       "      <td>...</td>\n",
       "    </tr>\n",
       "    <tr>\n",
       "      <th>426</th>\n",
       "      <td>A</td>\n",
       "      <td>427</td>\n",
       "      <td>THR</td>\n",
       "      <td>0.1224</td>\n",
       "      <td>-0.3317</td>\n",
       "      <td>0.0023</td>\n",
       "      <td>4</td>\n",
       "    </tr>\n",
       "    <tr>\n",
       "      <th>427</th>\n",
       "      <td>A</td>\n",
       "      <td>428</td>\n",
       "      <td>ASP</td>\n",
       "      <td>0.0765</td>\n",
       "      <td>-0.3552</td>\n",
       "      <td>0.0011</td>\n",
       "      <td>0</td>\n",
       "    </tr>\n",
       "    <tr>\n",
       "      <th>428</th>\n",
       "      <td>A</td>\n",
       "      <td>429</td>\n",
       "      <td>SER</td>\n",
       "      <td>0.0771</td>\n",
       "      <td>-0.3549</td>\n",
       "      <td>0.0012</td>\n",
       "      <td>0</td>\n",
       "    </tr>\n",
       "    <tr>\n",
       "      <th>429</th>\n",
       "      <td>A</td>\n",
       "      <td>430</td>\n",
       "      <td>PHE</td>\n",
       "      <td>0.1601</td>\n",
       "      <td>-0.3123</td>\n",
       "      <td>0.0035</td>\n",
       "      <td>0</td>\n",
       "    </tr>\n",
       "    <tr>\n",
       "      <th>430</th>\n",
       "      <td>A</td>\n",
       "      <td>431</td>\n",
       "      <td>LEU</td>\n",
       "      <td>0.1054</td>\n",
       "      <td>-0.3404</td>\n",
       "      <td>0.0018</td>\n",
       "      <td>0</td>\n",
       "    </tr>\n",
       "  </tbody>\n",
       "</table>\n",
       "<p>431 rows × 7 columns</p>\n",
       "</div>"
      ],
      "text/plain": [
       "    chain  residue_label residue_name   score  zscore  probability  pocket\n",
       "0       A              1          MET  0.0463 -0.3707       0.0006       0\n",
       "1       A              2          THR  0.0158 -0.3863       0.0003       0\n",
       "2       A              3          VAL  0.0187 -0.3849       0.0003       0\n",
       "3       A              4          LYS  0.0177 -0.3854       0.0003       0\n",
       "4       A              5          THR  0.0065 -0.3911       0.0002       0\n",
       "..    ...            ...          ...     ...     ...          ...     ...\n",
       "426     A            427          THR  0.1224 -0.3317       0.0023       4\n",
       "427     A            428          ASP  0.0765 -0.3552       0.0011       0\n",
       "428     A            429          SER  0.0771 -0.3549       0.0012       0\n",
       "429     A            430          PHE  0.1601 -0.3123       0.0035       0\n",
       "430     A            431          LEU  0.1054 -0.3404       0.0018       0\n",
       "\n",
       "[431 rows x 7 columns]"
      ]
     },
     "execution_count": 10,
     "metadata": {},
     "output_type": "execute_result"
    }
   ],
   "source": [
    "pdb_residues = pd.read_csv(csv_path)\n",
    "pdb_residues.columns = pdb_residues.columns.str.strip()  # 原始表格列名有空格，这里去除方便索引\n",
    "pdb_residues"
   ]
  },
  {
   "attachments": {},
   "cell_type": "markdown",
   "metadata": {},
   "source": [
    "首先获取pocket的数量，从`pocket`列获取不重复数字，即不重复的口袋数量，目的是获取非0（0表示该氨基酸不属于任何一个口袋）的子图。"
   ]
  },
  {
   "cell_type": "code",
   "execution_count": 11,
   "metadata": {},
   "outputs": [
    {
     "data": {
      "text/plain": [
       "array([0, 2, 6, 4, 1, 3, 5, 7])"
      ]
     },
     "execution_count": 11,
     "metadata": {},
     "output_type": "execute_result"
    }
   ],
   "source": [
    "pocket_list = pdb_residues[\"pocket\"].unique()\n",
    "pocket_list"
   ]
  },
  {
   "attachments": {},
   "cell_type": "markdown",
   "metadata": {},
   "source": [
    "通过条件索引分别得到pocket=1-8的氨基酸索引，这里的索引相比真实的氨基酸序号少1（从1开始），但是最后输出子图的时候是对的。"
   ]
  },
  {
   "cell_type": "code",
   "execution_count": 12,
   "metadata": {},
   "outputs": [
    {
     "data": {
      "text/plain": [
       "[103,\n",
       " 104,\n",
       " 105,\n",
       " 106,\n",
       " 111,\n",
       " 124,\n",
       " 126,\n",
       " 145,\n",
       " 159,\n",
       " 175,\n",
       " 176,\n",
       " 177,\n",
       " 178,\n",
       " 181,\n",
       " 182,\n",
       " 225,\n",
       " 226,\n",
       " 228,\n",
       " 238,\n",
       " 239,\n",
       " 383,\n",
       " 384,\n",
       " 385,\n",
       " 388]"
      ]
     },
     "execution_count": 12,
     "metadata": {},
     "output_type": "execute_result"
    }
   ],
   "source": [
    "pdb_residues[pdb_residues[\"pocket\"] == 1].index.tolist()"
   ]
  },
  {
   "cell_type": "code",
   "execution_count": 13,
   "metadata": {},
   "outputs": [
    {
     "name": "stdout",
     "output_type": "stream",
     "text": [
      "===== Pocket 0 =====\n",
      "[103, 104, 105, 106, 111, 124, 126, 145, 159, 175, 176, 177, 178, 181, 182, 225, 226, 228, 238, 239, 383, 384, 385, 388]\n",
      "===== Pocket 1 =====\n",
      "[14, 18, 21, 22, 184, 185, 188, 189, 386]\n",
      "===== Pocket 2 =====\n",
      "[107, 108, 138, 141, 142, 221, 242]\n",
      "===== Pocket 3 =====\n",
      "[89, 91, 92, 96, 116, 118, 119, 163, 423, 424, 426]\n",
      "===== Pocket 4 =====\n",
      "[155, 207, 210, 211, 345, 346, 349, 359, 360, 363]\n",
      "===== Pocket 5 =====\n",
      "[85, 87, 166, 418, 419, 421]\n",
      "===== Pocket 6 =====\n",
      "[325, 329, 337, 339, 347, 351]\n"
     ]
    }
   ],
   "source": [
    "pocket_num = len(pocket_list) - 1\n",
    "pocket_index = []\n",
    "total_index = []\n",
    "for i in range(pocket_num):\n",
    "    print(f\"===== Pocket {i} =====\")\n",
    "    current_pocket = pdb_residues[pdb_residues[\"pocket\"] == (i+1)].index.tolist()\n",
    "    total_index.extend(pdb_residues[pdb_residues[\"pocket\"] == (i+1)].index.tolist())\n",
    "    print(current_pocket)\n",
    "    pocket_index.append(current_pocket)"
   ]
  },
  {
   "cell_type": "code",
   "execution_count": 14,
   "metadata": {},
   "outputs": [],
   "source": [
    "total_index.sort()"
   ]
  },
  {
   "cell_type": "code",
   "execution_count": 15,
   "metadata": {},
   "outputs": [
    {
     "data": {
      "text/plain": [
       "[14,\n",
       " 18,\n",
       " 21,\n",
       " 22,\n",
       " 85,\n",
       " 87,\n",
       " 89,\n",
       " 91,\n",
       " 92,\n",
       " 96,\n",
       " 103,\n",
       " 104,\n",
       " 105,\n",
       " 106,\n",
       " 107,\n",
       " 108,\n",
       " 111,\n",
       " 116,\n",
       " 118,\n",
       " 119,\n",
       " 124,\n",
       " 126,\n",
       " 138,\n",
       " 141,\n",
       " 142,\n",
       " 145,\n",
       " 155,\n",
       " 159,\n",
       " 163,\n",
       " 166,\n",
       " 175,\n",
       " 176,\n",
       " 177,\n",
       " 178,\n",
       " 181,\n",
       " 182,\n",
       " 184,\n",
       " 185,\n",
       " 188,\n",
       " 189,\n",
       " 207,\n",
       " 210,\n",
       " 211,\n",
       " 221,\n",
       " 225,\n",
       " 226,\n",
       " 228,\n",
       " 238,\n",
       " 239,\n",
       " 242,\n",
       " 325,\n",
       " 329,\n",
       " 337,\n",
       " 339,\n",
       " 345,\n",
       " 346,\n",
       " 347,\n",
       " 349,\n",
       " 351,\n",
       " 359,\n",
       " 360,\n",
       " 363,\n",
       " 383,\n",
       " 384,\n",
       " 385,\n",
       " 386,\n",
       " 388,\n",
       " 418,\n",
       " 419,\n",
       " 421,\n",
       " 423,\n",
       " 424,\n",
       " 426]"
      ]
     },
     "execution_count": 15,
     "metadata": {},
     "output_type": "execute_result"
    }
   ],
   "source": [
    "total_index"
   ]
  },
  {
   "attachments": {},
   "cell_type": "markdown",
   "metadata": {},
   "source": [
    "导入蛋白质的残基图"
   ]
  },
  {
   "cell_type": "code",
   "execution_count": 16,
   "metadata": {},
   "outputs": [
    {
     "data": {
      "text/plain": [
       "Protein(num_atom=3454, num_bond=7092, num_residue=431)"
      ]
     },
     "execution_count": 16,
     "metadata": {},
     "output_type": "execute_result"
    }
   ],
   "source": [
    "# sequence = \"MTVKTEAAKGTLTYSRMRGMVAILIAFMKQRRMGLNDFIQKIANNSYACKHPEVQSILKISQPQEPELMNANPSPPPSPSQQINLGPSSNPHAKPSDFHFLKVIGKGSFGKVLLARHKAEEVFYAVKVLQKKAILKKKEEKHIMSERNVLLKNVKHPFLVGLHFSFQTADKLYFVLDYINGGELFYHLQRERCFLEPRARFYAAEIASALGYLHSLNIVYRDLKPENILLDSQGHIVLTDFGLCKENIEHNSTTSTFCGTPEYLAPEVLHKQPYDRTVDWWCLGAVLYEMLYGLPPFYSRNTAEMYDNILNKPLQLKPNITNSARHLLEGLLQKDRTKRLGAKDDFMEIKSHVFFSLINWDDLINKKITPPFNPNVSGPNDLRHFDPEFTEEPVPNSIGKSPDSVLVTASVKEAAEAFLGFSYAPPTDSFL\"\n",
    "protein = data.Protein.from_pdb(pdb_path, atom_feature=None, bond_feature=None, residue_feature=\"default\")\n",
    "protein "
   ]
  },
  {
   "cell_type": "code",
   "execution_count": 17,
   "metadata": {},
   "outputs": [
    {
     "data": {
      "text/plain": [
       "tensor([  1,   2,   3,   4,   5,   6,   7,   8,   9,  10,  11,  12,  13,  14,\n",
       "         15,  16,  17,  18,  19,  20,  21,  22,  23,  24,  25,  26,  27,  28,\n",
       "         29,  30,  31,  32,  33,  34,  35,  36,  37,  38,  39,  40,  41,  42,\n",
       "         43,  44,  45,  46,  47,  48,  49,  50,  51,  52,  53,  54,  55,  56,\n",
       "         57,  58,  59,  60,  61,  62,  63,  64,  65,  66,  67,  68,  69,  70,\n",
       "         71,  72,  73,  74,  75,  76,  77,  78,  79,  80,  81,  82,  83,  84,\n",
       "         85,  86,  87,  88,  89,  90,  91,  92,  93,  94,  95,  96,  97,  98,\n",
       "         99, 100, 101, 102, 103, 104, 105, 106, 107, 108, 109, 110, 111, 112,\n",
       "        113, 114, 115, 116, 117, 118, 119, 120, 121, 122, 123, 124, 125, 126,\n",
       "        127, 128, 129, 130, 131, 132, 133, 134, 135, 136, 137, 138, 139, 140,\n",
       "        141, 142, 143, 144, 145, 146, 147, 148, 149, 150, 151, 152, 153, 154,\n",
       "        155, 156, 157, 158, 159, 160, 161, 162, 163, 164, 165, 166, 167, 168,\n",
       "        169, 170, 171, 172, 173, 174, 175, 176, 177, 178, 179, 180, 181, 182,\n",
       "        183, 184, 185, 186, 187, 188, 189, 190, 191, 192, 193, 194, 195, 196,\n",
       "        197, 198, 199, 200, 201, 202, 203, 204, 205, 206, 207, 208, 209, 210,\n",
       "        211, 212, 213, 214, 215, 216, 217, 218, 219, 220, 221, 222, 223, 224,\n",
       "        225, 226, 227, 228, 229, 230, 231, 232, 233, 234, 235, 236, 237, 238,\n",
       "        239, 240, 241, 242, 243, 244, 245, 246, 247, 248, 249, 250, 251, 252,\n",
       "        253, 254, 255, 256, 257, 258, 259, 260, 261, 262, 263, 264, 265, 266,\n",
       "        267, 268, 269, 270, 271, 272, 273, 274, 275, 276, 277, 278, 279, 280,\n",
       "        281, 282, 283, 284, 285, 286, 287, 288, 289, 290, 291, 292, 293, 294,\n",
       "        295, 296, 297, 298, 299, 300, 301, 302, 303, 304, 305, 306, 307, 308,\n",
       "        309, 310, 311, 312, 313, 314, 315, 316, 317, 318, 319, 320, 321, 322,\n",
       "        323, 324, 325, 326, 327, 328, 329, 330, 331, 332, 333, 334, 335, 336,\n",
       "        337, 338, 339, 340, 341, 342, 343, 344, 345, 346, 347, 348, 349, 350,\n",
       "        351, 352, 353, 354, 355, 356, 357, 358, 359, 360, 361, 362, 363, 364,\n",
       "        365, 366, 367, 368, 369, 370, 371, 372, 373, 374, 375, 376, 377, 378,\n",
       "        379, 380, 381, 382, 383, 384, 385, 386, 387, 388, 389, 390, 391, 392,\n",
       "        393, 394, 395, 396, 397, 398, 399, 400, 401, 402, 403, 404, 405, 406,\n",
       "        407, 408, 409, 410, 411, 412, 413, 414, 415, 416, 417, 418, 419, 420,\n",
       "        421, 422, 423, 424, 425, 426, 427, 428, 429, 430, 431])"
      ]
     },
     "execution_count": 17,
     "metadata": {},
     "output_type": "execute_result"
    }
   ],
   "source": [
    "protein.residue_number"
   ]
  },
  {
   "attachments": {},
   "cell_type": "markdown",
   "metadata": {},
   "source": [
    "Subgraph with `data.Protein.subresidue` Method:"
   ]
  },
  {
   "cell_type": "code",
   "execution_count": 18,
   "metadata": {},
   "outputs": [
    {
     "data": {
      "text/plain": [
       "Protein(num_atom=191, num_bond=364, num_residue=24)"
      ]
     },
     "execution_count": 18,
     "metadata": {},
     "output_type": "execute_result"
    }
   ],
   "source": [
    "pocket_0 = protein.subresidue(index=pocket_index[0])\n",
    "pocket_0"
   ]
  },
  {
   "cell_type": "code",
   "execution_count": 19,
   "metadata": {},
   "outputs": [
    {
     "data": {
      "text/plain": [
       "tensor([104, 105, 106, 107, 112, 125, 127, 146, 160, 176, 177, 178, 179, 182,\n",
       "        183, 226, 227, 229, 239, 240, 384, 385, 386, 389])"
      ]
     },
     "execution_count": 19,
     "metadata": {},
     "output_type": "execute_result"
    }
   ],
   "source": [
    "pocket_0.residue_number"
   ]
  },
  {
   "cell_type": "code",
   "execution_count": 20,
   "metadata": {},
   "outputs": [
    {
     "data": {
      "text/plain": [
       "tensor([[ 3.0980e+00,  2.9180e+00, -1.7345e+01],\n",
       "        [ 2.3310e+00,  1.9240e+00, -1.6574e+01],\n",
       "        [ 1.4520e+00,  2.5650e+00, -1.5500e+01],\n",
       "        [ 3.2560e+00,  8.3800e-01, -1.5987e+01],\n",
       "        [ 6.0800e-01,  1.9020e+00, -1.4914e+01],\n",
       "        [ 4.3230e+00,  1.4200e+00, -1.5034e+01],\n",
       "        [ 3.8800e+00,  2.1000e-02, -1.7131e+01],\n",
       "        [ 5.1440e+00,  3.5100e-01, -1.4303e+01],\n",
       "        [ 1.6210e+00,  3.8640e+00, -1.5255e+01],\n",
       "        [ 7.7000e-01,  4.6100e+00, -1.4341e+01],\n",
       "        [ 9.9100e-01,  6.1120e+00, -1.4437e+01],\n",
       "        [ 1.9900e+00,  6.5960e+00, -1.4984e+01],\n",
       "        [ 5.6000e-02,  6.8740e+00, -1.3872e+01],\n",
       "        [ 9.6000e-02,  8.3370e+00, -1.3855e+01],\n",
       "        [-2.6700e-01,  8.8580e+00, -1.2472e+01],\n",
       "        [-8.3000e-01,  8.8580e+00, -1.4958e+01],\n",
       "        [-1.3270e+00,  8.5580e+00, -1.1939e+01],\n",
       "        [-7.6100e-01,  1.0382e+01, -1.5135e+01],\n",
       "        [-1.6540e+00,  1.0764e+01, -1.6323e+01],\n",
       "        [-1.8280e+00,  1.2277e+01, -1.6483e+01],\n",
       "        [-2.8350e+00,  1.2552e+01, -1.7544e+01],\n",
       "        [ 6.2100e-01,  9.6730e+00, -1.1914e+01],\n",
       "        [ 4.3800e-01,  1.0317e+01, -1.0620e+01],\n",
       "        [ 8.8000e-02,  1.1800e+01, -1.0742e+01],\n",
       "        [-1.2000e-02,  1.2376e+01, -1.1827e+01],\n",
       "        [ 4.6190e+00,  6.9040e+00, -1.4008e+01],\n",
       "        [ 5.3590e+00,  5.6880e+00, -1.3690e+01],\n",
       "        [ 5.5890e+00,  4.9450e+00, -1.4996e+01],\n",
       "        [ 4.6280e+00,  4.8210e+00, -1.2652e+01],\n",
       "        [ 4.6540e+00,  4.7490e+00, -1.5776e+01],\n",
       "        [ 5.5500e+00,  3.6950e+00, -1.2174e+01],\n",
       "        [ 4.2130e+00,  5.6470e+00, -1.1426e+01],\n",
       "        [ 1.0051e+01, -2.8900e-01, -1.2151e+01],\n",
       "        [ 9.0610e+00,  7.7500e-01, -1.2216e+01],\n",
       "        [ 9.7400e+00,  2.1110e+00, -1.1885e+01],\n",
       "        [ 7.9090e+00,  4.4900e-01, -1.1262e+01],\n",
       "        [ 1.0169e+01,  2.3510e+00, -1.0759e+01],\n",
       "        [ 9.2450e+00,  5.9160e+00, -1.1324e+01],\n",
       "        [ 8.3720e+00,  7.0580e+00, -1.1018e+01],\n",
       "        [ 9.1260e+00,  8.3500e+00, -1.1338e+01],\n",
       "        [ 7.8770e+00,  6.9330e+00, -9.5630e+00],\n",
       "        [ 1.0076e+01,  8.7220e+00, -1.0652e+01],\n",
       "        [ 6.8920e+00,  8.0150e+00, -9.0760e+00],\n",
       "        [ 6.4140e+00,  7.7000e+00, -7.6360e+00],\n",
       "        [ 5.4120e+00,  8.7130e+00, -7.0430e+00],\n",
       "        [ 5.0210e+00,  8.3760e+00, -5.6370e+00],\n",
       "        [ 8.8430e+00,  1.0813e+01,  1.3530e+00],\n",
       "        [ 8.6490e+00,  9.5610e+00,  5.9700e-01],\n",
       "        [ 1.0001e+01,  8.9010e+00,  2.9700e-01],\n",
       "        [ 7.8960e+00,  9.8540e+00, -7.2000e-01],\n",
       "        [ 1.0208e+01,  7.7150e+00,  5.5900e-01],\n",
       "        [ 7.5850e+00,  8.5750e+00, -1.5240e+00],\n",
       "        [ 6.8700e+00,  8.8010e+00, -2.8740e+00],\n",
       "        [ 6.7010e+00,  7.8150e+00, -3.6300e+00],\n",
       "        [ 6.4880e+00,  9.9380e+00, -3.2400e+00],\n",
       "        [ 7.5480e+00, -2.3150e+00, -1.2360e+00],\n",
       "        [ 8.3030e+00, -1.9870e+00, -2.4530e+00],\n",
       "        [ 9.6690e+00, -1.3990e+00, -2.1010e+00],\n",
       "        [ 7.4960e+00, -1.1030e+00, -3.4240e+00],\n",
       "        [ 9.7810e+00, -4.8500e-01, -1.2810e+00],\n",
       "        [ 7.1860e+00,  3.0900e-01, -2.9350e+00],\n",
       "        [ 8.1790e+00, -9.5500e-01, -4.7800e+00],\n",
       "        [ 1.2043e+01,  1.8280e+00, -8.6650e+00],\n",
       "        [ 1.1390e+01,  9.4000e-01, -7.7100e+00],\n",
       "        [ 1.1265e+01, -4.7000e-01, -8.2930e+00],\n",
       "        [ 9.9940e+00,  1.5090e+00, -7.3820e+00],\n",
       "        [ 1.1371e+01, -6.4200e-01, -9.5150e+00],\n",
       "        [ 9.9650e+00,  2.9570e+00, -6.8610e+00],\n",
       "        [ 8.5210e+00,  3.4470e+00, -6.7500e+00],\n",
       "        [ 1.0622e+01,  3.0850e+00, -5.4900e+00],\n",
       "        [ 1.0978e+01, -1.4600e+00, -7.4440e+00],\n",
       "        [ 1.0616e+01, -2.7970e+00, -7.9290e+00],\n",
       "        [ 9.4740e+00, -2.7210e+00, -8.9470e+00],\n",
       "        [ 1.0177e+01, -3.7590e+00, -6.8180e+00],\n",
       "        [ 8.4890e+00, -1.9950e+00, -8.7710e+00],\n",
       "        [ 1.1242e+01, -4.0180e+00, -5.7680e+00],\n",
       "        [ 1.2384e+01, -4.3070e+00, -6.1750e+00],\n",
       "        [ 1.0905e+01, -3.9360e+00, -4.5720e+00],\n",
       "        [ 9.5930e+00, -3.4990e+00, -1.0020e+01],\n",
       "        [ 8.4970e+00, -3.6830e+00, -1.0955e+01],\n",
       "        [ 7.5880e+00, -4.8230e+00, -1.0492e+01],\n",
       "        [ 9.0290e+00, -3.9130e+00, -1.2366e+01],\n",
       "        [ 7.9550e+00, -5.9950e+00, -1.0559e+01],\n",
       "        [ 7.9230e+00, -4.1340e+00, -1.3372e+01],\n",
       "        [ 7.9290e+00, -5.2930e+00, -1.4169e+01],\n",
       "        [ 6.8640e+00, -3.2070e+00, -1.3480e+01],\n",
       "        [ 6.8810e+00, -5.5140e+00, -1.5076e+01],\n",
       "        [ 5.8050e+00, -3.4430e+00, -1.4373e+01],\n",
       "        [ 4.8230e+00, -4.8520e+00, -1.6045e+01],\n",
       "        [ 5.8220e+00, -4.6010e+00, -1.5172e+01],\n",
       "        [ 6.3850e+00, -4.4680e+00, -1.0042e+01],\n",
       "        [ 5.3930e+00, -5.4110e+00, -9.5220e+00],\n",
       "        [ 4.2800e+00, -5.5840e+00, -1.0561e+01],\n",
       "        [ 4.8770e+00, -4.9170e+00, -8.1550e+00],\n",
       "        [ 3.5190e+00, -4.6560e+00, -1.0828e+01],\n",
       "        [ 5.9880e+00, -4.5400e+00, -7.1490e+00],\n",
       "        [ 3.9630e+00, -5.9760e+00, -7.5380e+00],\n",
       "        [ 7.0190e+00, -5.6430e+00, -6.8710e+00],\n",
       "        [-5.3100e-01, -6.8860e+00, -1.0758e+01],\n",
       "        [-1.6590e+00, -5.9480e+00, -1.0739e+01],\n",
       "        [-2.1150e+00, -5.5250e+00, -9.3440e+00],\n",
       "        [-1.6830e+00, -6.0740e+00, -8.3340e+00],\n",
       "        [-3.0050e+00, -4.5370e+00, -9.2990e+00],\n",
       "        [-3.5830e+00, -4.0200e+00, -8.0540e+00],\n",
       "        [-4.5170e+00, -5.0430e+00, -7.3950e+00],\n",
       "        [-4.3630e+00, -2.7250e+00, -8.3300e+00],\n",
       "        [-5.3330e+00, -5.6920e+00, -8.0600e+00],\n",
       "        [-3.4890e+00, -1.5640e+00, -8.8380e+00],\n",
       "        [-4.3130e+00, -3.3500e-01, -9.2570e+00],\n",
       "        [-3.7300e+00,  5.4600e-01, -9.9290e+00],\n",
       "        [-5.5320e+00, -3.0800e-01, -8.9570e+00],\n",
       "        [-5.8560e+00, -2.2000e-01, -3.9370e+00],\n",
       "        [-5.1300e+00,  3.8400e-01, -5.0630e+00],\n",
       "        [-3.6200e+00,  5.1000e-01, -4.7920e+00],\n",
       "        [-5.7190e+00,  1.7750e+00, -5.3720e+00],\n",
       "        [-2.8150e+00,  3.9600e-01, -5.7100e+00],\n",
       "        [-7.2140e+00,  1.7940e+00, -5.7590e+00],\n",
       "        [-8.2070e+00,  1.9460e+00, -4.5850e+00],\n",
       "        [-9.3360e+00,  2.4380e+00, -4.8240e+00],\n",
       "        [-7.8590e+00,  1.6000e+00, -3.4300e+00],\n",
       "        [-3.2180e+00,  6.9700e-01, -3.5290e+00],\n",
       "        [-1.8040e+00,  8.1200e-01, -3.1420e+00],\n",
       "        [-1.1660e+00, -5.5200e-01, -2.8110e+00],\n",
       "        [-1.6630e+00,  1.8050e+00, -1.9740e+00],\n",
       "        [ 2.6000e-02, -6.2000e-01, -2.4950e+00],\n",
       "        [-1.8910e+00,  3.2620e+00, -2.3380e+00],\n",
       "        [-1.8600e+00,  4.1290e+00, -1.3540e+00],\n",
       "        [-2.1550e+00,  3.6400e+00, -3.4680e+00],\n",
       "        [-1.6400e-01, -3.9610e+00, -4.4440e+00],\n",
       "        [ 7.8000e-02, -4.7010e+00, -5.6820e+00],\n",
       "        [ 3.3500e-01, -6.1760e+00, -5.3790e+00],\n",
       "        [ 1.2390e+00, -4.0620e+00, -6.4580e+00],\n",
       "        [ 7.3900e-01, -6.5150e+00, -4.2720e+00],\n",
       "        [ 1.0520e+00, -2.5820e+00, -6.8300e+00],\n",
       "        [ 2.1880e+00, -2.1490e+00, -7.7560e+00],\n",
       "        [-2.6400e-01, -2.3160e+00, -7.5550e+00],\n",
       "        [ 2.8600e+00, -2.7600e-01, -1.8370e+00],\n",
       "        [ 3.4880e+00,  7.6700e-01, -2.6560e+00],\n",
       "        [ 3.1070e+00,  2.1650e+00, -2.1670e+00],\n",
       "        [ 3.1650e+00,  5.5400e-01, -4.1390e+00],\n",
       "        [ 2.5220e+00,  2.2950e+00, -1.1050e+00],\n",
       "        [ 3.5720e+00, -8.2600e-01, -4.6430e+00],\n",
       "        [ 1.7940e+00,  7.1500e-01, -4.3890e+00],\n",
       "        [ 3.4750e+00,  3.2230e+00, -2.8910e+00],\n",
       "        [ 3.0700e+00,  4.6160e+00, -2.6230e+00],\n",
       "        [ 3.2450e+00,  5.1090e+00, -1.1670e+00],\n",
       "        [ 1.6600e+00,  4.8920e+00, -3.1880e+00],\n",
       "        [ 2.2940e+00,  5.4040e+00, -4.4600e-01],\n",
       "        [ 1.4050e+00,  6.3910e+00, -3.4290e+00],\n",
       "        [ 2.3890e+00,  7.1790e+00, -3.3930e+00],\n",
       "        [ 2.6600e-01,  6.7590e+00, -3.7920e+00],\n",
       "        [-2.2000e+00, -6.7930e+00, -1.6585e+01],\n",
       "        [-2.8580e+00, -6.3070e+00, -1.5373e+01],\n",
       "        [-2.7820e+00, -4.7840e+00, -1.5209e+01],\n",
       "        [-2.2850e+00, -7.0390e+00, -1.4156e+01],\n",
       "        [-3.2910e+00, -4.2630e+00, -1.4220e+01],\n",
       "        [-2.3870e+00, -8.5370e+00, -1.4243e+01],\n",
       "        [-1.3490e+00, -9.4250e+00, -1.4273e+01],\n",
       "        [-3.5500e+00, -9.2670e+00, -1.4326e+01],\n",
       "        [-3.2160e+00, -1.0568e+01, -1.4389e+01],\n",
       "        [-1.8860e+00, -1.0707e+01, -1.4381e+01],\n",
       "        [-2.1640e+00, -4.0750e+00, -1.6157e+01],\n",
       "        [-2.1110e+00, -2.6160e+00, -1.6182e+01],\n",
       "        [-3.2220e+00, -2.0580e+00, -1.7069e+01],\n",
       "        [-7.2900e-01, -2.1470e+00, -1.6649e+01],\n",
       "        [-3.6310e+00, -2.6920e+00, -1.8043e+01],\n",
       "        [ 3.7900e-01, -2.4880e+00, -1.5675e+01],\n",
       "        [ 7.4400e-01, -1.5740e+00, -1.4672e+01],\n",
       "        [ 9.9800e-01, -3.7480e+00, -1.5723e+01],\n",
       "        [ 1.7430e+00, -1.9100e+00, -1.3741e+01],\n",
       "        [ 1.9960e+00, -4.0900e+00, -1.4796e+01],\n",
       "        [ 2.3700e+00, -3.1660e+00, -1.3805e+01],\n",
       "        [-3.6990e+00, -8.5600e-01, -1.6743e+01],\n",
       "        [-4.7380e+00, -1.9400e-01, -1.7530e+01],\n",
       "        [-4.2360e+00,  8.5000e-02, -1.8966e+01],\n",
       "        [-5.2040e+00,  1.0930e+00, -1.6832e+01],\n",
       "        [-3.1800e+00,  7.1800e-01, -1.9141e+01],\n",
       "        [-6.5560e+00,  1.5840e+00, -1.7364e+01],\n",
       "        [-6.7500e+00,  1.5290e+00, -1.8599e+01],\n",
       "        [-7.4030e+00,  1.9600e+00, -1.6527e+01],\n",
       "        [-2.9880e+00,  3.6390e+00, -1.9923e+01],\n",
       "        [-1.5910e+00,  3.9770e+00, -1.9667e+01],\n",
       "        [-6.4900e-01,  3.2720e+00, -2.0638e+01],\n",
       "        [-1.2320e+00,  3.6530e+00, -1.8210e+01],\n",
       "        [ 2.4600e-01,  3.9060e+00, -2.1192e+01],\n",
       "        [-2.1470e+00,  4.2800e+00, -1.7172e+01],\n",
       "        [-2.5640e+00,  5.6210e+00, -1.7292e+01],\n",
       "        [-2.6220e+00,  3.4990e+00, -1.6104e+01],\n",
       "        [-3.4810e+00,  6.1600e+00, -1.6373e+01],\n",
       "        [-3.5420e+00,  4.0370e+00, -1.5188e+01],\n",
       "        [-3.9770e+00,  5.3650e+00, -1.5327e+01]])"
      ]
     },
     "execution_count": 20,
     "metadata": {},
     "output_type": "execute_result"
    }
   ],
   "source": [
    "pocket_0.node_position"
   ]
  },
  {
   "cell_type": "code",
   "execution_count": 21,
   "metadata": {},
   "outputs": [
    {
     "name": "stdout",
     "output_type": "stream",
     "text": [
      "===== Pocket 0 =====\n",
      "Protein(num_atom=191, num_bond=364, num_residue=24)\n",
      "Maximum degree:  6.0 Minimum degree:  2.0\n",
      "Number of zero-degree nodes:  0\n",
      "===== Pocket 1 =====\n",
      "Protein(num_atom=73, num_bond=140, num_residue=9)\n",
      "Maximum degree:  6.0 Minimum degree:  2.0\n",
      "Number of zero-degree nodes:  0\n",
      "===== Pocket 2 =====\n",
      "Protein(num_atom=60, num_bond=114, num_residue=7)\n",
      "Maximum degree:  6.0 Minimum degree:  2.0\n",
      "Number of zero-degree nodes:  0\n",
      "===== Pocket 3 =====\n",
      "Protein(num_atom=85, num_bond=162, num_residue=11)\n",
      "Maximum degree:  6.0 Minimum degree:  2.0\n",
      "Number of zero-degree nodes:  0\n",
      "===== Pocket 4 =====\n",
      "Protein(num_atom=90, num_bond=176, num_residue=10)\n",
      "Maximum degree:  6.0 Minimum degree:  2.0\n",
      "Number of zero-degree nodes:  0\n",
      "===== Pocket 5 =====\n",
      "Protein(num_atom=37, num_bond=64, num_residue=6)\n",
      "Maximum degree:  6.0 Minimum degree:  2.0\n",
      "Number of zero-degree nodes:  0\n",
      "===== Pocket 6 =====\n",
      "Protein(num_atom=50, num_bond=92, num_residue=6)\n",
      "Maximum degree:  6.0 Minimum degree:  2.0\n",
      "Number of zero-degree nodes:  0\n"
     ]
    }
   ],
   "source": [
    "pocket_list = []\n",
    "for i in range(pocket_num):\n",
    "    print(f\"===== Pocket {i} =====\")\n",
    "    pocket = protein.subresidue(index=pocket_index[i])\n",
    "    pocket_list.append(pocket)\n",
    "    print(protein.subresidue(index=pocket_index[i]))\n",
    "    degree = pocket.degree_in + pocket.degree_out\n",
    "    print(\"Maximum degree: \", degree.max().item(),\"Minimum degree: \", degree.min().item())\n",
    "    print(\"Number of zero-degree nodes: \", (degree == 0).sum().item())"
   ]
  },
  {
   "cell_type": "code",
   "execution_count": 22,
   "metadata": {},
   "outputs": [
    {
     "name": "stdout",
     "output_type": "stream",
     "text": [
      "Average degree:  3.811518430709839\n",
      "Maximum degree:  6.0\n",
      "Minimum degree:  2.0\n",
      "Number of zero-degree nodes:  0\n"
     ]
    }
   ],
   "source": [
    "degree = pocket_0.degree_in + pocket_0.degree_out\n",
    "print(\"Average degree: \", degree.mean().item())\n",
    "print(\"Maximum degree: \", degree.max().item())\n",
    "print(\"Minimum degree: \", degree.min().item())\n",
    "print(\"Number of zero-degree nodes: \", (degree == 0).sum().item())"
   ]
  },
  {
   "attachments": {},
   "cell_type": "markdown",
   "metadata": {},
   "source": [
    "一个蛋白质就用他的所有pocket组成一个`Protein`作为其数据表达，特别是有些口袋的氨基酸有重叠，所以这里想着是把每个口袋子图都假设能和药物相互作用。"
   ]
  },
  {
   "attachments": {},
   "cell_type": "markdown",
   "metadata": {},
   "source": [
    "### Dataset Pockets"
   ]
  },
  {
   "attachments": {},
   "cell_type": "markdown",
   "metadata": {},
   "source": [
    "- ✅Pocket Protein List comes from the KIBA dataset file."
   ]
  },
  {
   "cell_type": "code",
   "execution_count": 1,
   "metadata": {},
   "outputs": [],
   "source": [
    "import pickle\n",
    "from tqdm import tqdm\n",
    "import pandas as pd\n",
    "from torchdrug import utils, data\n",
    "\n",
    "path = \"../../../data/dta-datasets/KIBA/\"\n",
    "protein_file = \"../../../data/dta-datasets/KIBA/kiba_proteins.csv\""
   ]
  },
  {
   "cell_type": "code",
   "execution_count": 2,
   "metadata": {},
   "outputs": [
    {
     "data": {
      "text/html": [
       "<div>\n",
       "<style scoped>\n",
       "    .dataframe tbody tr th:only-of-type {\n",
       "        vertical-align: middle;\n",
       "    }\n",
       "\n",
       "    .dataframe tbody tr th {\n",
       "        vertical-align: top;\n",
       "    }\n",
       "\n",
       "    .dataframe thead th {\n",
       "        text-align: right;\n",
       "    }\n",
       "</style>\n",
       "<table border=\"1\" class=\"dataframe\">\n",
       "  <thead>\n",
       "    <tr style=\"text-align: right;\">\n",
       "      <th></th>\n",
       "      <th>Gene</th>\n",
       "      <th>Sequence</th>\n",
       "    </tr>\n",
       "  </thead>\n",
       "  <tbody>\n",
       "    <tr>\n",
       "      <th>0</th>\n",
       "      <td>O00141</td>\n",
       "      <td>MTVKTEAAKGTLTYSRMRGMVAILIAFMKQRRMGLNDFIQKIANNS...</td>\n",
       "    </tr>\n",
       "    <tr>\n",
       "      <th>1</th>\n",
       "      <td>O00311</td>\n",
       "      <td>MEASLGIQMDEPMAFSPQRDRFQAEGSLKKNEQNFKLAGVKKDIEK...</td>\n",
       "    </tr>\n",
       "    <tr>\n",
       "      <th>2</th>\n",
       "      <td>O00329</td>\n",
       "      <td>MPPGVDCPMEFWTKEENQSVVVDFLLPTGVYLNFPVSRNANLSTIK...</td>\n",
       "    </tr>\n",
       "    <tr>\n",
       "      <th>3</th>\n",
       "      <td>O00418</td>\n",
       "      <td>MADEDLIFRLEGVDGGQSPRAGHDGDSDGDSDDEEGYFICPITDDP...</td>\n",
       "    </tr>\n",
       "    <tr>\n",
       "      <th>4</th>\n",
       "      <td>O00444</td>\n",
       "      <td>MATCIGEKIEDFKVGNLLGKGSFAGVYRAESIHTGLEVAIKMIDKK...</td>\n",
       "    </tr>\n",
       "    <tr>\n",
       "      <th>...</th>\n",
       "      <td>...</td>\n",
       "      <td>...</td>\n",
       "    </tr>\n",
       "    <tr>\n",
       "      <th>224</th>\n",
       "      <td>Q9Y243</td>\n",
       "      <td>MSDVTIVKEGWVQKRGEYIKNWRPRYFLLKTDGSFIGYKEKPQDVD...</td>\n",
       "    </tr>\n",
       "    <tr>\n",
       "      <th>225</th>\n",
       "      <td>Q9Y463</td>\n",
       "      <td>MAVPPGHGPFSGFPGPQEHTQVLPDVRLLPRRLPLAFRDATSAPLR...</td>\n",
       "    </tr>\n",
       "    <tr>\n",
       "      <th>226</th>\n",
       "      <td>Q9Y478</td>\n",
       "      <td>MGNTSSERAALERHGGHKTPRRDSSGGTKDGDRPKILMDSPEDADL...</td>\n",
       "    </tr>\n",
       "    <tr>\n",
       "      <th>227</th>\n",
       "      <td>Q9Y4K4</td>\n",
       "      <td>MEAPLRPAADILRRNPQQDYELVQRVGSGTYGDVYKARNVHTGELA...</td>\n",
       "    </tr>\n",
       "    <tr>\n",
       "      <th>228</th>\n",
       "      <td>Q9Y6M4</td>\n",
       "      <td>MENKKKDKDKSDDRMARPSGRSGHNTRGTGSSSSGVLMVGPNFRVG...</td>\n",
       "    </tr>\n",
       "  </tbody>\n",
       "</table>\n",
       "<p>229 rows × 2 columns</p>\n",
       "</div>"
      ],
      "text/plain": [
       "       Gene                                           Sequence\n",
       "0    O00141  MTVKTEAAKGTLTYSRMRGMVAILIAFMKQRRMGLNDFIQKIANNS...\n",
       "1    O00311  MEASLGIQMDEPMAFSPQRDRFQAEGSLKKNEQNFKLAGVKKDIEK...\n",
       "2    O00329  MPPGVDCPMEFWTKEENQSVVVDFLLPTGVYLNFPVSRNANLSTIK...\n",
       "3    O00418  MADEDLIFRLEGVDGGQSPRAGHDGDSDGDSDDEEGYFICPITDDP...\n",
       "4    O00444  MATCIGEKIEDFKVGNLLGKGSFAGVYRAESIHTGLEVAIKMIDKK...\n",
       "..      ...                                                ...\n",
       "224  Q9Y243  MSDVTIVKEGWVQKRGEYIKNWRPRYFLLKTDGSFIGYKEKPQDVD...\n",
       "225  Q9Y463  MAVPPGHGPFSGFPGPQEHTQVLPDVRLLPRRLPLAFRDATSAPLR...\n",
       "226  Q9Y478  MGNTSSERAALERHGGHKTPRRDSSGGTKDGDRPKILMDSPEDADL...\n",
       "227  Q9Y4K4  MEAPLRPAADILRRNPQQDYELVQRVGSGTYGDVYKARNVHTGELA...\n",
       "228  Q9Y6M4  MENKKKDKDKSDDRMARPSGRSGHNTRGTGSSSSGVLMVGPNFRVG...\n",
       "\n",
       "[229 rows x 2 columns]"
      ]
     },
     "execution_count": 2,
     "metadata": {},
     "output_type": "execute_result"
    }
   ],
   "source": [
    "protein_df = pd.read_csv(protein_file, usecols=['Gene', 'Sequence'])\n",
    "protein_df"
   ]
  },
  {
   "cell_type": "code",
   "execution_count": 3,
   "metadata": {},
   "outputs": [],
   "source": [
    "protein_pkl = '../../../data/dta-datasets/KIBA/gearnetesm650m_Protein.pkl'  #  pdb_Protein.pkl\n",
    "with utils.smart_open(protein_pkl, \"rb\") as fin:\n",
    "    protein_list = pickle.load(fin)"
   ]
  },
  {
   "cell_type": "code",
   "execution_count": 4,
   "metadata": {},
   "outputs": [
    {
     "data": {
      "text/plain": [
       "[PackedProtein(batch_size=1, num_atoms=[431], num_bonds=[7507], num_residues=[431]),\n",
       " PackedProtein(batch_size=1, num_atoms=[574], num_bonds=[8301], num_residues=[574]),\n",
       " PackedProtein(batch_size=1, num_atoms=[1044], num_bonds=[19549], num_residues=[1044]),\n",
       " PackedProtein(batch_size=1, num_atoms=[725], num_bonds=[11806], num_residues=[725]),\n",
       " PackedProtein(batch_size=1, num_atoms=[970], num_bonds=[13888], num_residues=[970]),\n",
       " PackedProtein(batch_size=1, num_atoms=[476], num_bonds=[8081], num_residues=[476]),\n",
       " PackedProtein(batch_size=1, num_atoms=[756], num_bonds=[12719], num_residues=[756]),\n",
       " PackedProtein(batch_size=1, num_atoms=[403], num_bonds=[6331], num_residues=[403]),\n",
       " PackedProtein(batch_size=1, num_atoms=[740], num_bonds=[11870], num_residues=[740]),\n",
       " PackedProtein(batch_size=1, num_atoms=[745], num_bonds=[12311], num_residues=[745]),\n",
       " PackedProtein(batch_size=1, num_atoms=[365], num_bonds=[6814], num_residues=[365]),\n",
       " PackedProtein(batch_size=1, num_atoms=[556], num_bonds=[9386], num_residues=[556]),\n",
       " PackedProtein(batch_size=1, num_atoms=[454], num_bonds=[7409], num_residues=[454]),\n",
       " PackedProtein(batch_size=1, num_atoms=[272], num_bonds=[3534], num_residues=[272]),\n",
       " PackedProtein(batch_size=1, num_atoms=[588], num_bonds=[8956], num_residues=[588]),\n",
       " PackedProtein(batch_size=1, num_atoms=[661], num_bonds=[8488], num_residues=[661]),\n",
       " PackedProtein(batch_size=1, num_atoms=[1132], num_bonds=[21304], num_residues=[1132]),\n",
       " PackedProtein(batch_size=1, num_atoms=[1388], num_bonds=[19926], num_residues=[1388]),\n",
       " PackedProtein(batch_size=1, num_atoms=[802], num_bonds=[13976], num_residues=[802]),\n",
       " PackedProtein(batch_size=1, num_atoms=[772], num_bonds=[14059], num_residues=[772]),\n",
       " PackedProtein(batch_size=1, num_atoms=[890], num_bonds=[14404], num_residues=[890]),\n",
       " PackedProtein(batch_size=1, num_atoms=[1239], num_bonds=[17985], num_residues=[1239]),\n",
       " PackedProtein(batch_size=1, num_atoms=[591], num_bonds=[8296], num_residues=[591]),\n",
       " PackedProtein(batch_size=1, num_atoms=[543], num_bonds=[8702], num_residues=[543]),\n",
       " PackedProtein(batch_size=1, num_atoms=[1130], num_bonds=[14517], num_residues=[1130]),\n",
       " PackedProtein(batch_size=1, num_atoms=[1210], num_bonds=[21882], num_residues=[1210]),\n",
       " PackedProtein(batch_size=1, num_atoms=[648], num_bonds=[9628], num_residues=[648]),\n",
       " PackedProtein(batch_size=1, num_atoms=[1255], num_bonds=[22209], num_residues=[1255]),\n",
       " PackedProtein(batch_size=1, num_atoms=[796], num_bonds=[14606], num_residues=[796]),\n",
       " PackedProtein(batch_size=1, num_atoms=[697], num_bonds=[13228], num_residues=[697]),\n",
       " PackedProtein(batch_size=1, num_atoms=[671], num_bonds=[12841], num_residues=[671]),\n",
       " PackedProtein(batch_size=1, num_atoms=[1382], num_bonds=[25486], num_residues=[1382]),\n",
       " PackedProtein(batch_size=1, num_atoms=[509], num_bonds=[9040], num_residues=[509]),\n",
       " PackedProtein(batch_size=1, num_atoms=[537], num_bonds=[9484], num_residues=[537]),\n",
       " PackedProtein(batch_size=1, num_atoms=[297], num_bonds=[5545], num_residues=[297]),\n",
       " PackedProtein(batch_size=1, num_atoms=[822], num_bonds=[13442], num_residues=[822]),\n",
       " PackedProtein(batch_size=1, num_atoms=[972], num_bonds=[18216], num_residues=[972]),\n",
       " PackedProtein(batch_size=1, num_atoms=[543], num_bonds=[9533], num_residues=[543]),\n",
       " PackedProtein(batch_size=1, num_atoms=[512], num_bonds=[9075], num_residues=[512]),\n",
       " PackedProtein(batch_size=1, num_atoms=[1114], num_bonds=[19840], num_residues=[1114]),\n",
       " PackedProtein(batch_size=1, num_atoms=[1367], num_bonds=[25306], num_residues=[1367]),\n",
       " PackedProtein(batch_size=1, num_atoms=[1390], num_bonds=[27647], num_residues=[1390]),\n",
       " PackedProtein(batch_size=1, num_atoms=[526], num_bonds=[9277], num_residues=[526]),\n",
       " PackedProtein(batch_size=1, num_atoms=[2347], num_bonds=[46035], num_residues=[2347]),\n",
       " PackedProtein(batch_size=1, num_atoms=[1106], num_bonds=[18888], num_residues=[1106]),\n",
       " PackedProtein(batch_size=1, num_atoms=[529], num_bonds=[9475], num_residues=[529]),\n",
       " PackedProtein(batch_size=1, num_atoms=[976], num_bonds=[18002], num_residues=[976]),\n",
       " PackedProtein(batch_size=1, num_atoms=[313], num_bonds=[5712], num_residues=[313]),\n",
       " PackedProtein(batch_size=1, num_atoms=[822], num_bonds=[13483], num_residues=[822]),\n",
       " PackedProtein(batch_size=1, num_atoms=[303], num_bonds=[5566], num_residues=[303]),\n",
       " PackedProtein(batch_size=1, num_atoms=[536], num_bonds=[9506], num_residues=[536]),\n",
       " PackedProtein(batch_size=1, num_atoms=[766], num_bonds=[11016], num_residues=[766]),\n",
       " PackedProtein(batch_size=1, num_atoms=[406], num_bonds=[6561], num_residues=[406]),\n",
       " PackedProtein(batch_size=1, num_atoms=[1089], num_bonds=[19104], num_residues=[1089]),\n",
       " PackedProtein(batch_size=1, num_atoms=[822], num_bonds=[13206], num_residues=[822]),\n",
       " PackedProtein(batch_size=1, num_atoms=[672], num_bonds=[12833], num_residues=[672]),\n",
       " PackedProtein(batch_size=1, num_atoms=[351], num_bonds=[6645], num_residues=[351]),\n",
       " PackedProtein(batch_size=1, num_atoms=[1338], num_bonds=[23262], num_residues=[1338]),\n",
       " PackedProtein(batch_size=1, num_atoms=[350], num_bonds=[6507], num_residues=[350]),\n",
       " PackedProtein(batch_size=1, num_atoms=[821], num_bonds=[13519], num_residues=[821]),\n",
       " PackedProtein(batch_size=1, num_atoms=[802], num_bonds=[13379], num_residues=[802]),\n",
       " PackedProtein(batch_size=1, num_atoms=[806], num_bonds=[13515], num_residues=[806]),\n",
       " PackedProtein(batch_size=1, num_atoms=[351], num_bonds=[6624], num_residues=[351]),\n",
       " PackedProtein(batch_size=1, num_atoms=[351], num_bonds=[6629], num_residues=[351]),\n",
       " PackedProtein(batch_size=1, num_atoms=[525], num_bonds=[7991], num_residues=[525]),\n",
       " PackedProtein(batch_size=1, num_atoms=[1154], num_bonds=[21753], num_residues=[1154]),\n",
       " PackedProtein(batch_size=1, num_atoms=[683], num_bonds=[12816], num_residues=[683]),\n",
       " PackedProtein(batch_size=1, num_atoms=[298], num_bonds=[5562], num_residues=[298]),\n",
       " PackedProtein(batch_size=1, num_atoms=[379], num_bonds=[6989], num_residues=[379]),\n",
       " PackedProtein(batch_size=1, num_atoms=[753], num_bonds=[10524], num_residues=[753]),\n",
       " PackedProtein(batch_size=1, num_atoms=[360], num_bonds=[6666], num_residues=[360]),\n",
       " PackedProtein(batch_size=1, num_atoms=[976], num_bonds=[18766], num_residues=[976]),\n",
       " PackedProtein(batch_size=1, num_atoms=[1055], num_bonds=[19426], num_residues=[1055]),\n",
       " PackedProtein(batch_size=1, num_atoms=[864], num_bonds=[16788], num_residues=[864]),\n",
       " PackedProtein(batch_size=1, num_atoms=[1187], num_bonds=[22079], num_residues=[1187]),\n",
       " PackedProtein(batch_size=1, num_atoms=[646], num_bonds=[8424], num_residues=[646]),\n",
       " PackedProtein(batch_size=1, num_atoms=[894], num_bonds=[15699], num_residues=[894]),\n",
       " PackedProtein(batch_size=1, num_atoms=[480], num_bonds=[8833], num_residues=[480]),\n",
       " PackedProtein(batch_size=1, num_atoms=[481], num_bonds=[8855], num_residues=[481]),\n",
       " PackedProtein(batch_size=1, num_atoms=[590], num_bonds=[10368], num_residues=[590]),\n",
       " PackedProtein(batch_size=1, num_atoms=[1363], num_bonds=[23651], num_residues=[1363]),\n",
       " PackedProtein(batch_size=1, num_atoms=[1356], num_bonds=[23708], num_residues=[1356]),\n",
       " PackedProtein(batch_size=1, num_atoms=[400], num_bonds=[6787], num_residues=[400]),\n",
       " PackedProtein(batch_size=1, num_atoms=[993], num_bonds=[17735], num_residues=[993]),\n",
       " PackedProtein(batch_size=1, num_atoms=[450], num_bonds=[8976], num_residues=[450]),\n",
       " PackedProtein(batch_size=1, num_atoms=[467], num_bonds=[7722], num_residues=[467]),\n",
       " PackedProtein(batch_size=1, num_atoms=[596], num_bonds=[10318], num_residues=[596]),\n",
       " PackedProtein(batch_size=1, num_atoms=[1068], num_bonds=[20206], num_residues=[1068]),\n",
       " PackedProtein(batch_size=1, num_atoms=[1070], num_bonds=[19959], num_residues=[1070]),\n",
       " PackedProtein(batch_size=1, num_atoms=[2549], num_bonds=[42733], num_residues=[2549]),\n",
       " PackedProtein(batch_size=1, num_atoms=[507], num_bonds=[9353], num_residues=[507]),\n",
       " PackedProtein(batch_size=1, num_atoms=[1182], num_bonds=[15333], num_residues=[1182]),\n",
       " PackedProtein(batch_size=1, num_atoms=[505], num_bonds=[9324], num_residues=[505]),\n",
       " PackedProtein(batch_size=1, num_atoms=[619], num_bonds=[11592], num_residues=[619]),\n",
       " PackedProtein(batch_size=1, num_atoms=[635], num_bonds=[11623], num_residues=[635]),\n",
       " PackedProtein(batch_size=1, num_atoms=[427], num_bonds=[7405], num_residues=[427]),\n",
       " PackedProtein(batch_size=1, num_atoms=[424], num_bonds=[7287], num_residues=[424]),\n",
       " PackedProtein(batch_size=1, num_atoms=[337], num_bonds=[5862], num_residues=[337]),\n",
       " PackedProtein(batch_size=1, num_atoms=[415], num_bonds=[6559], num_residues=[415]),\n",
       " PackedProtein(batch_size=1, num_atoms=[1102], num_bonds=[20779], num_residues=[1102]),\n",
       " PackedProtein(batch_size=1, num_atoms=[400], num_bonds=[6478], num_residues=[400]),\n",
       " PackedProtein(batch_size=1, num_atoms=[464], num_bonds=[7427], num_residues=[464]),\n",
       " PackedProtein(batch_size=1, num_atoms=[416], num_bonds=[6659], num_residues=[416]),\n",
       " PackedProtein(batch_size=1, num_atoms=[484], num_bonds=[7933], num_residues=[484]),\n",
       " PackedProtein(batch_size=1, num_atoms=[499], num_bonds=[7671], num_residues=[499]),\n",
       " PackedProtein(batch_size=1, num_atoms=[483], num_bonds=[7716], num_residues=[483]),\n",
       " PackedProtein(batch_size=1, num_atoms=[420], num_bonds=[7597], num_residues=[420]),\n",
       " PackedProtein(batch_size=1, num_atoms=[346], num_bonds=[6157], num_residues=[346]),\n",
       " PackedProtein(batch_size=1, num_atoms=[372], num_bonds=[6727], num_residues=[372]),\n",
       " PackedProtein(batch_size=1, num_atoms=[505], num_bonds=[8981], num_residues=[505]),\n",
       " PackedProtein(batch_size=1, num_atoms=[712], num_bonds=[10003], num_residues=[712]),\n",
       " PackedProtein(batch_size=1, num_atoms=[740], num_bonds=[13442], num_residues=[740]),\n",
       " PackedProtein(batch_size=1, num_atoms=[675], num_bonds=[11330], num_residues=[675]),\n",
       " PackedProtein(batch_size=1, num_atoms=[358], num_bonds=[6470], num_residues=[358]),\n",
       " PackedProtein(batch_size=1, num_atoms=[445], num_bonds=[6711], num_residues=[445]),\n",
       " PackedProtein(batch_size=1, num_atoms=[841], num_bonds=[9798], num_residues=[841]),\n",
       " PackedProtein(batch_size=1, num_atoms=[1124], num_bonds=[21458], num_residues=[1124]),\n",
       " PackedProtein(batch_size=1, num_atoms=[334], num_bonds=[5968], num_residues=[334]),\n",
       " PackedProtein(batch_size=1, num_atoms=[603], num_bonds=[10867], num_residues=[603]),\n",
       " PackedProtein(batch_size=1, num_atoms=[647], num_bonds=[11064], num_residues=[647]),\n",
       " PackedProtein(batch_size=1, num_atoms=[367], num_bonds=[6712], num_residues=[367]),\n",
       " PackedProtein(batch_size=1, num_atoms=[464], num_bonds=[7518], num_residues=[464]),\n",
       " PackedProtein(batch_size=1, num_atoms=[331], num_bonds=[5805], num_residues=[331]),\n",
       " PackedProtein(batch_size=1, num_atoms=[552], num_bonds=[8694], num_residues=[552]),\n",
       " PackedProtein(batch_size=1, num_atoms=[987], num_bonds=[19005], num_residues=[987]),\n",
       " PackedProtein(batch_size=1, num_atoms=[215], num_bonds=[3518], num_residues=[215]),\n",
       " PackedProtein(batch_size=1, num_atoms=[391], num_bonds=[6806], num_residues=[391]),\n",
       " PackedProtein(batch_size=1, num_atoms=[415], num_bonds=[6661], num_residues=[415]),\n",
       " PackedProtein(batch_size=1, num_atoms=[4128], num_bonds=[118646], num_residues=[4128]),\n",
       " PackedProtein(batch_size=1, num_atoms=[1104], num_bonds=[12775], num_residues=[1104]),\n",
       " PackedProtein(batch_size=1, num_atoms=[326], num_bonds=[5834], num_residues=[326]),\n",
       " PackedProtein(batch_size=1, num_atoms=[292], num_bonds=[5562], num_residues=[292]),\n",
       " PackedProtein(batch_size=1, num_atoms=[737], num_bonds=[13651], num_residues=[737]),\n",
       " PackedProtein(batch_size=1, num_atoms=[393], num_bonds=[6880], num_residues=[393]),\n",
       " PackedProtein(batch_size=1, num_atoms=[1124], num_bonds=[22947], num_residues=[1124]),\n",
       " PackedProtein(batch_size=1, num_atoms=[954], num_bonds=[11860], num_residues=[954]),\n",
       " PackedProtein(batch_size=1, num_atoms=[706], num_bonds=[12588], num_residues=[706]),\n",
       " PackedProtein(batch_size=1, num_atoms=[509], num_bonds=[8889], num_residues=[509]),\n",
       " PackedProtein(batch_size=1, num_atoms=[1400], num_bonds=[27513], num_residues=[1400]),\n",
       " PackedProtein(batch_size=1, num_atoms=[1052], num_bonds=[16311], num_residues=[1052]),\n",
       " PackedProtein(batch_size=1, num_atoms=[592], num_bonds=[10314], num_residues=[592]),\n",
       " PackedProtein(batch_size=1, num_atoms=[676], num_bonds=[12577], num_residues=[676]),\n",
       " PackedProtein(batch_size=1, num_atoms=[659], num_bonds=[12491], num_residues=[659]),\n",
       " PackedProtein(batch_size=1, num_atoms=[890], num_bonds=[15585], num_residues=[890]),\n",
       " PackedProtein(batch_size=1, num_atoms=[1038], num_bonds=[13611], num_residues=[1038]),\n",
       " PackedProtein(batch_size=1, num_atoms=[620], num_bonds=[11930], num_residues=[620]),\n",
       " PackedProtein(batch_size=1, num_atoms=[820], num_bonds=[15086], num_residues=[820]),\n",
       " PackedProtein(batch_size=1, num_atoms=[999], num_bonds=[16532], num_residues=[999]),\n",
       " PackedProtein(batch_size=1, num_atoms=[559], num_bonds=[8750], num_residues=[559]),\n",
       " PackedProtein(batch_size=1, num_atoms=[545], num_bonds=[8492], num_residues=[545]),\n",
       " PackedProtein(batch_size=1, num_atoms=[524], num_bonds=[8170], num_residues=[524]),\n",
       " PackedProtein(batch_size=1, num_atoms=[491], num_bonds=[7644], num_residues=[491]),\n",
       " PackedProtein(batch_size=1, num_atoms=[762], num_bonds=[13492], num_residues=[762]),\n",
       " PackedProtein(batch_size=1, num_atoms=[1354], num_bonds=[18988], num_residues=[1354]),\n",
       " PackedProtein(batch_size=1, num_atoms=[666], num_bonds=[10331], num_residues=[666]),\n",
       " PackedProtein(batch_size=1, num_atoms=[558], num_bonds=[9694], num_residues=[558]),\n",
       " PackedProtein(batch_size=1, num_atoms=[499], num_bonds=[8964], num_residues=[499]),\n",
       " PackedProtein(batch_size=1, num_atoms=[763], num_bonds=[10044], num_residues=[763]),\n",
       " PackedProtein(batch_size=1, num_atoms=[451], num_bonds=[8854], num_residues=[451]),\n",
       " PackedProtein(batch_size=1, num_atoms=[671], num_bonds=[12735], num_residues=[671]),\n",
       " PackedProtein(batch_size=1, num_atoms=[370], num_bonds=[6325], num_residues=[370]),\n",
       " PackedProtein(batch_size=1, num_atoms=[716], num_bonds=[12650], num_residues=[716]),\n",
       " PackedProtein(batch_size=1, num_atoms=[1009], num_bonds=[15967], num_residues=[1009]),\n",
       " PackedProtein(batch_size=1, num_atoms=[651], num_bonds=[10054], num_residues=[651]),\n",
       " PackedProtein(batch_size=1, num_atoms=[307], num_bonds=[3819], num_residues=[307]),\n",
       " PackedProtein(batch_size=1, num_atoms=[436], num_bonds=[7367], num_residues=[436]),\n",
       " PackedProtein(batch_size=1, num_atoms=[912], num_bonds=[14686], num_residues=[912]),\n",
       " PackedProtein(batch_size=1, num_atoms=[1308], num_bonds=[23096], num_residues=[1308]),\n",
       " PackedProtein(batch_size=1, num_atoms=[735], num_bonds=[13346], num_residues=[735]),\n",
       " PackedProtein(batch_size=1, num_atoms=[364], num_bonds=[6704], num_residues=[364]),\n",
       " PackedProtein(batch_size=1, num_atoms=[839], num_bonds=[15104], num_residues=[839]),\n",
       " PackedProtein(batch_size=1, num_atoms=[942], num_bonds=[14856], num_residues=[942]),\n",
       " PackedProtein(batch_size=1, num_atoms=[984], num_bonds=[15296], num_residues=[984]),\n",
       " PackedProtein(batch_size=1, num_atoms=[360], num_bonds=[6672], num_residues=[360]),\n",
       " PackedProtein(batch_size=1, num_atoms=[473], num_bonds=[7051], num_residues=[473]),\n",
       " PackedProtein(batch_size=1, num_atoms=[847], num_bonds=[11050], num_residues=[847]),\n",
       " PackedProtein(batch_size=1, num_atoms=[822], num_bonds=[14832], num_residues=[822]),\n",
       " PackedProtein(batch_size=1, num_atoms=[382], num_bonds=[6487], num_residues=[382]),\n",
       " PackedProtein(batch_size=1, num_atoms=[2527], num_bonds=[47859], num_residues=[2527]),\n",
       " PackedProtein(batch_size=1, num_atoms=[1732], num_bonds=[27604], num_residues=[1732]),\n",
       " PackedProtein(batch_size=1, num_atoms=[788], num_bonds=[10982], num_residues=[788]),\n",
       " PackedProtein(batch_size=1, num_atoms=[1001], num_bonds=[14108], num_residues=[1001]),\n",
       " PackedProtein(batch_size=1, num_atoms=[326], num_bonds=[5684], num_residues=[326]),\n",
       " PackedProtein(batch_size=1, num_atoms=[385], num_bonds=[6369], num_residues=[385]),\n",
       " PackedProtein(batch_size=1, num_atoms=[473], num_bonds=[7902], num_residues=[473]),\n",
       " PackedProtein(batch_size=1, num_atoms=[1332], num_bonds=[18281], num_residues=[1332]),\n",
       " PackedProtein(batch_size=1, num_atoms=[616], num_bonds=[9457], num_residues=[616]),\n",
       " PackedProtein(batch_size=1, num_atoms=[778], num_bonds=[11101], num_residues=[778]),\n",
       " PackedProtein(batch_size=1, num_atoms=[344], num_bonds=[5873], num_residues=[344]),\n",
       " PackedProtein(batch_size=1, num_atoms=[322], num_bonds=[5793], num_residues=[322]),\n",
       " PackedProtein(batch_size=1, num_atoms=[752], num_bonds=[10697], num_residues=[752]),\n",
       " PackedProtein(batch_size=1, num_atoms=[358], num_bonds=[6201], num_residues=[358]),\n",
       " PackedProtein(batch_size=1, num_atoms=[1323], num_bonds=[17321], num_residues=[1323]),\n",
       " PackedProtein(batch_size=1, num_atoms=[588], num_bonds=[8282], num_residues=[588]),\n",
       " PackedProtein(batch_size=1, num_atoms=[655], num_bonds=[10090], num_residues=[655]),\n",
       " PackedProtein(batch_size=1, num_atoms=[1374], num_bonds=[21047], num_residues=[1374]),\n",
       " PackedProtein(batch_size=1, num_atoms=[465], num_bonds=[7283], num_residues=[465]),\n",
       " PackedProtein(batch_size=1, num_atoms=[502], num_bonds=[7687], num_residues=[502]),\n",
       " PackedProtein(batch_size=1, num_atoms=[367], num_bonds=[6029], num_residues=[367]),\n",
       " PackedProtein(batch_size=1, num_atoms=[878], num_bonds=[14382], num_residues=[878]),\n",
       " PackedProtein(batch_size=1, num_atoms=[926], num_bonds=[10790], num_residues=[926]),\n",
       " PackedProtein(batch_size=1, num_atoms=[1235], num_bonds=[14948], num_residues=[1235]),\n",
       " PackedProtein(batch_size=1, num_atoms=[1198], num_bonds=[13544], num_residues=[1198]),\n",
       " PackedProtein(batch_size=1, num_atoms=[488], num_bonds=[8758], num_residues=[488]),\n",
       " PackedProtein(batch_size=1, num_atoms=[646], num_bonds=[10960], num_residues=[646]),\n",
       " PackedProtein(batch_size=1, num_atoms=[481], num_bonds=[7736], num_residues=[481]),\n",
       " PackedProtein(batch_size=1, num_atoms=[465], num_bonds=[7174], num_residues=[465]),\n",
       " PackedProtein(batch_size=1, num_atoms=[367], num_bonds=[6821], num_residues=[367]),\n",
       " PackedProtein(batch_size=1, num_atoms=[313], num_bonds=[5352], num_residues=[313]),\n",
       " PackedProtein(batch_size=1, num_atoms=[422], num_bonds=[6734], num_residues=[422]),\n",
       " PackedProtein(batch_size=1, num_atoms=[520], num_bonds=[8398], num_residues=[520]),\n",
       " PackedProtein(batch_size=1, num_atoms=[460], num_bonds=[8082], num_residues=[460]),\n",
       " PackedProtein(batch_size=1, num_atoms=[800], num_bonds=[11655], num_residues=[800]),\n",
       " PackedProtein(batch_size=1, num_atoms=[311], num_bonds=[5731], num_residues=[311]),\n",
       " PackedProtein(batch_size=1, num_atoms=[416], num_bonds=[7026], num_residues=[416]),\n",
       " PackedProtein(batch_size=1, num_atoms=[527], num_bonds=[8311], num_residues=[527]),\n",
       " PackedProtein(batch_size=1, num_atoms=[816], num_bonds=[12161], num_residues=[816]),\n",
       " PackedProtein(batch_size=1, num_atoms=[482], num_bonds=[7788], num_residues=[482]),\n",
       " PackedProtein(batch_size=1, num_atoms=[414], num_bonds=[6518], num_residues=[414]),\n",
       " PackedProtein(batch_size=1, num_atoms=[489], num_bonds=[7300], num_residues=[489]),\n",
       " PackedProtein(batch_size=1, num_atoms=[569], num_bonds=[7616], num_residues=[569]),\n",
       " PackedProtein(batch_size=1, num_atoms=[729], num_bonds=[12771], num_residues=[729]),\n",
       " PackedProtein(batch_size=1, num_atoms=[1620], num_bonds=[29287], num_residues=[1620]),\n",
       " PackedProtein(batch_size=1, num_atoms=[478], num_bonds=[8866], num_residues=[478]),\n",
       " PackedProtein(batch_size=1, num_atoms=[479], num_bonds=[8772], num_residues=[479]),\n",
       " PackedProtein(batch_size=1, num_atoms=[629], num_bonds=[8804], num_residues=[629]),\n",
       " PackedProtein(batch_size=1, num_atoms=[270], num_bonds=[3519], num_residues=[270]),\n",
       " PackedProtein(batch_size=1, num_atoms=[846], num_bonds=[15166], num_residues=[846]),\n",
       " PackedProtein(batch_size=1, num_atoms=[447], num_bonds=[6904], num_residues=[447])]"
      ]
     },
     "execution_count": 4,
     "metadata": {},
     "output_type": "execute_result"
    }
   ],
   "source": [
    "protein_list"
   ]
  },
  {
   "cell_type": "code",
   "execution_count": 5,
   "metadata": {},
   "outputs": [
    {
     "data": {
      "text/plain": [
       "PackedProtein(batch_size=1, num_atoms=[4128], num_bonds=[118646], num_residues=[4128])"
      ]
     },
     "execution_count": 5,
     "metadata": {},
     "output_type": "execute_result"
    }
   ],
   "source": [
    "protein_list[128]"
   ]
  },
  {
   "cell_type": "code",
   "execution_count": 6,
   "metadata": {},
   "outputs": [
    {
     "data": {
      "text/plain": [
       "['O00141',\n",
       " 'O00311',\n",
       " 'O00329',\n",
       " 'O00418',\n",
       " 'O00444',\n",
       " 'O14757',\n",
       " 'O14920',\n",
       " 'O14965',\n",
       " 'O15075',\n",
       " 'O15111',\n",
       " 'O15264',\n",
       " 'O15530',\n",
       " 'O43293',\n",
       " 'O43741',\n",
       " 'O43781',\n",
       " 'O60285',\n",
       " 'O60674',\n",
       " 'O75116',\n",
       " 'O75582',\n",
       " 'O75676',\n",
       " 'O94806',\n",
       " 'O95819',\n",
       " 'O96013',\n",
       " 'O96017',\n",
       " 'P00519',\n",
       " 'P00533',\n",
       " 'P04049',\n",
       " 'P04626',\n",
       " 'P04629',\n",
       " 'P05129',\n",
       " 'P05771',\n",
       " 'P06213',\n",
       " 'P06239',\n",
       " 'P06241',\n",
       " 'P06493',\n",
       " 'P07332',\n",
       " 'P07333',\n",
       " 'P07947',\n",
       " 'P07948',\n",
       " 'P07949',\n",
       " 'P08069',\n",
       " 'P08581',\n",
       " 'P08631',\n",
       " 'P08922',\n",
       " 'P09619',\n",
       " 'P09769',\n",
       " 'P10721',\n",
       " 'P11309',\n",
       " 'P11362',\n",
       " 'P11802',\n",
       " 'P12931',\n",
       " 'P15056',\n",
       " 'P15735',\n",
       " 'P16234',\n",
       " 'P16591',\n",
       " 'P17252',\n",
       " 'P17612',\n",
       " 'P17948',\n",
       " 'P19784',\n",
       " 'P21802',\n",
       " 'P22455',\n",
       " 'P22607',\n",
       " 'P22612',\n",
       " 'P22694',\n",
       " 'P23443',\n",
       " 'P23458',\n",
       " 'P24723',\n",
       " 'P24941',\n",
       " 'P27361',\n",
       " 'P27448',\n",
       " 'P28482',\n",
       " 'P29317',\n",
       " 'P29323',\n",
       " 'P29376',\n",
       " 'P29597',\n",
       " 'P30291',\n",
       " 'P30530',\n",
       " 'P31749',\n",
       " 'P31751',\n",
       " 'P34947',\n",
       " 'P35916',\n",
       " 'P35968',\n",
       " 'P36507',\n",
       " 'P36888',\n",
       " 'P41240',\n",
       " 'P41279',\n",
       " 'P41743',\n",
       " 'P42336',\n",
       " 'P42338',\n",
       " 'P42345',\n",
       " 'P42679',\n",
       " 'P42684',\n",
       " 'P42685',\n",
       " 'P43403',\n",
       " 'P43405',\n",
       " 'P45983',\n",
       " 'P45984',\n",
       " 'P48729',\n",
       " 'P48730',\n",
       " 'P48736',\n",
       " 'P49137',\n",
       " 'P49336',\n",
       " 'P49674',\n",
       " 'P49759',\n",
       " 'P49760',\n",
       " 'P49840',\n",
       " 'P49841',\n",
       " 'P50613',\n",
       " 'P50750',\n",
       " 'P51451',\n",
       " 'P51617',\n",
       " 'P51812',\n",
       " 'P51813',\n",
       " 'P51817',\n",
       " 'P51955',\n",
       " 'P51957',\n",
       " 'P52333',\n",
       " 'P52564',\n",
       " 'P53350',\n",
       " 'P53667',\n",
       " 'P53778',\n",
       " 'P53779',\n",
       " 'P54619',\n",
       " 'P54646',\n",
       " 'P54760',\n",
       " 'P67870',\n",
       " 'P68400',\n",
       " 'P78368',\n",
       " 'P78527',\n",
       " 'P80192',\n",
       " 'Q00534',\n",
       " 'Q00535',\n",
       " 'Q02156',\n",
       " 'Q02750',\n",
       " 'Q02763',\n",
       " 'Q02779',\n",
       " 'Q04759',\n",
       " 'Q04771',\n",
       " 'Q04912',\n",
       " 'Q05397',\n",
       " 'Q05513',\n",
       " 'Q05655',\n",
       " 'Q06187',\n",
       " 'Q06418',\n",
       " 'Q07912',\n",
       " 'Q08881',\n",
       " 'Q12851',\n",
       " 'Q12866',\n",
       " 'Q13131',\n",
       " 'Q13153',\n",
       " 'Q13177',\n",
       " 'Q13188',\n",
       " 'Q13237',\n",
       " 'Q13464',\n",
       " 'Q13554',\n",
       " 'Q13555',\n",
       " 'Q13557',\n",
       " 'Q13627',\n",
       " 'Q13882',\n",
       " 'Q13976',\n",
       " 'Q14012',\n",
       " 'Q14164',\n",
       " 'Q14289',\n",
       " 'Q14680',\n",
       " 'Q15078',\n",
       " 'Q15118',\n",
       " 'Q15139',\n",
       " 'Q15303',\n",
       " 'Q15418',\n",
       " 'Q15759',\n",
       " 'Q16288',\n",
       " 'Q16512',\n",
       " 'Q16513',\n",
       " 'Q16539',\n",
       " 'Q16566',\n",
       " 'Q16584',\n",
       " 'Q16620',\n",
       " 'Q16644',\n",
       " 'Q5S007',\n",
       " 'Q5VT25',\n",
       " 'Q7KZI7',\n",
       " 'Q7L7X3',\n",
       " 'Q86V86',\n",
       " 'Q8IU85',\n",
       " 'Q8IW41',\n",
       " 'Q8N4C8',\n",
       " 'Q8NE63',\n",
       " 'Q8TDC3',\n",
       " 'Q96GD4',\n",
       " 'Q96KB5',\n",
       " 'Q96L34',\n",
       " 'Q96PF2',\n",
       " 'Q96RG2',\n",
       " 'Q96RR4',\n",
       " 'Q96SB4',\n",
       " 'Q99683',\n",
       " 'Q9BUB5',\n",
       " 'Q9BWU1',\n",
       " 'Q9BXA7',\n",
       " 'Q9BZL6',\n",
       " 'Q9H0K1',\n",
       " 'Q9H2G2',\n",
       " 'Q9H2X6',\n",
       " 'Q9H3Y6',\n",
       " 'Q9H4B4',\n",
       " 'Q9HAZ1',\n",
       " 'Q9HBH9',\n",
       " 'Q9HBY8',\n",
       " 'Q9HC98',\n",
       " 'Q9HCP0',\n",
       " 'Q9NR20',\n",
       " 'Q9NWZ3',\n",
       " 'Q9NYL2',\n",
       " 'Q9P1W9',\n",
       " 'Q9P289',\n",
       " 'Q9UBE8',\n",
       " 'Q9UBF8',\n",
       " 'Q9UBS0',\n",
       " 'Q9UEE5',\n",
       " 'Q9UGI9',\n",
       " 'Q9UGJ0',\n",
       " 'Q9UHD2',\n",
       " 'Q9UM73',\n",
       " 'Q9UQM7',\n",
       " 'Q9Y243',\n",
       " 'Q9Y463',\n",
       " 'Q9Y478',\n",
       " 'Q9Y4K4',\n",
       " 'Q9Y6M4']"
      ]
     },
     "execution_count": 6,
     "metadata": {},
     "output_type": "execute_result"
    }
   ],
   "source": [
    "protein_df[\"Gene\"].tolist() "
   ]
  },
  {
   "cell_type": "code",
   "execution_count": 7,
   "metadata": {},
   "outputs": [],
   "source": [
    "new_list = [] \n",
    "pdbs = protein_df[\"Gene\"].tolist() \n",
    "for index in range(0, 128):\n",
    "    # print(pdbs[index])\n",
    "    protein = protein_list[index]\n",
    "    csv_file = path + 'p2rank/predict_protein_list/AF-' + pdbs[index] + '-F1-model_v4.pdb_residues.csv'\n",
    "    pdb_residues = pd.read_csv(csv_file)\n",
    "    pdb_residues.columns = pdb_residues.columns.str.strip()\n",
    "    pocket_list = pdb_residues[\"pocket\"].unique()\n",
    "    pocket_num = len(pocket_list) - 1\n",
    "    current_pocket = []\n",
    "    for i in range(pocket_num):\n",
    "        current_pocket.extend(pdb_residues[pdb_residues[\"pocket\"] == (i+1)].index.tolist())\n",
    "        current_pocket.sort()\n",
    "    pocket = protein.subresidue(index=current_pocket)\n",
    "    new_list.append(pocket)"
   ]
  },
  {
   "cell_type": "code",
   "execution_count": 8,
   "metadata": {},
   "outputs": [
    {
     "data": {
      "text/plain": [
       "[PackedProtein(batch_size=1, num_atoms=[73], num_bonds=[562], num_residues=[73]),\n",
       " PackedProtein(batch_size=1, num_atoms=[55], num_bonds=[559], num_residues=[55]),\n",
       " PackedProtein(batch_size=1, num_atoms=[302], num_bonds=[3167], num_residues=[302]),\n",
       " PackedProtein(batch_size=1, num_atoms=[133], num_bonds=[1323], num_residues=[133]),\n",
       " PackedProtein(batch_size=1, num_atoms=[65], num_bonds=[502], num_residues=[65]),\n",
       " PackedProtein(batch_size=1, num_atoms=[87], num_bonds=[904], num_residues=[87]),\n",
       " PackedProtein(batch_size=1, num_atoms=[113], num_bonds=[1136], num_residues=[113]),\n",
       " PackedProtein(batch_size=1, num_atoms=[65], num_bonds=[627], num_residues=[65]),\n",
       " PackedProtein(batch_size=1, num_atoms=[76], num_bonds=[642], num_residues=[76]),\n",
       " PackedProtein(batch_size=1, num_atoms=[131], num_bonds=[1300], num_residues=[131]),\n",
       " PackedProtein(batch_size=1, num_atoms=[74], num_bonds=[781], num_residues=[74]),\n",
       " PackedProtein(batch_size=1, num_atoms=[114], num_bonds=[1103], num_residues=[114]),\n",
       " PackedProtein(batch_size=1, num_atoms=[69], num_bonds=[622], num_residues=[69]),\n",
       " PackedProtein(batch_size=1, num_atoms=[7], num_bonds=[34], num_residues=[7]),\n",
       " PackedProtein(batch_size=1, num_atoms=[67], num_bonds=[556], num_residues=[67]),\n",
       " PackedProtein(batch_size=1, num_atoms=[125], num_bonds=[1253], num_residues=[125]),\n",
       " PackedProtein(batch_size=1, num_atoms=[340], num_bonds=[3709], num_residues=[340]),\n",
       " PackedProtein(batch_size=1, num_atoms=[122], num_bonds=[976], num_residues=[122]),\n",
       " PackedProtein(batch_size=1, num_atoms=[169], num_bonds=[1722], num_residues=[169]),\n",
       " PackedProtein(batch_size=1, num_atoms=[180], num_bonds=[1933], num_residues=[180]),\n",
       " PackedProtein(batch_size=1, num_atoms=[141], num_bonds=[1268], num_residues=[141]),\n",
       " PackedProtein(batch_size=1, num_atoms=[155], num_bonds=[1447], num_residues=[155]),\n",
       " PackedProtein(batch_size=1, num_atoms=[64], num_bonds=[617], num_residues=[64]),\n",
       " PackedProtein(batch_size=1, num_atoms=[62], num_bonds=[609], num_residues=[62]),\n",
       " PackedProtein(batch_size=1, num_atoms=[184], num_bonds=[1818], num_residues=[184]),\n",
       " PackedProtein(batch_size=1, num_atoms=[219], num_bonds=[2304], num_residues=[219]),\n",
       " PackedProtein(batch_size=1, num_atoms=[109], num_bonds=[1039], num_residues=[109]),\n",
       " PackedProtein(batch_size=1, num_atoms=[188], num_bonds=[1851], num_residues=[188]),\n",
       " PackedProtein(batch_size=1, num_atoms=[129], num_bonds=[1387], num_residues=[129]),\n",
       " PackedProtein(batch_size=1, num_atoms=[156], num_bonds=[1549], num_residues=[156]),\n",
       " PackedProtein(batch_size=1, num_atoms=[208], num_bonds=[2134], num_residues=[208]),\n",
       " PackedProtein(batch_size=1, num_atoms=[144], num_bonds=[1257], num_residues=[144]),\n",
       " PackedProtein(batch_size=1, num_atoms=[115], num_bonds=[1001], num_residues=[115]),\n",
       " PackedProtein(batch_size=1, num_atoms=[108], num_bonds=[948], num_residues=[108]),\n",
       " PackedProtein(batch_size=1, num_atoms=[44], num_bonds=[422], num_residues=[44]),\n",
       " PackedProtein(batch_size=1, num_atoms=[57], num_bonds=[470], num_residues=[57]),\n",
       " PackedProtein(batch_size=1, num_atoms=[141], num_bonds=[1366], num_residues=[141]),\n",
       " PackedProtein(batch_size=1, num_atoms=[132], num_bonds=[1375], num_residues=[132]),\n",
       " PackedProtein(batch_size=1, num_atoms=[82], num_bonds=[633], num_residues=[82]),\n",
       " PackedProtein(batch_size=1, num_atoms=[108], num_bonds=[1035], num_residues=[108]),\n",
       " PackedProtein(batch_size=1, num_atoms=[174], num_bonds=[1637], num_residues=[174]),\n",
       " PackedProtein(batch_size=1, num_atoms=[256], num_bonds=[2839], num_residues=[256]),\n",
       " PackedProtein(batch_size=1, num_atoms=[79], num_bonds=[596], num_residues=[79]),\n",
       " PackedProtein(batch_size=1, num_atoms=[380], num_bonds=[3915], num_residues=[380]),\n",
       " PackedProtein(batch_size=1, num_atoms=[110], num_bonds=[983], num_residues=[110]),\n",
       " PackedProtein(batch_size=1, num_atoms=[138], num_bonds=[1360], num_residues=[138]),\n",
       " PackedProtein(batch_size=1, num_atoms=[101], num_bonds=[963], num_residues=[101]),\n",
       " PackedProtein(batch_size=1, num_atoms=[47], num_bonds=[403], num_residues=[47]),\n",
       " PackedProtein(batch_size=1, num_atoms=[68], num_bonds=[542], num_residues=[68]),\n",
       " PackedProtein(batch_size=1, num_atoms=[58], num_bonds=[638], num_residues=[58]),\n",
       " PackedProtein(batch_size=1, num_atoms=[123], num_bonds=[1137], num_residues=[123]),\n",
       " PackedProtein(batch_size=1, num_atoms=[114], num_bonds=[1022], num_residues=[114]),\n",
       " PackedProtein(batch_size=1, num_atoms=[51], num_bonds=[381], num_residues=[51]),\n",
       " PackedProtein(batch_size=1, num_atoms=[106], num_bonds=[973], num_residues=[106]),\n",
       " PackedProtein(batch_size=1, num_atoms=[55], num_bonds=[372], num_residues=[55]),\n",
       " PackedProtein(batch_size=1, num_atoms=[185], num_bonds=[1853], num_residues=[185]),\n",
       " PackedProtein(batch_size=1, num_atoms=[68], num_bonds=[547], num_residues=[68]),\n",
       " PackedProtein(batch_size=1, num_atoms=[98], num_bonds=[844], num_residues=[98]),\n",
       " PackedProtein(batch_size=1, num_atoms=[61], num_bonds=[554], num_residues=[61]),\n",
       " PackedProtein(batch_size=1, num_atoms=[92], num_bonds=[816], num_residues=[92]),\n",
       " PackedProtein(batch_size=1, num_atoms=[81], num_bonds=[708], num_residues=[81]),\n",
       " PackedProtein(batch_size=1, num_atoms=[87], num_bonds=[726], num_residues=[87]),\n",
       " PackedProtein(batch_size=1, num_atoms=[73], num_bonds=[560], num_residues=[73]),\n",
       " PackedProtein(batch_size=1, num_atoms=[66], num_bonds=[537], num_residues=[66]),\n",
       " PackedProtein(batch_size=1, num_atoms=[82], num_bonds=[715], num_residues=[82]),\n",
       " PackedProtein(batch_size=1, num_atoms=[335], num_bonds=[3611], num_residues=[335]),\n",
       " PackedProtein(batch_size=1, num_atoms=[185], num_bonds=[2070], num_residues=[185]),\n",
       " PackedProtein(batch_size=1, num_atoms=[77], num_bonds=[689], num_residues=[77]),\n",
       " PackedProtein(batch_size=1, num_atoms=[72], num_bonds=[619], num_residues=[72]),\n",
       " PackedProtein(batch_size=1, num_atoms=[77], num_bonds=[750], num_residues=[77]),\n",
       " PackedProtein(batch_size=1, num_atoms=[74], num_bonds=[641], num_residues=[74]),\n",
       " PackedProtein(batch_size=1, num_atoms=[136], num_bonds=[1250], num_residues=[136]),\n",
       " PackedProtein(batch_size=1, num_atoms=[89], num_bonds=[708], num_residues=[89]),\n",
       " PackedProtein(batch_size=1, num_atoms=[123], num_bonds=[1163], num_residues=[123]),\n",
       " PackedProtein(batch_size=1, num_atoms=[433], num_bonds=[5202], num_residues=[433]),\n",
       " PackedProtein(batch_size=1, num_atoms=[69], num_bonds=[631], num_residues=[69]),\n",
       " PackedProtein(batch_size=1, num_atoms=[100], num_bonds=[927], num_residues=[100]),\n",
       " PackedProtein(batch_size=1, num_atoms=[66], num_bonds=[618], num_residues=[66]),\n",
       " PackedProtein(batch_size=1, num_atoms=[83], num_bonds=[806], num_residues=[83]),\n",
       " PackedProtein(batch_size=1, num_atoms=[124], num_bonds=[1169], num_residues=[124]),\n",
       " PackedProtein(batch_size=1, num_atoms=[136], num_bonds=[1059], num_residues=[136]),\n",
       " PackedProtein(batch_size=1, num_atoms=[140], num_bonds=[1234], num_residues=[140]),\n",
       " PackedProtein(batch_size=1, num_atoms=[80], num_bonds=[799], num_residues=[80]),\n",
       " PackedProtein(batch_size=1, num_atoms=[123], num_bonds=[1020], num_residues=[123]),\n",
       " PackedProtein(batch_size=1, num_atoms=[96], num_bonds=[1007], num_residues=[96]),\n",
       " PackedProtein(batch_size=1, num_atoms=[52], num_bonds=[491], num_residues=[52]),\n",
       " PackedProtein(batch_size=1, num_atoms=[149], num_bonds=[1643], num_residues=[149]),\n",
       " PackedProtein(batch_size=1, num_atoms=[294], num_bonds=[3110], num_residues=[294]),\n",
       " PackedProtein(batch_size=1, num_atoms=[305], num_bonds=[3295], num_residues=[305]),\n",
       " PackedProtein(batch_size=1, num_atoms=[527], num_bonds=[4377], num_residues=[527]),\n",
       " PackedProtein(batch_size=1, num_atoms=[83], num_bonds=[797], num_residues=[83]),\n",
       " PackedProtein(batch_size=1, num_atoms=[141], num_bonds=[1364], num_residues=[141]),\n",
       " PackedProtein(batch_size=1, num_atoms=[102], num_bonds=[958], num_residues=[102]),\n",
       " PackedProtein(batch_size=1, num_atoms=[155], num_bonds=[1416], num_residues=[155]),\n",
       " PackedProtein(batch_size=1, num_atoms=[150], num_bonds=[1352], num_residues=[150]),\n",
       " PackedProtein(batch_size=1, num_atoms=[84], num_bonds=[737], num_residues=[84]),\n",
       " PackedProtein(batch_size=1, num_atoms=[58], num_bonds=[424], num_residues=[58]),\n",
       " PackedProtein(batch_size=1, num_atoms=[44], num_bonds=[494], num_residues=[44]),\n",
       " PackedProtein(batch_size=1, num_atoms=[72], num_bonds=[649], num_residues=[72]),\n",
       " PackedProtein(batch_size=1, num_atoms=[307], num_bonds=[3090], num_residues=[307]),\n",
       " PackedProtein(batch_size=1, num_atoms=[59], num_bonds=[513], num_residues=[59]),\n",
       " PackedProtein(batch_size=1, num_atoms=[135], num_bonds=[1336], num_residues=[135]),\n",
       " PackedProtein(batch_size=1, num_atoms=[76], num_bonds=[751], num_residues=[76]),\n",
       " PackedProtein(batch_size=1, num_atoms=[77], num_bonds=[607], num_residues=[77]),\n",
       " PackedProtein(batch_size=1, num_atoms=[82], num_bonds=[646], num_residues=[82]),\n",
       " PackedProtein(batch_size=1, num_atoms=[47], num_bonds=[444], num_residues=[47]),\n",
       " PackedProtein(batch_size=1, num_atoms=[95], num_bonds=[882], num_residues=[95]),\n",
       " PackedProtein(batch_size=1, num_atoms=[99], num_bonds=[931], num_residues=[99]),\n",
       " PackedProtein(batch_size=1, num_atoms=[48], num_bonds=[423], num_residues=[48]),\n",
       " PackedProtein(batch_size=1, num_atoms=[118], num_bonds=[983], num_residues=[118]),\n",
       " PackedProtein(batch_size=1, num_atoms=[78], num_bonds=[624], num_residues=[78]),\n",
       " PackedProtein(batch_size=1, num_atoms=[189], num_bonds=[1839], num_residues=[189]),\n",
       " PackedProtein(batch_size=1, num_atoms=[62], num_bonds=[531], num_residues=[62]),\n",
       " PackedProtein(batch_size=1, num_atoms=[101], num_bonds=[1023], num_residues=[101]),\n",
       " PackedProtein(batch_size=1, num_atoms=[70], num_bonds=[624], num_residues=[70]),\n",
       " PackedProtein(batch_size=1, num_atoms=[100], num_bonds=[897], num_residues=[100]),\n",
       " PackedProtein(batch_size=1, num_atoms=[325], num_bonds=[3744], num_residues=[325]),\n",
       " PackedProtein(batch_size=1, num_atoms=[57], num_bonds=[549], num_residues=[57]),\n",
       " PackedProtein(batch_size=1, num_atoms=[125], num_bonds=[1158], num_residues=[125]),\n",
       " PackedProtein(batch_size=1, num_atoms=[124], num_bonds=[1392], num_residues=[124]),\n",
       " PackedProtein(batch_size=1, num_atoms=[51], num_bonds=[428], num_residues=[51]),\n",
       " PackedProtein(batch_size=1, num_atoms=[59], num_bonds=[533], num_residues=[59]),\n",
       " PackedProtein(batch_size=1, num_atoms=[71], num_bonds=[637], num_residues=[71]),\n",
       " PackedProtein(batch_size=1, num_atoms=[89], num_bonds=[860], num_residues=[89]),\n",
       " PackedProtein(batch_size=1, num_atoms=[98], num_bonds=[718], num_residues=[98]),\n",
       " PackedProtein(batch_size=1, num_atoms=[35], num_bonds=[258], num_residues=[35]),\n",
       " PackedProtein(batch_size=1, num_atoms=[44], num_bonds=[390], num_residues=[44]),\n",
       " PackedProtein(batch_size=1, num_atoms=[58], num_bonds=[594], num_residues=[58])]"
      ]
     },
     "execution_count": 8,
     "metadata": {},
     "output_type": "execute_result"
    }
   ],
   "source": [
    "new_list"
   ]
  },
  {
   "cell_type": "code",
   "execution_count": 9,
   "metadata": {},
   "outputs": [
    {
     "data": {
      "text/plain": [
       "128"
      ]
     },
     "execution_count": 9,
     "metadata": {},
     "output_type": "execute_result"
    }
   ],
   "source": [
    "len(new_list)"
   ]
  },
  {
   "cell_type": "code",
   "execution_count": 11,
   "metadata": {},
   "outputs": [
    {
     "data": {
      "text/plain": [
       "torch.Size([73, 1280])"
      ]
     },
     "execution_count": 11,
     "metadata": {},
     "output_type": "execute_result"
    }
   ],
   "source": [
    "new_list[0].residue_feature.shape"
   ]
  },
  {
   "cell_type": "code",
   "execution_count": 18,
   "metadata": {},
   "outputs": [
    {
     "data": {
      "text/plain": [
       "PackedProtein(batch_size=1, num_atoms=[4128], num_bonds=[118646], num_residues=[4128])"
      ]
     },
     "execution_count": 18,
     "metadata": {},
     "output_type": "execute_result"
    }
   ],
   "source": [
    "protein_list[128]"
   ]
  },
  {
   "cell_type": "markdown",
   "metadata": {},
   "source": [
    "P78527"
   ]
  },
  {
   "cell_type": "code",
   "execution_count": 19,
   "metadata": {},
   "outputs": [],
   "source": [
    "p78527_list = []\n",
    "for index in range(0, 3):\n",
    "    protein = protein_list[128]\n",
    "    csv_file = path + 'p2rank/predict_protein_list/P78527/AF-P78527-F' + str(index * 7 + 1) + '-model_v4.pdb_residues.csv'\n",
    "    pdb_residues = pd.read_csv(csv_file)\n",
    "    pdb_residues.columns = pdb_residues.columns.str.strip()\n",
    "    pocket_list = pdb_residues[\"pocket\"].unique()\n",
    "    pocket_num = len(pocket_list) - 1\n",
    "    current_pocket = []\n",
    "    for i in range(pocket_num):\n",
    "        current_pocket.extend((pdb_residues[pdb_residues[\"pocket\"] == (i+1)].index + index * 1400).tolist())  # [0, 1400] [1400, 2800] [2800, 4200]\n",
    "        current_pocket.sort()\n",
    "    # print(current_pocket)\n",
    "    pocket = protein.subresidue(index=current_pocket)\n",
    "    p78527_list.append(pocket)"
   ]
  },
  {
   "cell_type": "code",
   "execution_count": 20,
   "metadata": {},
   "outputs": [
    {
     "data": {
      "text/plain": [
       "[PackedProtein(batch_size=1, num_atoms=[224], num_bonds=[1248], num_residues=[224]),\n",
       " PackedProtein(batch_size=1, num_atoms=[239], num_bonds=[1356], num_residues=[239]),\n",
       " PackedProtein(batch_size=1, num_atoms=[334], num_bonds=[2224], num_residues=[334])]"
      ]
     },
     "execution_count": 20,
     "metadata": {},
     "output_type": "execute_result"
    }
   ],
   "source": [
    "p78527_list"
   ]
  },
  {
   "cell_type": "code",
   "execution_count": 21,
   "metadata": {},
   "outputs": [
    {
     "data": {
      "text/plain": [
       "PackedProtein(batch_size=3, num_atoms=[224, 239, 334], num_bonds=[1248, 1356, 2224], num_residues=[224, 239, 334])"
      ]
     },
     "execution_count": 21,
     "metadata": {},
     "output_type": "execute_result"
    }
   ],
   "source": [
    "p78527 = data.Protein.pack(p78527_list)\n",
    "p78527"
   ]
  },
  {
   "cell_type": "code",
   "execution_count": 23,
   "metadata": {},
   "outputs": [
    {
     "data": {
      "text/plain": [
       "PackedProtein(batch_size=1, num_atoms=[797], num_bonds=[4828], num_residues=[797])"
      ]
     },
     "execution_count": 23,
     "metadata": {},
     "output_type": "execute_result"
    }
   ],
   "source": [
    "packed_p78527 = data.Protein.pack([p78527])\n",
    "packed_p78527"
   ]
  },
  {
   "cell_type": "code",
   "execution_count": 24,
   "metadata": {},
   "outputs": [],
   "source": [
    "new_list.append(packed_p78527)"
   ]
  },
  {
   "cell_type": "code",
   "execution_count": 25,
   "metadata": {},
   "outputs": [
    {
     "data": {
      "text/plain": [
       "129"
      ]
     },
     "execution_count": 25,
     "metadata": {},
     "output_type": "execute_result"
    }
   ],
   "source": [
    "len(new_list)"
   ]
  },
  {
   "cell_type": "markdown",
   "metadata": {},
   "source": [
    "***"
   ]
  },
  {
   "cell_type": "code",
   "execution_count": null,
   "metadata": {},
   "outputs": [],
   "source": [
    "p78527_list = []\n",
    "for index in range(0, 3):\n",
    "    pdb_name = path + 'pdb/P78527/AF-P78527-F' + str(index * 7 + 1) + '-model_v4.pdb'\n",
    "    # print(pdb_name)\n",
    "    protein = data.Protein.from_pdb(pdb_name)\n",
    "    # print(protein)\n",
    "    csv_file = path + 'p2rank/predict_protein_list/P78527/AF-P78527-F' + str(index * 7 + 1) + '-model_v4.pdb_residues.csv'\n",
    "    pdb_residues = pd.read_csv(csv_file)\n",
    "    pdb_residues.columns = pdb_residues.columns.str.strip()\n",
    "    pocket_list = pdb_residues[\"pocket\"].unique()\n",
    "    pocket_num = len(pocket_list) - 1\n",
    "    current_pocket = []\n",
    "    for i in range(pocket_num):\n",
    "        current_pocket.extend(pdb_residues[pdb_residues[\"pocket\"] == (i+1)].index.tolist())\n",
    "        current_pocket.sort()\n",
    "    pocket = protein.subresidue(index=current_pocket)\n",
    "    p78527_list.append(pocket)"
   ]
  },
  {
   "cell_type": "code",
   "execution_count": null,
   "metadata": {},
   "outputs": [
    {
     "data": {
      "text/plain": [
       "[Protein(num_atom=1832, num_bond=3482, num_residue=224),\n",
       " Protein(num_atom=2014, num_bond=3888, num_residue=239),\n",
       " Protein(num_atom=2790, num_bond=5354, num_residue=334)]"
      ]
     },
     "metadata": {},
     "output_type": "display_data"
    }
   ],
   "source": [
    "p78527_list"
   ]
  },
  {
   "cell_type": "code",
   "execution_count": null,
   "metadata": {},
   "outputs": [
    {
     "data": {
      "text/plain": [
       "PackedProtein(batch_size=3, num_atoms=[1832, 2014, 2790], num_bonds=[3482, 3888, 5354], num_residues=[224, 239, 334])"
      ]
     },
     "metadata": {},
     "output_type": "display_data"
    }
   ],
   "source": [
    "p78527 = data.Protein.pack(p78527_list)\n",
    "p78527"
   ]
  },
  {
   "cell_type": "code",
   "execution_count": null,
   "metadata": {},
   "outputs": [
    {
     "data": {
      "text/plain": [
       "PackedProtein(batch_size=1, num_atoms=[6636], num_bonds=[12724], num_residues=[797])"
      ]
     },
     "metadata": {},
     "output_type": "display_data"
    }
   ],
   "source": [
    "packed_p78527 = data.Protein.pack([p78527])\n",
    "packed_p78527"
   ]
  },
  {
   "cell_type": "code",
   "execution_count": null,
   "metadata": {},
   "outputs": [
    {
     "data": {
      "text/plain": [
       "Protein(num_atom=6636, num_bond=12724, num_residue=797)"
      ]
     },
     "metadata": {},
     "output_type": "display_data"
    }
   ],
   "source": [
    "p78527_pocket = packed_p78527.unpack()\n",
    "p78527_pocket[0]"
   ]
  },
  {
   "cell_type": "code",
   "execution_count": null,
   "metadata": {},
   "outputs": [],
   "source": [
    "new_list.append(p78527_pocket[0])"
   ]
  },
  {
   "cell_type": "code",
   "execution_count": 31,
   "metadata": {},
   "outputs": [
    {
     "data": {
      "text/plain": [
       "129"
      ]
     },
     "execution_count": 31,
     "metadata": {},
     "output_type": "execute_result"
    }
   ],
   "source": [
    "len(new_list)"
   ]
  },
  {
   "cell_type": "markdown",
   "metadata": {},
   "source": [
    "***"
   ]
  },
  {
   "cell_type": "code",
   "execution_count": 26,
   "metadata": {},
   "outputs": [],
   "source": [
    "for index in range(129, 229):\n",
    "    # print(pdbs[index])\n",
    "    protein = protein_list[index]\n",
    "    csv_file = path + 'p2rank/predict_protein_list/AF-' + pdbs[index] + '-F1-model_v4.pdb_residues.csv'\n",
    "    pdb_residues = pd.read_csv(csv_file)\n",
    "    pdb_residues.columns = pdb_residues.columns.str.strip()\n",
    "    pocket_list = pdb_residues[\"pocket\"].unique()\n",
    "    pocket_num = len(pocket_list) - 1\n",
    "    current_pocket = []\n",
    "    for i in range(pocket_num):\n",
    "        current_pocket.extend(pdb_residues[pdb_residues[\"pocket\"] == (i+1)].index.tolist())\n",
    "        current_pocket.sort()\n",
    "    pocket = protein.subresidue(index=current_pocket)\n",
    "    new_list.append(pocket)"
   ]
  },
  {
   "cell_type": "code",
   "execution_count": 27,
   "metadata": {},
   "outputs": [
    {
     "data": {
      "text/plain": [
       "229"
      ]
     },
     "execution_count": 27,
     "metadata": {},
     "output_type": "execute_result"
    }
   ],
   "source": [
    "len(new_list)"
   ]
  },
  {
   "cell_type": "code",
   "execution_count": 28,
   "metadata": {},
   "outputs": [
    {
     "name": "stdout",
     "output_type": "stream",
     "text": [
      "Average degree:  12.115432739257812\n",
      "Maximum degree:  32.0\n",
      "Minimum degree:  2.0\n",
      "Number of zero-degree nodes:  0\n"
     ]
    }
   ],
   "source": [
    "degree = new_list[128].degree_in + new_list[128].degree_out\n",
    "print(\"Average degree: \", degree.mean().item())\n",
    "print(\"Maximum degree: \", degree.max().item())\n",
    "print(\"Minimum degree: \", degree.min().item())\n",
    "print(\"Number of zero-degree nodes: \", (degree == 0).sum().item())"
   ]
  },
  {
   "cell_type": "code",
   "execution_count": 29,
   "metadata": {},
   "outputs": [],
   "source": [
    "protein_pkl = '../../../data/dta-datasets/KIBA/gearnetesm_pocket_Protein.pkl'  # pocket\n",
    "with utils.smart_open(protein_pkl, \"wb\") as fout:\n",
    "    pickle.dump(new_list, fout)"
   ]
  },
  {
   "attachments": {},
   "cell_type": "markdown",
   "metadata": {},
   "source": [
    "## GearNet Protein Construction"
   ]
  },
  {
   "attachments": {},
   "cell_type": "markdown",
   "metadata": {},
   "source": [
    "All the pocket are subgraph of the original protein. Read corrosponding pkl then generate pocket."
   ]
  },
  {
   "cell_type": "code",
   "execution_count": 1,
   "metadata": {},
   "outputs": [],
   "source": [
    "import pickle\n",
    "from tqdm import tqdm\n",
    "import pandas as pd\n",
    "from torchdrug import utils, data\n",
    "\n",
    "path = \"../../../data/dta-datasets/KIBA/\"\n",
    "protein_file = \"../../../data/dta-datasets/KIBA/kiba_proteins.csv\""
   ]
  },
  {
   "cell_type": "code",
   "execution_count": 2,
   "metadata": {},
   "outputs": [
    {
     "data": {
      "text/html": [
       "<div>\n",
       "<style scoped>\n",
       "    .dataframe tbody tr th:only-of-type {\n",
       "        vertical-align: middle;\n",
       "    }\n",
       "\n",
       "    .dataframe tbody tr th {\n",
       "        vertical-align: top;\n",
       "    }\n",
       "\n",
       "    .dataframe thead th {\n",
       "        text-align: right;\n",
       "    }\n",
       "</style>\n",
       "<table border=\"1\" class=\"dataframe\">\n",
       "  <thead>\n",
       "    <tr style=\"text-align: right;\">\n",
       "      <th></th>\n",
       "      <th>Gene</th>\n",
       "      <th>Sequence</th>\n",
       "    </tr>\n",
       "  </thead>\n",
       "  <tbody>\n",
       "    <tr>\n",
       "      <th>0</th>\n",
       "      <td>O00141</td>\n",
       "      <td>MTVKTEAAKGTLTYSRMRGMVAILIAFMKQRRMGLNDFIQKIANNS...</td>\n",
       "    </tr>\n",
       "    <tr>\n",
       "      <th>1</th>\n",
       "      <td>O00311</td>\n",
       "      <td>MEASLGIQMDEPMAFSPQRDRFQAEGSLKKNEQNFKLAGVKKDIEK...</td>\n",
       "    </tr>\n",
       "    <tr>\n",
       "      <th>2</th>\n",
       "      <td>O00329</td>\n",
       "      <td>MPPGVDCPMEFWTKEENQSVVVDFLLPTGVYLNFPVSRNANLSTIK...</td>\n",
       "    </tr>\n",
       "    <tr>\n",
       "      <th>3</th>\n",
       "      <td>O00418</td>\n",
       "      <td>MADEDLIFRLEGVDGGQSPRAGHDGDSDGDSDDEEGYFICPITDDP...</td>\n",
       "    </tr>\n",
       "    <tr>\n",
       "      <th>4</th>\n",
       "      <td>O00444</td>\n",
       "      <td>MATCIGEKIEDFKVGNLLGKGSFAGVYRAESIHTGLEVAIKMIDKK...</td>\n",
       "    </tr>\n",
       "    <tr>\n",
       "      <th>...</th>\n",
       "      <td>...</td>\n",
       "      <td>...</td>\n",
       "    </tr>\n",
       "    <tr>\n",
       "      <th>224</th>\n",
       "      <td>Q9Y243</td>\n",
       "      <td>MSDVTIVKEGWVQKRGEYIKNWRPRYFLLKTDGSFIGYKEKPQDVD...</td>\n",
       "    </tr>\n",
       "    <tr>\n",
       "      <th>225</th>\n",
       "      <td>Q9Y463</td>\n",
       "      <td>MAVPPGHGPFSGFPGPQEHTQVLPDVRLLPRRLPLAFRDATSAPLR...</td>\n",
       "    </tr>\n",
       "    <tr>\n",
       "      <th>226</th>\n",
       "      <td>Q9Y478</td>\n",
       "      <td>MGNTSSERAALERHGGHKTPRRDSSGGTKDGDRPKILMDSPEDADL...</td>\n",
       "    </tr>\n",
       "    <tr>\n",
       "      <th>227</th>\n",
       "      <td>Q9Y4K4</td>\n",
       "      <td>MEAPLRPAADILRRNPQQDYELVQRVGSGTYGDVYKARNVHTGELA...</td>\n",
       "    </tr>\n",
       "    <tr>\n",
       "      <th>228</th>\n",
       "      <td>Q9Y6M4</td>\n",
       "      <td>MENKKKDKDKSDDRMARPSGRSGHNTRGTGSSSSGVLMVGPNFRVG...</td>\n",
       "    </tr>\n",
       "  </tbody>\n",
       "</table>\n",
       "<p>229 rows × 2 columns</p>\n",
       "</div>"
      ],
      "text/plain": [
       "       Gene                                           Sequence\n",
       "0    O00141  MTVKTEAAKGTLTYSRMRGMVAILIAFMKQRRMGLNDFIQKIANNS...\n",
       "1    O00311  MEASLGIQMDEPMAFSPQRDRFQAEGSLKKNEQNFKLAGVKKDIEK...\n",
       "2    O00329  MPPGVDCPMEFWTKEENQSVVVDFLLPTGVYLNFPVSRNANLSTIK...\n",
       "3    O00418  MADEDLIFRLEGVDGGQSPRAGHDGDSDGDSDDEEGYFICPITDDP...\n",
       "4    O00444  MATCIGEKIEDFKVGNLLGKGSFAGVYRAESIHTGLEVAIKMIDKK...\n",
       "..      ...                                                ...\n",
       "224  Q9Y243  MSDVTIVKEGWVQKRGEYIKNWRPRYFLLKTDGSFIGYKEKPQDVD...\n",
       "225  Q9Y463  MAVPPGHGPFSGFPGPQEHTQVLPDVRLLPRRLPLAFRDATSAPLR...\n",
       "226  Q9Y478  MGNTSSERAALERHGGHKTPRRDSSGGTKDGDRPKILMDSPEDADL...\n",
       "227  Q9Y4K4  MEAPLRPAADILRRNPQQDYELVQRVGSGTYGDVYKARNVHTGELA...\n",
       "228  Q9Y6M4  MENKKKDKDKSDDRMARPSGRSGHNTRGTGSSSSGVLMVGPNFRVG...\n",
       "\n",
       "[229 rows x 2 columns]"
      ]
     },
     "execution_count": 2,
     "metadata": {},
     "output_type": "execute_result"
    }
   ],
   "source": [
    "protein_df = pd.read_csv(protein_file, usecols=['Gene', 'Sequence'])\n",
    "protein_df"
   ]
  },
  {
   "cell_type": "code",
   "execution_count": 4,
   "metadata": {},
   "outputs": [],
   "source": [
    "protein_pkl = '../../../data/dta-datasets/KIBA/gearnetesm650m_Protein.pkl'  # pocket\n",
    "with utils.smart_open(protein_pkl, \"rb\") as fin:\n",
    "    protein_list = pickle.load(fin)"
   ]
  },
  {
   "cell_type": "code",
   "execution_count": 5,
   "metadata": {},
   "outputs": [
    {
     "data": {
      "text/plain": [
       "[PackedProtein(batch_size=1, num_atoms=[431], num_bonds=[7507], num_residues=[431]),\n",
       " PackedProtein(batch_size=1, num_atoms=[574], num_bonds=[8301], num_residues=[574]),\n",
       " PackedProtein(batch_size=1, num_atoms=[1044], num_bonds=[19549], num_residues=[1044]),\n",
       " PackedProtein(batch_size=1, num_atoms=[725], num_bonds=[11806], num_residues=[725]),\n",
       " PackedProtein(batch_size=1, num_atoms=[970], num_bonds=[13888], num_residues=[970]),\n",
       " PackedProtein(batch_size=1, num_atoms=[476], num_bonds=[8081], num_residues=[476]),\n",
       " PackedProtein(batch_size=1, num_atoms=[756], num_bonds=[12719], num_residues=[756]),\n",
       " PackedProtein(batch_size=1, num_atoms=[403], num_bonds=[6331], num_residues=[403]),\n",
       " PackedProtein(batch_size=1, num_atoms=[740], num_bonds=[11870], num_residues=[740]),\n",
       " PackedProtein(batch_size=1, num_atoms=[745], num_bonds=[12311], num_residues=[745]),\n",
       " PackedProtein(batch_size=1, num_atoms=[365], num_bonds=[6814], num_residues=[365]),\n",
       " PackedProtein(batch_size=1, num_atoms=[556], num_bonds=[9386], num_residues=[556]),\n",
       " PackedProtein(batch_size=1, num_atoms=[454], num_bonds=[7409], num_residues=[454]),\n",
       " PackedProtein(batch_size=1, num_atoms=[272], num_bonds=[3534], num_residues=[272]),\n",
       " PackedProtein(batch_size=1, num_atoms=[588], num_bonds=[8956], num_residues=[588]),\n",
       " PackedProtein(batch_size=1, num_atoms=[661], num_bonds=[8488], num_residues=[661]),\n",
       " PackedProtein(batch_size=1, num_atoms=[1132], num_bonds=[21304], num_residues=[1132]),\n",
       " PackedProtein(batch_size=1, num_atoms=[1388], num_bonds=[19926], num_residues=[1388]),\n",
       " PackedProtein(batch_size=1, num_atoms=[802], num_bonds=[13976], num_residues=[802]),\n",
       " PackedProtein(batch_size=1, num_atoms=[772], num_bonds=[14059], num_residues=[772]),\n",
       " PackedProtein(batch_size=1, num_atoms=[890], num_bonds=[14404], num_residues=[890]),\n",
       " PackedProtein(batch_size=1, num_atoms=[1239], num_bonds=[17985], num_residues=[1239]),\n",
       " PackedProtein(batch_size=1, num_atoms=[591], num_bonds=[8296], num_residues=[591]),\n",
       " PackedProtein(batch_size=1, num_atoms=[543], num_bonds=[8702], num_residues=[543]),\n",
       " PackedProtein(batch_size=1, num_atoms=[1130], num_bonds=[14517], num_residues=[1130]),\n",
       " PackedProtein(batch_size=1, num_atoms=[1210], num_bonds=[21882], num_residues=[1210]),\n",
       " PackedProtein(batch_size=1, num_atoms=[648], num_bonds=[9628], num_residues=[648]),\n",
       " PackedProtein(batch_size=1, num_atoms=[1255], num_bonds=[22209], num_residues=[1255]),\n",
       " PackedProtein(batch_size=1, num_atoms=[796], num_bonds=[14606], num_residues=[796]),\n",
       " PackedProtein(batch_size=1, num_atoms=[697], num_bonds=[13228], num_residues=[697]),\n",
       " PackedProtein(batch_size=1, num_atoms=[671], num_bonds=[12841], num_residues=[671]),\n",
       " PackedProtein(batch_size=1, num_atoms=[1382], num_bonds=[25486], num_residues=[1382]),\n",
       " PackedProtein(batch_size=1, num_atoms=[509], num_bonds=[9040], num_residues=[509]),\n",
       " PackedProtein(batch_size=1, num_atoms=[537], num_bonds=[9484], num_residues=[537]),\n",
       " PackedProtein(batch_size=1, num_atoms=[297], num_bonds=[5545], num_residues=[297]),\n",
       " PackedProtein(batch_size=1, num_atoms=[822], num_bonds=[13442], num_residues=[822]),\n",
       " PackedProtein(batch_size=1, num_atoms=[972], num_bonds=[18216], num_residues=[972]),\n",
       " PackedProtein(batch_size=1, num_atoms=[543], num_bonds=[9533], num_residues=[543]),\n",
       " PackedProtein(batch_size=1, num_atoms=[512], num_bonds=[9075], num_residues=[512]),\n",
       " PackedProtein(batch_size=1, num_atoms=[1114], num_bonds=[19840], num_residues=[1114]),\n",
       " PackedProtein(batch_size=1, num_atoms=[1367], num_bonds=[25306], num_residues=[1367]),\n",
       " PackedProtein(batch_size=1, num_atoms=[1390], num_bonds=[27647], num_residues=[1390]),\n",
       " PackedProtein(batch_size=1, num_atoms=[526], num_bonds=[9277], num_residues=[526]),\n",
       " PackedProtein(batch_size=1, num_atoms=[2347], num_bonds=[46035], num_residues=[2347]),\n",
       " PackedProtein(batch_size=1, num_atoms=[1106], num_bonds=[18888], num_residues=[1106]),\n",
       " PackedProtein(batch_size=1, num_atoms=[529], num_bonds=[9475], num_residues=[529]),\n",
       " PackedProtein(batch_size=1, num_atoms=[976], num_bonds=[18002], num_residues=[976]),\n",
       " PackedProtein(batch_size=1, num_atoms=[313], num_bonds=[5712], num_residues=[313]),\n",
       " PackedProtein(batch_size=1, num_atoms=[822], num_bonds=[13483], num_residues=[822]),\n",
       " PackedProtein(batch_size=1, num_atoms=[303], num_bonds=[5566], num_residues=[303]),\n",
       " PackedProtein(batch_size=1, num_atoms=[536], num_bonds=[9506], num_residues=[536]),\n",
       " PackedProtein(batch_size=1, num_atoms=[766], num_bonds=[11016], num_residues=[766]),\n",
       " PackedProtein(batch_size=1, num_atoms=[406], num_bonds=[6561], num_residues=[406]),\n",
       " PackedProtein(batch_size=1, num_atoms=[1089], num_bonds=[19104], num_residues=[1089]),\n",
       " PackedProtein(batch_size=1, num_atoms=[822], num_bonds=[13206], num_residues=[822]),\n",
       " PackedProtein(batch_size=1, num_atoms=[672], num_bonds=[12833], num_residues=[672]),\n",
       " PackedProtein(batch_size=1, num_atoms=[351], num_bonds=[6645], num_residues=[351]),\n",
       " PackedProtein(batch_size=1, num_atoms=[1338], num_bonds=[23262], num_residues=[1338]),\n",
       " PackedProtein(batch_size=1, num_atoms=[350], num_bonds=[6507], num_residues=[350]),\n",
       " PackedProtein(batch_size=1, num_atoms=[821], num_bonds=[13519], num_residues=[821]),\n",
       " PackedProtein(batch_size=1, num_atoms=[802], num_bonds=[13379], num_residues=[802]),\n",
       " PackedProtein(batch_size=1, num_atoms=[806], num_bonds=[13515], num_residues=[806]),\n",
       " PackedProtein(batch_size=1, num_atoms=[351], num_bonds=[6624], num_residues=[351]),\n",
       " PackedProtein(batch_size=1, num_atoms=[351], num_bonds=[6629], num_residues=[351]),\n",
       " PackedProtein(batch_size=1, num_atoms=[525], num_bonds=[7991], num_residues=[525]),\n",
       " PackedProtein(batch_size=1, num_atoms=[1154], num_bonds=[21753], num_residues=[1154]),\n",
       " PackedProtein(batch_size=1, num_atoms=[683], num_bonds=[12816], num_residues=[683]),\n",
       " PackedProtein(batch_size=1, num_atoms=[298], num_bonds=[5562], num_residues=[298]),\n",
       " PackedProtein(batch_size=1, num_atoms=[379], num_bonds=[6989], num_residues=[379]),\n",
       " PackedProtein(batch_size=1, num_atoms=[753], num_bonds=[10524], num_residues=[753]),\n",
       " PackedProtein(batch_size=1, num_atoms=[360], num_bonds=[6666], num_residues=[360]),\n",
       " PackedProtein(batch_size=1, num_atoms=[976], num_bonds=[18766], num_residues=[976]),\n",
       " PackedProtein(batch_size=1, num_atoms=[1055], num_bonds=[19426], num_residues=[1055]),\n",
       " PackedProtein(batch_size=1, num_atoms=[864], num_bonds=[16788], num_residues=[864]),\n",
       " PackedProtein(batch_size=1, num_atoms=[1187], num_bonds=[22079], num_residues=[1187]),\n",
       " PackedProtein(batch_size=1, num_atoms=[646], num_bonds=[8424], num_residues=[646]),\n",
       " PackedProtein(batch_size=1, num_atoms=[894], num_bonds=[15699], num_residues=[894]),\n",
       " PackedProtein(batch_size=1, num_atoms=[480], num_bonds=[8833], num_residues=[480]),\n",
       " PackedProtein(batch_size=1, num_atoms=[481], num_bonds=[8855], num_residues=[481]),\n",
       " PackedProtein(batch_size=1, num_atoms=[590], num_bonds=[10368], num_residues=[590]),\n",
       " PackedProtein(batch_size=1, num_atoms=[1363], num_bonds=[23651], num_residues=[1363]),\n",
       " PackedProtein(batch_size=1, num_atoms=[1356], num_bonds=[23708], num_residues=[1356]),\n",
       " PackedProtein(batch_size=1, num_atoms=[400], num_bonds=[6787], num_residues=[400]),\n",
       " PackedProtein(batch_size=1, num_atoms=[993], num_bonds=[17735], num_residues=[993]),\n",
       " PackedProtein(batch_size=1, num_atoms=[450], num_bonds=[8976], num_residues=[450]),\n",
       " PackedProtein(batch_size=1, num_atoms=[467], num_bonds=[7722], num_residues=[467]),\n",
       " PackedProtein(batch_size=1, num_atoms=[596], num_bonds=[10318], num_residues=[596]),\n",
       " PackedProtein(batch_size=1, num_atoms=[1068], num_bonds=[20206], num_residues=[1068]),\n",
       " PackedProtein(batch_size=1, num_atoms=[1070], num_bonds=[19959], num_residues=[1070]),\n",
       " PackedProtein(batch_size=1, num_atoms=[2549], num_bonds=[42733], num_residues=[2549]),\n",
       " PackedProtein(batch_size=1, num_atoms=[507], num_bonds=[9353], num_residues=[507]),\n",
       " PackedProtein(batch_size=1, num_atoms=[1182], num_bonds=[15333], num_residues=[1182]),\n",
       " PackedProtein(batch_size=1, num_atoms=[505], num_bonds=[9324], num_residues=[505]),\n",
       " PackedProtein(batch_size=1, num_atoms=[619], num_bonds=[11592], num_residues=[619]),\n",
       " PackedProtein(batch_size=1, num_atoms=[635], num_bonds=[11623], num_residues=[635]),\n",
       " PackedProtein(batch_size=1, num_atoms=[427], num_bonds=[7405], num_residues=[427]),\n",
       " PackedProtein(batch_size=1, num_atoms=[424], num_bonds=[7287], num_residues=[424]),\n",
       " PackedProtein(batch_size=1, num_atoms=[337], num_bonds=[5862], num_residues=[337]),\n",
       " PackedProtein(batch_size=1, num_atoms=[415], num_bonds=[6559], num_residues=[415]),\n",
       " PackedProtein(batch_size=1, num_atoms=[1102], num_bonds=[20779], num_residues=[1102]),\n",
       " PackedProtein(batch_size=1, num_atoms=[400], num_bonds=[6478], num_residues=[400]),\n",
       " PackedProtein(batch_size=1, num_atoms=[464], num_bonds=[7427], num_residues=[464]),\n",
       " PackedProtein(batch_size=1, num_atoms=[416], num_bonds=[6659], num_residues=[416]),\n",
       " PackedProtein(batch_size=1, num_atoms=[484], num_bonds=[7933], num_residues=[484]),\n",
       " PackedProtein(batch_size=1, num_atoms=[499], num_bonds=[7671], num_residues=[499]),\n",
       " PackedProtein(batch_size=1, num_atoms=[483], num_bonds=[7716], num_residues=[483]),\n",
       " PackedProtein(batch_size=1, num_atoms=[420], num_bonds=[7597], num_residues=[420]),\n",
       " PackedProtein(batch_size=1, num_atoms=[346], num_bonds=[6157], num_residues=[346]),\n",
       " PackedProtein(batch_size=1, num_atoms=[372], num_bonds=[6727], num_residues=[372]),\n",
       " PackedProtein(batch_size=1, num_atoms=[505], num_bonds=[8981], num_residues=[505]),\n",
       " PackedProtein(batch_size=1, num_atoms=[712], num_bonds=[10003], num_residues=[712]),\n",
       " PackedProtein(batch_size=1, num_atoms=[740], num_bonds=[13442], num_residues=[740]),\n",
       " PackedProtein(batch_size=1, num_atoms=[675], num_bonds=[11330], num_residues=[675]),\n",
       " PackedProtein(batch_size=1, num_atoms=[358], num_bonds=[6470], num_residues=[358]),\n",
       " PackedProtein(batch_size=1, num_atoms=[445], num_bonds=[6711], num_residues=[445]),\n",
       " PackedProtein(batch_size=1, num_atoms=[841], num_bonds=[9798], num_residues=[841]),\n",
       " PackedProtein(batch_size=1, num_atoms=[1124], num_bonds=[21458], num_residues=[1124]),\n",
       " PackedProtein(batch_size=1, num_atoms=[334], num_bonds=[5968], num_residues=[334]),\n",
       " PackedProtein(batch_size=1, num_atoms=[603], num_bonds=[10867], num_residues=[603]),\n",
       " PackedProtein(batch_size=1, num_atoms=[647], num_bonds=[11064], num_residues=[647]),\n",
       " PackedProtein(batch_size=1, num_atoms=[367], num_bonds=[6712], num_residues=[367]),\n",
       " PackedProtein(batch_size=1, num_atoms=[464], num_bonds=[7518], num_residues=[464]),\n",
       " PackedProtein(batch_size=1, num_atoms=[331], num_bonds=[5805], num_residues=[331]),\n",
       " PackedProtein(batch_size=1, num_atoms=[552], num_bonds=[8694], num_residues=[552]),\n",
       " PackedProtein(batch_size=1, num_atoms=[987], num_bonds=[19005], num_residues=[987]),\n",
       " PackedProtein(batch_size=1, num_atoms=[215], num_bonds=[3518], num_residues=[215]),\n",
       " PackedProtein(batch_size=1, num_atoms=[391], num_bonds=[6806], num_residues=[391]),\n",
       " PackedProtein(batch_size=1, num_atoms=[415], num_bonds=[6661], num_residues=[415]),\n",
       " PackedProtein(batch_size=1, num_atoms=[4128], num_bonds=[118646], num_residues=[4128]),\n",
       " PackedProtein(batch_size=1, num_atoms=[1104], num_bonds=[12775], num_residues=[1104]),\n",
       " PackedProtein(batch_size=1, num_atoms=[326], num_bonds=[5834], num_residues=[326]),\n",
       " PackedProtein(batch_size=1, num_atoms=[292], num_bonds=[5562], num_residues=[292]),\n",
       " PackedProtein(batch_size=1, num_atoms=[737], num_bonds=[13651], num_residues=[737]),\n",
       " PackedProtein(batch_size=1, num_atoms=[393], num_bonds=[6880], num_residues=[393]),\n",
       " PackedProtein(batch_size=1, num_atoms=[1124], num_bonds=[22947], num_residues=[1124]),\n",
       " PackedProtein(batch_size=1, num_atoms=[954], num_bonds=[11860], num_residues=[954]),\n",
       " PackedProtein(batch_size=1, num_atoms=[706], num_bonds=[12588], num_residues=[706]),\n",
       " PackedProtein(batch_size=1, num_atoms=[509], num_bonds=[8889], num_residues=[509]),\n",
       " PackedProtein(batch_size=1, num_atoms=[1400], num_bonds=[27513], num_residues=[1400]),\n",
       " PackedProtein(batch_size=1, num_atoms=[1052], num_bonds=[16311], num_residues=[1052]),\n",
       " PackedProtein(batch_size=1, num_atoms=[592], num_bonds=[10314], num_residues=[592]),\n",
       " PackedProtein(batch_size=1, num_atoms=[676], num_bonds=[12577], num_residues=[676]),\n",
       " PackedProtein(batch_size=1, num_atoms=[659], num_bonds=[12491], num_residues=[659]),\n",
       " PackedProtein(batch_size=1, num_atoms=[890], num_bonds=[15585], num_residues=[890]),\n",
       " PackedProtein(batch_size=1, num_atoms=[1038], num_bonds=[13611], num_residues=[1038]),\n",
       " PackedProtein(batch_size=1, num_atoms=[620], num_bonds=[11930], num_residues=[620]),\n",
       " PackedProtein(batch_size=1, num_atoms=[820], num_bonds=[15086], num_residues=[820]),\n",
       " PackedProtein(batch_size=1, num_atoms=[999], num_bonds=[16532], num_residues=[999]),\n",
       " PackedProtein(batch_size=1, num_atoms=[559], num_bonds=[8750], num_residues=[559]),\n",
       " PackedProtein(batch_size=1, num_atoms=[545], num_bonds=[8492], num_residues=[545]),\n",
       " PackedProtein(batch_size=1, num_atoms=[524], num_bonds=[8170], num_residues=[524]),\n",
       " PackedProtein(batch_size=1, num_atoms=[491], num_bonds=[7644], num_residues=[491]),\n",
       " PackedProtein(batch_size=1, num_atoms=[762], num_bonds=[13492], num_residues=[762]),\n",
       " PackedProtein(batch_size=1, num_atoms=[1354], num_bonds=[18988], num_residues=[1354]),\n",
       " PackedProtein(batch_size=1, num_atoms=[666], num_bonds=[10331], num_residues=[666]),\n",
       " PackedProtein(batch_size=1, num_atoms=[558], num_bonds=[9694], num_residues=[558]),\n",
       " PackedProtein(batch_size=1, num_atoms=[499], num_bonds=[8964], num_residues=[499]),\n",
       " PackedProtein(batch_size=1, num_atoms=[763], num_bonds=[10044], num_residues=[763]),\n",
       " PackedProtein(batch_size=1, num_atoms=[451], num_bonds=[8854], num_residues=[451]),\n",
       " PackedProtein(batch_size=1, num_atoms=[671], num_bonds=[12735], num_residues=[671]),\n",
       " PackedProtein(batch_size=1, num_atoms=[370], num_bonds=[6325], num_residues=[370]),\n",
       " PackedProtein(batch_size=1, num_atoms=[716], num_bonds=[12650], num_residues=[716]),\n",
       " PackedProtein(batch_size=1, num_atoms=[1009], num_bonds=[15967], num_residues=[1009]),\n",
       " PackedProtein(batch_size=1, num_atoms=[651], num_bonds=[10054], num_residues=[651]),\n",
       " PackedProtein(batch_size=1, num_atoms=[307], num_bonds=[3819], num_residues=[307]),\n",
       " PackedProtein(batch_size=1, num_atoms=[436], num_bonds=[7367], num_residues=[436]),\n",
       " PackedProtein(batch_size=1, num_atoms=[912], num_bonds=[14686], num_residues=[912]),\n",
       " PackedProtein(batch_size=1, num_atoms=[1308], num_bonds=[23096], num_residues=[1308]),\n",
       " PackedProtein(batch_size=1, num_atoms=[735], num_bonds=[13346], num_residues=[735]),\n",
       " PackedProtein(batch_size=1, num_atoms=[364], num_bonds=[6704], num_residues=[364]),\n",
       " PackedProtein(batch_size=1, num_atoms=[839], num_bonds=[15104], num_residues=[839]),\n",
       " PackedProtein(batch_size=1, num_atoms=[942], num_bonds=[14856], num_residues=[942]),\n",
       " PackedProtein(batch_size=1, num_atoms=[984], num_bonds=[15296], num_residues=[984]),\n",
       " PackedProtein(batch_size=1, num_atoms=[360], num_bonds=[6672], num_residues=[360]),\n",
       " PackedProtein(batch_size=1, num_atoms=[473], num_bonds=[7051], num_residues=[473]),\n",
       " PackedProtein(batch_size=1, num_atoms=[847], num_bonds=[11050], num_residues=[847]),\n",
       " PackedProtein(batch_size=1, num_atoms=[822], num_bonds=[14832], num_residues=[822]),\n",
       " PackedProtein(batch_size=1, num_atoms=[382], num_bonds=[6487], num_residues=[382]),\n",
       " PackedProtein(batch_size=1, num_atoms=[2527], num_bonds=[47859], num_residues=[2527]),\n",
       " PackedProtein(batch_size=1, num_atoms=[1732], num_bonds=[27604], num_residues=[1732]),\n",
       " PackedProtein(batch_size=1, num_atoms=[788], num_bonds=[10982], num_residues=[788]),\n",
       " PackedProtein(batch_size=1, num_atoms=[1001], num_bonds=[14108], num_residues=[1001]),\n",
       " PackedProtein(batch_size=1, num_atoms=[326], num_bonds=[5684], num_residues=[326]),\n",
       " PackedProtein(batch_size=1, num_atoms=[385], num_bonds=[6369], num_residues=[385]),\n",
       " PackedProtein(batch_size=1, num_atoms=[473], num_bonds=[7902], num_residues=[473]),\n",
       " PackedProtein(batch_size=1, num_atoms=[1332], num_bonds=[18281], num_residues=[1332]),\n",
       " PackedProtein(batch_size=1, num_atoms=[616], num_bonds=[9457], num_residues=[616]),\n",
       " PackedProtein(batch_size=1, num_atoms=[778], num_bonds=[11101], num_residues=[778]),\n",
       " PackedProtein(batch_size=1, num_atoms=[344], num_bonds=[5873], num_residues=[344]),\n",
       " PackedProtein(batch_size=1, num_atoms=[322], num_bonds=[5793], num_residues=[322]),\n",
       " PackedProtein(batch_size=1, num_atoms=[752], num_bonds=[10697], num_residues=[752]),\n",
       " PackedProtein(batch_size=1, num_atoms=[358], num_bonds=[6201], num_residues=[358]),\n",
       " PackedProtein(batch_size=1, num_atoms=[1323], num_bonds=[17321], num_residues=[1323]),\n",
       " PackedProtein(batch_size=1, num_atoms=[588], num_bonds=[8282], num_residues=[588]),\n",
       " PackedProtein(batch_size=1, num_atoms=[655], num_bonds=[10090], num_residues=[655]),\n",
       " PackedProtein(batch_size=1, num_atoms=[1374], num_bonds=[21047], num_residues=[1374]),\n",
       " PackedProtein(batch_size=1, num_atoms=[465], num_bonds=[7283], num_residues=[465]),\n",
       " PackedProtein(batch_size=1, num_atoms=[502], num_bonds=[7687], num_residues=[502]),\n",
       " PackedProtein(batch_size=1, num_atoms=[367], num_bonds=[6029], num_residues=[367]),\n",
       " PackedProtein(batch_size=1, num_atoms=[878], num_bonds=[14382], num_residues=[878]),\n",
       " PackedProtein(batch_size=1, num_atoms=[926], num_bonds=[10790], num_residues=[926]),\n",
       " PackedProtein(batch_size=1, num_atoms=[1235], num_bonds=[14948], num_residues=[1235]),\n",
       " PackedProtein(batch_size=1, num_atoms=[1198], num_bonds=[13544], num_residues=[1198]),\n",
       " PackedProtein(batch_size=1, num_atoms=[488], num_bonds=[8758], num_residues=[488]),\n",
       " PackedProtein(batch_size=1, num_atoms=[646], num_bonds=[10960], num_residues=[646]),\n",
       " PackedProtein(batch_size=1, num_atoms=[481], num_bonds=[7736], num_residues=[481]),\n",
       " PackedProtein(batch_size=1, num_atoms=[465], num_bonds=[7174], num_residues=[465]),\n",
       " PackedProtein(batch_size=1, num_atoms=[367], num_bonds=[6821], num_residues=[367]),\n",
       " PackedProtein(batch_size=1, num_atoms=[313], num_bonds=[5352], num_residues=[313]),\n",
       " PackedProtein(batch_size=1, num_atoms=[422], num_bonds=[6734], num_residues=[422]),\n",
       " PackedProtein(batch_size=1, num_atoms=[520], num_bonds=[8398], num_residues=[520]),\n",
       " PackedProtein(batch_size=1, num_atoms=[460], num_bonds=[8082], num_residues=[460]),\n",
       " PackedProtein(batch_size=1, num_atoms=[800], num_bonds=[11655], num_residues=[800]),\n",
       " PackedProtein(batch_size=1, num_atoms=[311], num_bonds=[5731], num_residues=[311]),\n",
       " PackedProtein(batch_size=1, num_atoms=[416], num_bonds=[7026], num_residues=[416]),\n",
       " PackedProtein(batch_size=1, num_atoms=[527], num_bonds=[8311], num_residues=[527]),\n",
       " PackedProtein(batch_size=1, num_atoms=[816], num_bonds=[12161], num_residues=[816]),\n",
       " PackedProtein(batch_size=1, num_atoms=[482], num_bonds=[7788], num_residues=[482]),\n",
       " PackedProtein(batch_size=1, num_atoms=[414], num_bonds=[6518], num_residues=[414]),\n",
       " PackedProtein(batch_size=1, num_atoms=[489], num_bonds=[7300], num_residues=[489]),\n",
       " PackedProtein(batch_size=1, num_atoms=[569], num_bonds=[7616], num_residues=[569]),\n",
       " PackedProtein(batch_size=1, num_atoms=[729], num_bonds=[12771], num_residues=[729]),\n",
       " PackedProtein(batch_size=1, num_atoms=[1620], num_bonds=[29287], num_residues=[1620]),\n",
       " PackedProtein(batch_size=1, num_atoms=[478], num_bonds=[8866], num_residues=[478]),\n",
       " PackedProtein(batch_size=1, num_atoms=[479], num_bonds=[8772], num_residues=[479]),\n",
       " PackedProtein(batch_size=1, num_atoms=[629], num_bonds=[8804], num_residues=[629]),\n",
       " PackedProtein(batch_size=1, num_atoms=[270], num_bonds=[3519], num_residues=[270]),\n",
       " PackedProtein(batch_size=1, num_atoms=[846], num_bonds=[15166], num_residues=[846]),\n",
       " PackedProtein(batch_size=1, num_atoms=[447], num_bonds=[6904], num_residues=[447])]"
      ]
     },
     "execution_count": 5,
     "metadata": {},
     "output_type": "execute_result"
    }
   ],
   "source": [
    "protein_list"
   ]
  },
  {
   "cell_type": "code",
   "execution_count": 6,
   "metadata": {},
   "outputs": [
    {
     "data": {
      "text/plain": [
       "tensor(7)"
      ]
     },
     "execution_count": 6,
     "metadata": {},
     "output_type": "execute_result"
    }
   ],
   "source": [
    "protein_list[0].num_relation"
   ]
  },
  {
   "cell_type": "code",
   "execution_count": 6,
   "metadata": {},
   "outputs": [
    {
     "name": "stderr",
     "output_type": "stream",
     "text": [
      "Constructing Pocket from PDB: 100%|██████████| 229/229 [00:03<00:00, 60.17it/s]\n"
     ]
    }
   ],
   "source": [
    "new_list = [] \n",
    "pdbs = protein_df[\"Gene\"].tolist() \n",
    "indexes = range(len(pdbs))\n",
    "indexes = tqdm(indexes, \"Constructing Pocket from PDB: \")\n",
    "for index in indexes:\n",
    "    # print(pdbs[index])\n",
    "    protein = data.Protein.pack([protein_list[index]])\n",
    "    csv_file = path + 'p2rank/predict_protein_list/AF-' + pdbs[index] + '-F1-model_v4.pdb_residues.csv'\n",
    "    pdb_residues = pd.read_csv(csv_file)\n",
    "    pdb_residues.columns = pdb_residues.columns.str.strip()\n",
    "    pocket_list = pdb_residues[\"pocket\"].unique()\n",
    "    pocket_num = len(pocket_list) - 1\n",
    "    current_pocket = []\n",
    "    for i in range(pocket_num):\n",
    "        current_pocket.extend(pdb_residues[pdb_residues[\"pocket\"] == (i+1)].index.tolist())\n",
    "    current_pocket.sort()\n",
    "    pocket = protein.subresidue(index=current_pocket)\n",
    "    new_list.append(pocket)"
   ]
  },
  {
   "cell_type": "code",
   "execution_count": 7,
   "metadata": {},
   "outputs": [
    {
     "data": {
      "text/plain": [
       "PackedProtein(batch_size=1, num_atoms=[73], num_bonds=[562], num_residues=[73])"
      ]
     },
     "execution_count": 7,
     "metadata": {},
     "output_type": "execute_result"
    }
   ],
   "source": [
    "new_list[0]"
   ]
  },
  {
   "cell_type": "code",
   "execution_count": 8,
   "metadata": {},
   "outputs": [
    {
     "data": {
      "text/plain": [
       "tensor([[0, 0, 1,  ..., 0, 0, 0],\n",
       "        [1, 0, 0,  ..., 0, 0, 0],\n",
       "        [0, 1, 0,  ..., 0, 0, 0],\n",
       "        ...,\n",
       "        [0, 1, 0,  ..., 0, 0, 0],\n",
       "        [0, 0, 0,  ..., 0, 0, 0],\n",
       "        [0, 0, 0,  ..., 0, 0, 0]])"
      ]
     },
     "execution_count": 8,
     "metadata": {},
     "output_type": "execute_result"
    }
   ],
   "source": [
    "new_list[0].residue_feature"
   ]
  },
  {
   "cell_type": "code",
   "execution_count": 10,
   "metadata": {},
   "outputs": [],
   "source": [
    "protein_pkl = '../../../data/dta-datasets/KIBA/gearnetesm650m_Protein.pkl'  # pocket\n",
    "with utils.smart_open(protein_pkl, \"rb\") as fin:\n",
    "    protein_list = pickle.load(fin)"
   ]
  },
  {
   "cell_type": "code",
   "execution_count": 11,
   "metadata": {},
   "outputs": [
    {
     "data": {
      "text/plain": [
       "[PackedProtein(batch_size=1, num_atoms=[431], num_bonds=[7507], num_residues=[431]),\n",
       " PackedProtein(batch_size=1, num_atoms=[574], num_bonds=[8301], num_residues=[574]),\n",
       " PackedProtein(batch_size=1, num_atoms=[1044], num_bonds=[19549], num_residues=[1044]),\n",
       " PackedProtein(batch_size=1, num_atoms=[725], num_bonds=[11806], num_residues=[725]),\n",
       " PackedProtein(batch_size=1, num_atoms=[970], num_bonds=[13888], num_residues=[970]),\n",
       " PackedProtein(batch_size=1, num_atoms=[476], num_bonds=[8081], num_residues=[476]),\n",
       " PackedProtein(batch_size=1, num_atoms=[756], num_bonds=[12719], num_residues=[756]),\n",
       " PackedProtein(batch_size=1, num_atoms=[403], num_bonds=[6331], num_residues=[403]),\n",
       " PackedProtein(batch_size=1, num_atoms=[740], num_bonds=[11870], num_residues=[740]),\n",
       " PackedProtein(batch_size=1, num_atoms=[745], num_bonds=[12311], num_residues=[745]),\n",
       " PackedProtein(batch_size=1, num_atoms=[365], num_bonds=[6814], num_residues=[365]),\n",
       " PackedProtein(batch_size=1, num_atoms=[556], num_bonds=[9386], num_residues=[556]),\n",
       " PackedProtein(batch_size=1, num_atoms=[454], num_bonds=[7409], num_residues=[454]),\n",
       " PackedProtein(batch_size=1, num_atoms=[272], num_bonds=[3534], num_residues=[272]),\n",
       " PackedProtein(batch_size=1, num_atoms=[588], num_bonds=[8956], num_residues=[588]),\n",
       " PackedProtein(batch_size=1, num_atoms=[661], num_bonds=[8488], num_residues=[661]),\n",
       " PackedProtein(batch_size=1, num_atoms=[1132], num_bonds=[21304], num_residues=[1132]),\n",
       " PackedProtein(batch_size=1, num_atoms=[1388], num_bonds=[19926], num_residues=[1388]),\n",
       " PackedProtein(batch_size=1, num_atoms=[802], num_bonds=[13976], num_residues=[802]),\n",
       " PackedProtein(batch_size=1, num_atoms=[772], num_bonds=[14059], num_residues=[772]),\n",
       " PackedProtein(batch_size=1, num_atoms=[890], num_bonds=[14404], num_residues=[890]),\n",
       " PackedProtein(batch_size=1, num_atoms=[1239], num_bonds=[17985], num_residues=[1239]),\n",
       " PackedProtein(batch_size=1, num_atoms=[591], num_bonds=[8296], num_residues=[591]),\n",
       " PackedProtein(batch_size=1, num_atoms=[543], num_bonds=[8702], num_residues=[543]),\n",
       " PackedProtein(batch_size=1, num_atoms=[1130], num_bonds=[14517], num_residues=[1130]),\n",
       " PackedProtein(batch_size=1, num_atoms=[1210], num_bonds=[21882], num_residues=[1210]),\n",
       " PackedProtein(batch_size=1, num_atoms=[648], num_bonds=[9628], num_residues=[648]),\n",
       " PackedProtein(batch_size=1, num_atoms=[1255], num_bonds=[22209], num_residues=[1255]),\n",
       " PackedProtein(batch_size=1, num_atoms=[796], num_bonds=[14606], num_residues=[796]),\n",
       " PackedProtein(batch_size=1, num_atoms=[697], num_bonds=[13228], num_residues=[697]),\n",
       " PackedProtein(batch_size=1, num_atoms=[671], num_bonds=[12841], num_residues=[671]),\n",
       " PackedProtein(batch_size=1, num_atoms=[1382], num_bonds=[25486], num_residues=[1382]),\n",
       " PackedProtein(batch_size=1, num_atoms=[509], num_bonds=[9040], num_residues=[509]),\n",
       " PackedProtein(batch_size=1, num_atoms=[537], num_bonds=[9484], num_residues=[537]),\n",
       " PackedProtein(batch_size=1, num_atoms=[297], num_bonds=[5545], num_residues=[297]),\n",
       " PackedProtein(batch_size=1, num_atoms=[822], num_bonds=[13442], num_residues=[822]),\n",
       " PackedProtein(batch_size=1, num_atoms=[972], num_bonds=[18216], num_residues=[972]),\n",
       " PackedProtein(batch_size=1, num_atoms=[543], num_bonds=[9533], num_residues=[543]),\n",
       " PackedProtein(batch_size=1, num_atoms=[512], num_bonds=[9075], num_residues=[512]),\n",
       " PackedProtein(batch_size=1, num_atoms=[1114], num_bonds=[19840], num_residues=[1114]),\n",
       " PackedProtein(batch_size=1, num_atoms=[1367], num_bonds=[25306], num_residues=[1367]),\n",
       " PackedProtein(batch_size=1, num_atoms=[1390], num_bonds=[27647], num_residues=[1390]),\n",
       " PackedProtein(batch_size=1, num_atoms=[526], num_bonds=[9277], num_residues=[526]),\n",
       " PackedProtein(batch_size=1, num_atoms=[2347], num_bonds=[46035], num_residues=[2347]),\n",
       " PackedProtein(batch_size=1, num_atoms=[1106], num_bonds=[18888], num_residues=[1106]),\n",
       " PackedProtein(batch_size=1, num_atoms=[529], num_bonds=[9475], num_residues=[529]),\n",
       " PackedProtein(batch_size=1, num_atoms=[976], num_bonds=[18002], num_residues=[976]),\n",
       " PackedProtein(batch_size=1, num_atoms=[313], num_bonds=[5712], num_residues=[313]),\n",
       " PackedProtein(batch_size=1, num_atoms=[822], num_bonds=[13483], num_residues=[822]),\n",
       " PackedProtein(batch_size=1, num_atoms=[303], num_bonds=[5566], num_residues=[303]),\n",
       " PackedProtein(batch_size=1, num_atoms=[536], num_bonds=[9506], num_residues=[536]),\n",
       " PackedProtein(batch_size=1, num_atoms=[766], num_bonds=[11016], num_residues=[766]),\n",
       " PackedProtein(batch_size=1, num_atoms=[406], num_bonds=[6561], num_residues=[406]),\n",
       " PackedProtein(batch_size=1, num_atoms=[1089], num_bonds=[19104], num_residues=[1089]),\n",
       " PackedProtein(batch_size=1, num_atoms=[822], num_bonds=[13206], num_residues=[822]),\n",
       " PackedProtein(batch_size=1, num_atoms=[672], num_bonds=[12833], num_residues=[672]),\n",
       " PackedProtein(batch_size=1, num_atoms=[351], num_bonds=[6645], num_residues=[351]),\n",
       " PackedProtein(batch_size=1, num_atoms=[1338], num_bonds=[23262], num_residues=[1338]),\n",
       " PackedProtein(batch_size=1, num_atoms=[350], num_bonds=[6507], num_residues=[350]),\n",
       " PackedProtein(batch_size=1, num_atoms=[821], num_bonds=[13519], num_residues=[821]),\n",
       " PackedProtein(batch_size=1, num_atoms=[802], num_bonds=[13379], num_residues=[802]),\n",
       " PackedProtein(batch_size=1, num_atoms=[806], num_bonds=[13515], num_residues=[806]),\n",
       " PackedProtein(batch_size=1, num_atoms=[351], num_bonds=[6624], num_residues=[351]),\n",
       " PackedProtein(batch_size=1, num_atoms=[351], num_bonds=[6629], num_residues=[351]),\n",
       " PackedProtein(batch_size=1, num_atoms=[525], num_bonds=[7991], num_residues=[525]),\n",
       " PackedProtein(batch_size=1, num_atoms=[1154], num_bonds=[21753], num_residues=[1154]),\n",
       " PackedProtein(batch_size=1, num_atoms=[683], num_bonds=[12816], num_residues=[683]),\n",
       " PackedProtein(batch_size=1, num_atoms=[298], num_bonds=[5562], num_residues=[298]),\n",
       " PackedProtein(batch_size=1, num_atoms=[379], num_bonds=[6989], num_residues=[379]),\n",
       " PackedProtein(batch_size=1, num_atoms=[753], num_bonds=[10524], num_residues=[753]),\n",
       " PackedProtein(batch_size=1, num_atoms=[360], num_bonds=[6666], num_residues=[360]),\n",
       " PackedProtein(batch_size=1, num_atoms=[976], num_bonds=[18766], num_residues=[976]),\n",
       " PackedProtein(batch_size=1, num_atoms=[1055], num_bonds=[19426], num_residues=[1055]),\n",
       " PackedProtein(batch_size=1, num_atoms=[864], num_bonds=[16788], num_residues=[864]),\n",
       " PackedProtein(batch_size=1, num_atoms=[1187], num_bonds=[22079], num_residues=[1187]),\n",
       " PackedProtein(batch_size=1, num_atoms=[646], num_bonds=[8424], num_residues=[646]),\n",
       " PackedProtein(batch_size=1, num_atoms=[894], num_bonds=[15699], num_residues=[894]),\n",
       " PackedProtein(batch_size=1, num_atoms=[480], num_bonds=[8833], num_residues=[480]),\n",
       " PackedProtein(batch_size=1, num_atoms=[481], num_bonds=[8855], num_residues=[481]),\n",
       " PackedProtein(batch_size=1, num_atoms=[590], num_bonds=[10368], num_residues=[590]),\n",
       " PackedProtein(batch_size=1, num_atoms=[1363], num_bonds=[23651], num_residues=[1363]),\n",
       " PackedProtein(batch_size=1, num_atoms=[1356], num_bonds=[23708], num_residues=[1356]),\n",
       " PackedProtein(batch_size=1, num_atoms=[400], num_bonds=[6787], num_residues=[400]),\n",
       " PackedProtein(batch_size=1, num_atoms=[993], num_bonds=[17735], num_residues=[993]),\n",
       " PackedProtein(batch_size=1, num_atoms=[450], num_bonds=[8976], num_residues=[450]),\n",
       " PackedProtein(batch_size=1, num_atoms=[467], num_bonds=[7722], num_residues=[467]),\n",
       " PackedProtein(batch_size=1, num_atoms=[596], num_bonds=[10318], num_residues=[596]),\n",
       " PackedProtein(batch_size=1, num_atoms=[1068], num_bonds=[20206], num_residues=[1068]),\n",
       " PackedProtein(batch_size=1, num_atoms=[1070], num_bonds=[19959], num_residues=[1070]),\n",
       " PackedProtein(batch_size=1, num_atoms=[2549], num_bonds=[42733], num_residues=[2549]),\n",
       " PackedProtein(batch_size=1, num_atoms=[507], num_bonds=[9353], num_residues=[507]),\n",
       " PackedProtein(batch_size=1, num_atoms=[1182], num_bonds=[15333], num_residues=[1182]),\n",
       " PackedProtein(batch_size=1, num_atoms=[505], num_bonds=[9324], num_residues=[505]),\n",
       " PackedProtein(batch_size=1, num_atoms=[619], num_bonds=[11592], num_residues=[619]),\n",
       " PackedProtein(batch_size=1, num_atoms=[635], num_bonds=[11623], num_residues=[635]),\n",
       " PackedProtein(batch_size=1, num_atoms=[427], num_bonds=[7405], num_residues=[427]),\n",
       " PackedProtein(batch_size=1, num_atoms=[424], num_bonds=[7287], num_residues=[424]),\n",
       " PackedProtein(batch_size=1, num_atoms=[337], num_bonds=[5862], num_residues=[337]),\n",
       " PackedProtein(batch_size=1, num_atoms=[415], num_bonds=[6559], num_residues=[415]),\n",
       " PackedProtein(batch_size=1, num_atoms=[1102], num_bonds=[20779], num_residues=[1102]),\n",
       " PackedProtein(batch_size=1, num_atoms=[400], num_bonds=[6478], num_residues=[400]),\n",
       " PackedProtein(batch_size=1, num_atoms=[464], num_bonds=[7427], num_residues=[464]),\n",
       " PackedProtein(batch_size=1, num_atoms=[416], num_bonds=[6659], num_residues=[416]),\n",
       " PackedProtein(batch_size=1, num_atoms=[484], num_bonds=[7933], num_residues=[484]),\n",
       " PackedProtein(batch_size=1, num_atoms=[499], num_bonds=[7671], num_residues=[499]),\n",
       " PackedProtein(batch_size=1, num_atoms=[483], num_bonds=[7716], num_residues=[483]),\n",
       " PackedProtein(batch_size=1, num_atoms=[420], num_bonds=[7597], num_residues=[420]),\n",
       " PackedProtein(batch_size=1, num_atoms=[346], num_bonds=[6157], num_residues=[346]),\n",
       " PackedProtein(batch_size=1, num_atoms=[372], num_bonds=[6727], num_residues=[372]),\n",
       " PackedProtein(batch_size=1, num_atoms=[505], num_bonds=[8981], num_residues=[505]),\n",
       " PackedProtein(batch_size=1, num_atoms=[712], num_bonds=[10003], num_residues=[712]),\n",
       " PackedProtein(batch_size=1, num_atoms=[740], num_bonds=[13442], num_residues=[740]),\n",
       " PackedProtein(batch_size=1, num_atoms=[675], num_bonds=[11330], num_residues=[675]),\n",
       " PackedProtein(batch_size=1, num_atoms=[358], num_bonds=[6470], num_residues=[358]),\n",
       " PackedProtein(batch_size=1, num_atoms=[445], num_bonds=[6711], num_residues=[445]),\n",
       " PackedProtein(batch_size=1, num_atoms=[841], num_bonds=[9798], num_residues=[841]),\n",
       " PackedProtein(batch_size=1, num_atoms=[1124], num_bonds=[21458], num_residues=[1124]),\n",
       " PackedProtein(batch_size=1, num_atoms=[334], num_bonds=[5968], num_residues=[334]),\n",
       " PackedProtein(batch_size=1, num_atoms=[603], num_bonds=[10867], num_residues=[603]),\n",
       " PackedProtein(batch_size=1, num_atoms=[647], num_bonds=[11064], num_residues=[647]),\n",
       " PackedProtein(batch_size=1, num_atoms=[367], num_bonds=[6712], num_residues=[367]),\n",
       " PackedProtein(batch_size=1, num_atoms=[346], num_bonds=[6405], num_residues=[346]),\n",
       " PackedProtein(batch_size=1, num_atoms=[331], num_bonds=[5805], num_residues=[331]),\n",
       " PackedProtein(batch_size=1, num_atoms=[552], num_bonds=[8694], num_residues=[552]),\n",
       " PackedProtein(batch_size=1, num_atoms=[987], num_bonds=[19005], num_residues=[987]),\n",
       " PackedProtein(batch_size=1, num_atoms=[215], num_bonds=[3518], num_residues=[215]),\n",
       " PackedProtein(batch_size=1, num_atoms=[391], num_bonds=[6806], num_residues=[391]),\n",
       " PackedProtein(batch_size=1, num_atoms=[415], num_bonds=[6661], num_residues=[415]),\n",
       " PackedProtein(batch_size=1, num_atoms=[3656], num_bonds=[64623], num_residues=[3656]),\n",
       " PackedProtein(batch_size=1, num_atoms=[1104], num_bonds=[12775], num_residues=[1104]),\n",
       " PackedProtein(batch_size=1, num_atoms=[326], num_bonds=[5834], num_residues=[326]),\n",
       " PackedProtein(batch_size=1, num_atoms=[292], num_bonds=[5562], num_residues=[292]),\n",
       " PackedProtein(batch_size=1, num_atoms=[737], num_bonds=[13651], num_residues=[737]),\n",
       " PackedProtein(batch_size=1, num_atoms=[393], num_bonds=[6880], num_residues=[393]),\n",
       " PackedProtein(batch_size=1, num_atoms=[1124], num_bonds=[22947], num_residues=[1124]),\n",
       " PackedProtein(batch_size=1, num_atoms=[954], num_bonds=[11860], num_residues=[954]),\n",
       " PackedProtein(batch_size=1, num_atoms=[706], num_bonds=[12588], num_residues=[706]),\n",
       " PackedProtein(batch_size=1, num_atoms=[509], num_bonds=[8889], num_residues=[509]),\n",
       " PackedProtein(batch_size=1, num_atoms=[1400], num_bonds=[27513], num_residues=[1400]),\n",
       " PackedProtein(batch_size=1, num_atoms=[1052], num_bonds=[16311], num_residues=[1052]),\n",
       " PackedProtein(batch_size=1, num_atoms=[592], num_bonds=[10314], num_residues=[592]),\n",
       " PackedProtein(batch_size=1, num_atoms=[676], num_bonds=[12577], num_residues=[676]),\n",
       " PackedProtein(batch_size=1, num_atoms=[659], num_bonds=[12491], num_residues=[659]),\n",
       " PackedProtein(batch_size=1, num_atoms=[890], num_bonds=[15585], num_residues=[890]),\n",
       " PackedProtein(batch_size=1, num_atoms=[1038], num_bonds=[13611], num_residues=[1038]),\n",
       " PackedProtein(batch_size=1, num_atoms=[620], num_bonds=[11930], num_residues=[620]),\n",
       " PackedProtein(batch_size=1, num_atoms=[820], num_bonds=[15086], num_residues=[820]),\n",
       " PackedProtein(batch_size=1, num_atoms=[999], num_bonds=[16532], num_residues=[999]),\n",
       " PackedProtein(batch_size=1, num_atoms=[559], num_bonds=[8750], num_residues=[559]),\n",
       " PackedProtein(batch_size=1, num_atoms=[545], num_bonds=[8492], num_residues=[545]),\n",
       " PackedProtein(batch_size=1, num_atoms=[524], num_bonds=[8170], num_residues=[524]),\n",
       " PackedProtein(batch_size=1, num_atoms=[491], num_bonds=[7644], num_residues=[491]),\n",
       " PackedProtein(batch_size=1, num_atoms=[762], num_bonds=[13492], num_residues=[762]),\n",
       " PackedProtein(batch_size=1, num_atoms=[1354], num_bonds=[18988], num_residues=[1354]),\n",
       " PackedProtein(batch_size=1, num_atoms=[666], num_bonds=[10331], num_residues=[666]),\n",
       " PackedProtein(batch_size=1, num_atoms=[558], num_bonds=[9694], num_residues=[558]),\n",
       " PackedProtein(batch_size=1, num_atoms=[499], num_bonds=[8964], num_residues=[499]),\n",
       " PackedProtein(batch_size=1, num_atoms=[763], num_bonds=[10044], num_residues=[763]),\n",
       " PackedProtein(batch_size=1, num_atoms=[451], num_bonds=[8854], num_residues=[451]),\n",
       " PackedProtein(batch_size=1, num_atoms=[671], num_bonds=[12735], num_residues=[671]),\n",
       " PackedProtein(batch_size=1, num_atoms=[370], num_bonds=[6325], num_residues=[370]),\n",
       " PackedProtein(batch_size=1, num_atoms=[716], num_bonds=[12650], num_residues=[716]),\n",
       " PackedProtein(batch_size=1, num_atoms=[1009], num_bonds=[15967], num_residues=[1009]),\n",
       " PackedProtein(batch_size=1, num_atoms=[651], num_bonds=[10054], num_residues=[651]),\n",
       " PackedProtein(batch_size=1, num_atoms=[307], num_bonds=[3819], num_residues=[307]),\n",
       " PackedProtein(batch_size=1, num_atoms=[436], num_bonds=[7367], num_residues=[436]),\n",
       " PackedProtein(batch_size=1, num_atoms=[912], num_bonds=[14686], num_residues=[912]),\n",
       " PackedProtein(batch_size=1, num_atoms=[1308], num_bonds=[23096], num_residues=[1308]),\n",
       " PackedProtein(batch_size=1, num_atoms=[735], num_bonds=[13346], num_residues=[735]),\n",
       " PackedProtein(batch_size=1, num_atoms=[364], num_bonds=[6704], num_residues=[364]),\n",
       " PackedProtein(batch_size=1, num_atoms=[839], num_bonds=[15104], num_residues=[839]),\n",
       " PackedProtein(batch_size=1, num_atoms=[942], num_bonds=[14856], num_residues=[942]),\n",
       " PackedProtein(batch_size=1, num_atoms=[984], num_bonds=[15296], num_residues=[984]),\n",
       " PackedProtein(batch_size=1, num_atoms=[360], num_bonds=[6672], num_residues=[360]),\n",
       " PackedProtein(batch_size=1, num_atoms=[473], num_bonds=[7051], num_residues=[473]),\n",
       " PackedProtein(batch_size=1, num_atoms=[847], num_bonds=[11050], num_residues=[847]),\n",
       " PackedProtein(batch_size=1, num_atoms=[822], num_bonds=[14832], num_residues=[822]),\n",
       " PackedProtein(batch_size=1, num_atoms=[382], num_bonds=[6487], num_residues=[382]),\n",
       " PackedProtein(batch_size=1, num_atoms=[1795], num_bonds=[35264], num_residues=[1795]),\n",
       " PackedProtein(batch_size=1, num_atoms=[1732], num_bonds=[27604], num_residues=[1732]),\n",
       " PackedProtein(batch_size=1, num_atoms=[788], num_bonds=[10982], num_residues=[788]),\n",
       " PackedProtein(batch_size=1, num_atoms=[1001], num_bonds=[14108], num_residues=[1001]),\n",
       " PackedProtein(batch_size=1, num_atoms=[326], num_bonds=[5684], num_residues=[326]),\n",
       " PackedProtein(batch_size=1, num_atoms=[385], num_bonds=[6369], num_residues=[385]),\n",
       " PackedProtein(batch_size=1, num_atoms=[473], num_bonds=[7902], num_residues=[473]),\n",
       " PackedProtein(batch_size=1, num_atoms=[1332], num_bonds=[18281], num_residues=[1332]),\n",
       " PackedProtein(batch_size=1, num_atoms=[616], num_bonds=[9457], num_residues=[616]),\n",
       " PackedProtein(batch_size=1, num_atoms=[778], num_bonds=[11101], num_residues=[778]),\n",
       " PackedProtein(batch_size=1, num_atoms=[344], num_bonds=[5873], num_residues=[344]),\n",
       " PackedProtein(batch_size=1, num_atoms=[322], num_bonds=[5793], num_residues=[322]),\n",
       " PackedProtein(batch_size=1, num_atoms=[752], num_bonds=[10697], num_residues=[752]),\n",
       " PackedProtein(batch_size=1, num_atoms=[358], num_bonds=[6201], num_residues=[358]),\n",
       " PackedProtein(batch_size=1, num_atoms=[1323], num_bonds=[17321], num_residues=[1323]),\n",
       " PackedProtein(batch_size=1, num_atoms=[588], num_bonds=[8282], num_residues=[588]),\n",
       " PackedProtein(batch_size=1, num_atoms=[655], num_bonds=[10090], num_residues=[655]),\n",
       " PackedProtein(batch_size=1, num_atoms=[1374], num_bonds=[21047], num_residues=[1374]),\n",
       " PackedProtein(batch_size=1, num_atoms=[465], num_bonds=[7283], num_residues=[465]),\n",
       " PackedProtein(batch_size=1, num_atoms=[502], num_bonds=[7687], num_residues=[502]),\n",
       " PackedProtein(batch_size=1, num_atoms=[367], num_bonds=[6029], num_residues=[367]),\n",
       " PackedProtein(batch_size=1, num_atoms=[878], num_bonds=[14382], num_residues=[878]),\n",
       " PackedProtein(batch_size=1, num_atoms=[926], num_bonds=[10790], num_residues=[926]),\n",
       " PackedProtein(batch_size=1, num_atoms=[1235], num_bonds=[14948], num_residues=[1235]),\n",
       " PackedProtein(batch_size=1, num_atoms=[1198], num_bonds=[13544], num_residues=[1198]),\n",
       " PackedProtein(batch_size=1, num_atoms=[488], num_bonds=[8758], num_residues=[488]),\n",
       " PackedProtein(batch_size=1, num_atoms=[646], num_bonds=[10960], num_residues=[646]),\n",
       " PackedProtein(batch_size=1, num_atoms=[481], num_bonds=[7736], num_residues=[481]),\n",
       " PackedProtein(batch_size=1, num_atoms=[465], num_bonds=[7174], num_residues=[465]),\n",
       " PackedProtein(batch_size=1, num_atoms=[367], num_bonds=[6821], num_residues=[367]),\n",
       " PackedProtein(batch_size=1, num_atoms=[313], num_bonds=[5352], num_residues=[313]),\n",
       " PackedProtein(batch_size=1, num_atoms=[422], num_bonds=[6734], num_residues=[422]),\n",
       " PackedProtein(batch_size=1, num_atoms=[520], num_bonds=[8398], num_residues=[520]),\n",
       " PackedProtein(batch_size=1, num_atoms=[460], num_bonds=[8082], num_residues=[460]),\n",
       " PackedProtein(batch_size=1, num_atoms=[800], num_bonds=[11655], num_residues=[800]),\n",
       " PackedProtein(batch_size=1, num_atoms=[311], num_bonds=[5731], num_residues=[311]),\n",
       " PackedProtein(batch_size=1, num_atoms=[416], num_bonds=[7026], num_residues=[416]),\n",
       " PackedProtein(batch_size=1, num_atoms=[527], num_bonds=[8311], num_residues=[527]),\n",
       " PackedProtein(batch_size=1, num_atoms=[816], num_bonds=[12161], num_residues=[816]),\n",
       " PackedProtein(batch_size=1, num_atoms=[482], num_bonds=[7788], num_residues=[482]),\n",
       " PackedProtein(batch_size=1, num_atoms=[414], num_bonds=[6518], num_residues=[414]),\n",
       " PackedProtein(batch_size=1, num_atoms=[489], num_bonds=[7300], num_residues=[489]),\n",
       " PackedProtein(batch_size=1, num_atoms=[569], num_bonds=[7616], num_residues=[569]),\n",
       " PackedProtein(batch_size=1, num_atoms=[729], num_bonds=[12771], num_residues=[729]),\n",
       " PackedProtein(batch_size=1, num_atoms=[1620], num_bonds=[29287], num_residues=[1620]),\n",
       " PackedProtein(batch_size=1, num_atoms=[478], num_bonds=[8866], num_residues=[478]),\n",
       " PackedProtein(batch_size=1, num_atoms=[479], num_bonds=[8772], num_residues=[479]),\n",
       " PackedProtein(batch_size=1, num_atoms=[629], num_bonds=[8804], num_residues=[629]),\n",
       " PackedProtein(batch_size=1, num_atoms=[270], num_bonds=[3519], num_residues=[270]),\n",
       " PackedProtein(batch_size=1, num_atoms=[846], num_bonds=[15166], num_residues=[846]),\n",
       " PackedProtein(batch_size=1, num_atoms=[447], num_bonds=[6904], num_residues=[447])]"
      ]
     },
     "execution_count": 11,
     "metadata": {},
     "output_type": "execute_result"
    }
   ],
   "source": [
    "protein_list"
   ]
  },
  {
   "cell_type": "code",
   "execution_count": 12,
   "metadata": {},
   "outputs": [
    {
     "data": {
      "text/plain": [
       "tensor([[-0.0837, -0.2754,  0.1242,  ...,  0.1720, -0.0750,  0.1030],\n",
       "        [-0.1002,  0.0412,  0.1291,  ...,  0.1403, -0.0664,  0.2975],\n",
       "        [-0.0591,  0.1586,  0.0903,  ..., -0.0266,  0.1212,  0.3062],\n",
       "        ...,\n",
       "        [-0.1049, -0.0428,  0.1100,  ..., -0.1484, -0.2231, -0.1418],\n",
       "        [ 0.0512, -0.2416,  0.1486,  ..., -0.0128, -0.0565, -0.0558],\n",
       "        [-0.0033, -0.0358,  0.0950,  ..., -0.1079, -0.0387,  0.0099]],\n",
       "       requires_grad=True)"
      ]
     },
     "execution_count": 12,
     "metadata": {},
     "output_type": "execute_result"
    }
   ],
   "source": [
    "protein_list[0].residue_feature"
   ]
  },
  {
   "cell_type": "code",
   "execution_count": 13,
   "metadata": {},
   "outputs": [
    {
     "name": "stderr",
     "output_type": "stream",
     "text": [
      "Constructing Pocket from PDB: 100%|██████████| 229/229 [00:04<00:00, 53.22it/s]\n"
     ]
    }
   ],
   "source": [
    "new_list = [] \n",
    "pdbs = protein_df[\"Gene\"].tolist() \n",
    "indexes = range(len(pdbs))\n",
    "indexes = tqdm(indexes, \"Constructing Pocket from PDB: \")\n",
    "for index in indexes:\n",
    "    # print(pdbs[index])\n",
    "    protein = data.Protein.pack([protein_list[index]])\n",
    "    csv_file = path + 'p2rank/predict_protein_list/AF-' + pdbs[index] + '-F1-model_v4.pdb_residues.csv'\n",
    "    pdb_residues = pd.read_csv(csv_file)\n",
    "    pdb_residues.columns = pdb_residues.columns.str.strip()\n",
    "    pocket_list = pdb_residues[\"pocket\"].unique()\n",
    "    pocket_num = len(pocket_list) - 1\n",
    "    current_pocket = []\n",
    "    for i in range(pocket_num):\n",
    "        current_pocket.extend(pdb_residues[pdb_residues[\"pocket\"] == (i+1)].index.tolist())\n",
    "    current_pocket.sort()\n",
    "    pocket = protein.subresidue(index=current_pocket)\n",
    "    new_list.append(pocket)"
   ]
  },
  {
   "cell_type": "code",
   "execution_count": 15,
   "metadata": {},
   "outputs": [
    {
     "data": {
      "text/plain": [
       "PackedProtein(batch_size=1, num_atoms=[73], num_bonds=[562], num_residues=[73])"
      ]
     },
     "execution_count": 15,
     "metadata": {},
     "output_type": "execute_result"
    }
   ],
   "source": [
    "new_list[0]"
   ]
  },
  {
   "cell_type": "code",
   "execution_count": 16,
   "metadata": {},
   "outputs": [
    {
     "data": {
      "text/plain": [
       "tensor([[ 2.1332e-01,  1.5688e-01,  1.8303e-01,  ...,  5.5233e-02,\n",
       "         -3.4160e-01,  6.5032e-02],\n",
       "        [ 1.4707e-01,  9.4261e-02,  2.2626e-01,  ...,  3.2243e-02,\n",
       "         -5.3171e-02,  1.0465e-01],\n",
       "        [-1.0054e-01,  8.0324e-02,  5.1331e-02,  ...,  8.4996e-02,\n",
       "         -2.5364e-01,  2.6706e-01],\n",
       "        ...,\n",
       "        [-1.2881e-01, -3.6110e-02, -4.3258e-02,  ..., -4.2400e-02,\n",
       "         -2.1927e-01, -2.0614e-02],\n",
       "        [ 1.0513e-04,  1.2675e-01, -8.3016e-02,  ..., -1.2416e-01,\n",
       "         -1.0759e-01,  5.2567e-02],\n",
       "        [-1.8061e-01,  4.0833e-02,  7.8955e-03,  ..., -7.5370e-02,\n",
       "         -5.2628e-02, -1.2988e-02]], grad_fn=<IndexBackward0>)"
      ]
     },
     "execution_count": 16,
     "metadata": {},
     "output_type": "execute_result"
    }
   ],
   "source": [
    "new_list[0].residue_feature"
   ]
  },
  {
   "cell_type": "code",
   "execution_count": 17,
   "metadata": {},
   "outputs": [],
   "source": [
    "protein_pkl = '../../../data/dta-datasets/KIBA/gearnetesm_pocket_Protein.pkl'\n",
    "with utils.smart_open(protein_pkl, \"wb\") as fout:\n",
    "    pickle.dump(new_list, fout)"
   ]
  },
  {
   "attachments": {},
   "cell_type": "markdown",
   "metadata": {},
   "source": [
    "## Test Zone"
   ]
  },
  {
   "cell_type": "code",
   "execution_count": 1,
   "metadata": {},
   "outputs": [
    {
     "name": "stderr",
     "output_type": "stream",
     "text": [
      "Constructing Dataset from pkl file: 100%|██████████| 118254/118254 [00:00<00:00, 459248.73it/s]\n"
     ]
    }
   ],
   "source": [
    "from torchdrug import datasets\n",
    "# protein_view = transforms.ProteinView(view=\"residue\", keys=\"graph1\")\n",
    "dataset = datasets.KIBA(path='../../../data/dta-datasets/KIBA/', protein_method=\"gearnetesm_pocket\", drug_method=\"distanceMol\")   # , transform=protein_view"
   ]
  },
  {
   "cell_type": "code",
   "execution_count": 2,
   "metadata": {},
   "outputs": [
    {
     "data": {
      "text/plain": [
       "KIBA(\n",
       "  #sample: 118254\n",
       "  #task: 1\n",
       ")"
      ]
     },
     "execution_count": 2,
     "metadata": {},
     "output_type": "execute_result"
    }
   ],
   "source": [
    "dataset"
   ]
  },
  {
   "cell_type": "code",
   "execution_count": 4,
   "metadata": {},
   "outputs": [
    {
     "data": {
      "text/plain": [
       "PackedProtein(batch_size=1, num_atoms=[73], num_bonds=[562], num_residues=[73])"
      ]
     },
     "execution_count": 4,
     "metadata": {},
     "output_type": "execute_result"
    }
   ],
   "source": [
    "protein = dataset[0]['graph1']\n",
    "protein"
   ]
  },
  {
   "cell_type": "code",
   "execution_count": 5,
   "metadata": {},
   "outputs": [
    {
     "data": {
      "text/plain": [
       "torch.Size([73, 1280])"
      ]
     },
     "execution_count": 5,
     "metadata": {},
     "output_type": "execute_result"
    }
   ],
   "source": [
    "protein.node_feature.shape"
   ]
  },
  {
   "cell_type": "code",
   "execution_count": 6,
   "metadata": {},
   "outputs": [
    {
     "data": {
      "text/plain": [
       "Molecule(num_atom=21, num_bond=46)"
      ]
     },
     "execution_count": 6,
     "metadata": {},
     "output_type": "execute_result"
    }
   ],
   "source": [
    "mol = dataset[0]['graph2']\n",
    "mol"
   ]
  },
  {
   "cell_type": "code",
   "execution_count": 8,
   "metadata": {},
   "outputs": [
    {
     "data": {
      "text/plain": [
       "torch.Size([21, 67])"
      ]
     },
     "execution_count": 8,
     "metadata": {},
     "output_type": "execute_result"
    }
   ],
   "source": [
    "mol.node_feature.shape"
   ]
  },
  {
   "cell_type": "code",
   "execution_count": null,
   "metadata": {},
   "outputs": [],
   "source": [
    "protein_mol = protein.to_molecule()"
   ]
  },
  {
   "cell_type": "code",
   "execution_count": 8,
   "metadata": {},
   "outputs": [
    {
     "data": {
      "image/png": "[encoded data removed]",
      "text/plain": [
       "<rdkit.Chem.rdchem.RWMol at 0x7fd24ae24db0>"
      ]
     },
     "execution_count": 8,
     "metadata": {},
     "output_type": "execute_result"
    }
   ],
   "source": [
    "protein_mol"
   ]
  },
  {
   "cell_type": "code",
   "execution_count": 6,
   "metadata": {},
   "outputs": [
    {
     "name": "stdout",
     "output_type": "stream",
     "text": [
      "Average degree:  15.397260665893555\n",
      "Maximum degree:  30.0\n",
      "Minimum degree:  4.0\n",
      "Number of zero-degree nodes:  0\n"
     ]
    }
   ],
   "source": [
    "degree = protein.degree_in + protein.degree_out\n",
    "print(\"Average degree: \", degree.mean().item())\n",
    "print(\"Maximum degree: \", degree.max().item())\n",
    "print(\"Minimum degree: \", degree.min().item())\n",
    "print(\"Number of zero-degree nodes: \", (degree == 0).sum().item())"
   ]
  },
  {
   "cell_type": "code",
   "execution_count": 7,
   "metadata": {},
   "outputs": [
    {
     "data": {
      "text/plain": [
       "tensor(7)"
      ]
     },
     "execution_count": 7,
     "metadata": {},
     "output_type": "execute_result"
    }
   ],
   "source": [
    "dataset.data[0][0].num_relation"
   ]
  },
  {
   "cell_type": "code",
   "execution_count": 1,
   "metadata": {},
   "outputs": [],
   "source": [
    "import pickle\n",
    "from torchdrug import utils"
   ]
  },
  {
   "cell_type": "code",
   "execution_count": 5,
   "metadata": {},
   "outputs": [],
   "source": [
    "protein_pkl = '../../../data/dta-datasets/KIBA/gearnetesm_pocket_Protein.pkl'  # gearnetesm_\n",
    "with utils.smart_open(protein_pkl, \"rb\") as fin:\n",
    "    protein_list = pickle.load(fin)"
   ]
  },
  {
   "cell_type": "code",
   "execution_count": 3,
   "metadata": {},
   "outputs": [
    {
     "data": {
      "text/plain": [
       "[Protein(num_atom=586, num_bond=1118, num_residue=73),\n",
       " Protein(num_atom=435, num_bond=836, num_residue=55),\n",
       " Protein(num_atom=2491, num_bond=4812, num_residue=302),\n",
       " Protein(num_atom=1079, num_bond=2072, num_residue=133),\n",
       " Protein(num_atom=541, num_bond=1038, num_residue=65),\n",
       " Protein(num_atom=719, num_bond=1384, num_residue=87),\n",
       " Protein(num_atom=917, num_bond=1754, num_residue=113),\n",
       " Protein(num_atom=545, num_bond=1040, num_residue=65),\n",
       " Protein(num_atom=598, num_bond=1132, num_residue=76),\n",
       " Protein(num_atom=1042, num_bond=1996, num_residue=131),\n",
       " Protein(num_atom=596, num_bond=1130, num_residue=74),\n",
       " Protein(num_atom=933, num_bond=1792, num_residue=114),\n",
       " Protein(num_atom=545, num_bond=1036, num_residue=69),\n",
       " Protein(num_atom=67, num_bond=128, num_residue=7),\n",
       " Protein(num_atom=580, num_bond=1116, num_residue=67),\n",
       " Protein(num_atom=1057, num_bond=2054, num_residue=125),\n",
       " Protein(num_atom=2841, num_bond=5518, num_residue=340),\n",
       " Protein(num_atom=1007, num_bond=1914, num_residue=122),\n",
       " Protein(num_atom=1340, num_bond=2580, num_residue=169),\n",
       " Protein(num_atom=1407, num_bond=2696, num_residue=180),\n",
       " Protein(num_atom=1136, num_bond=2184, num_residue=141),\n",
       " Protein(num_atom=1276, num_bond=2482, num_residue=155),\n",
       " Protein(num_atom=464, num_bond=878, num_residue=64),\n",
       " Protein(num_atom=473, num_bond=896, num_residue=62),\n",
       " Protein(num_atom=1495, num_bond=2886, num_residue=184),\n",
       " Protein(num_atom=1713, num_bond=3278, num_residue=219),\n",
       " Protein(num_atom=903, num_bond=1744, num_residue=109),\n",
       " Protein(num_atom=1510, num_bond=2898, num_residue=188),\n",
       " Protein(num_atom=1090, num_bond=2132, num_residue=129),\n",
       " Protein(num_atom=1250, num_bond=2408, num_residue=156),\n",
       " Protein(num_atom=1708, num_bond=3310, num_residue=208),\n",
       " Protein(num_atom=1188, num_bond=2268, num_residue=144),\n",
       " Protein(num_atom=965, num_bond=1864, num_residue=115),\n",
       " Protein(num_atom=879, num_bond=1678, num_residue=108),\n",
       " Protein(num_atom=364, num_bond=684, num_residue=44),\n",
       " Protein(num_atom=456, num_bond=856, num_residue=57),\n",
       " Protein(num_atom=1170, num_bond=2270, num_residue=141),\n",
       " Protein(num_atom=1076, num_bond=2076, num_residue=132),\n",
       " Protein(num_atom=667, num_bond=1266, num_residue=82),\n",
       " Protein(num_atom=911, num_bond=1762, num_residue=108),\n",
       " Protein(num_atom=1377, num_bond=2620, num_residue=174),\n",
       " Protein(num_atom=2084, num_bond=4054, num_residue=256),\n",
       " Protein(num_atom=651, num_bond=1244, num_residue=79),\n",
       " Protein(num_atom=3127, num_bond=6052, num_residue=380),\n",
       " Protein(num_atom=924, num_bond=1780, num_residue=110),\n",
       " Protein(num_atom=1156, num_bond=2246, num_residue=138),\n",
       " Protein(num_atom=845, num_bond=1616, num_residue=101),\n",
       " Protein(num_atom=371, num_bond=688, num_residue=47),\n",
       " Protein(num_atom=535, num_bond=1002, num_residue=68),\n",
       " Protein(num_atom=452, num_bond=870, num_residue=58),\n",
       " Protein(num_atom=993, num_bond=1902, num_residue=123),\n",
       " Protein(num_atom=954, num_bond=1836, num_residue=114),\n",
       " Protein(num_atom=399, num_bond=750, num_residue=51),\n",
       " Protein(num_atom=920, num_bond=1786, num_residue=106),\n",
       " Protein(num_atom=456, num_bond=858, num_residue=55),\n",
       " Protein(num_atom=1512, num_bond=2926, num_residue=185),\n",
       " Protein(num_atom=576, num_bond=1108, num_residue=68),\n",
       " Protein(num_atom=810, num_bond=1554, num_residue=98),\n",
       " Protein(num_atom=533, num_bond=1044, num_residue=61),\n",
       " Protein(num_atom=735, num_bond=1402, num_residue=92),\n",
       " Protein(num_atom=629, num_bond=1184, num_residue=81),\n",
       " Protein(num_atom=665, num_bond=1244, num_residue=87),\n",
       " Protein(num_atom=611, num_bond=1176, num_residue=73),\n",
       " Protein(num_atom=546, num_bond=1054, num_residue=66),\n",
       " Protein(num_atom=660, num_bond=1266, num_residue=82),\n",
       " Protein(num_atom=2759, num_bond=5334, num_residue=335),\n",
       " Protein(num_atom=1525, num_bond=2966, num_residue=185),\n",
       " Protein(num_atom=639, num_bond=1246, num_residue=77),\n",
       " Protein(num_atom=605, num_bond=1172, num_residue=72),\n",
       " Protein(num_atom=614, num_bond=1172, num_residue=77),\n",
       " Protein(num_atom=625, num_bond=1196, num_residue=74),\n",
       " Protein(num_atom=1121, num_bond=2152, num_residue=136),\n",
       " Protein(num_atom=695, num_bond=1318, num_residue=89),\n",
       " Protein(num_atom=977, num_bond=1888, num_residue=123),\n",
       " Protein(num_atom=3524, num_bond=6874, num_residue=433),\n",
       " Protein(num_atom=538, num_bond=1024, num_residue=69),\n",
       " Protein(num_atom=787, num_bond=1512, num_residue=100),\n",
       " Protein(num_atom=527, num_bond=1008, num_residue=66),\n",
       " Protein(num_atom=659, num_bond=1260, num_residue=83),\n",
       " Protein(num_atom=1015, num_bond=1930, num_residue=124),\n",
       " Protein(num_atom=1117, num_bond=2114, num_residue=136),\n",
       " Protein(num_atom=1140, num_bond=2186, num_residue=140),\n",
       " Protein(num_atom=632, num_bond=1206, num_residue=80),\n",
       " Protein(num_atom=1029, num_bond=1994, num_residue=123),\n",
       " Protein(num_atom=763, num_bond=1448, num_residue=96),\n",
       " Protein(num_atom=415, num_bond=800, num_residue=52),\n",
       " Protein(num_atom=1250, num_bond=2454, num_residue=149),\n",
       " Protein(num_atom=2482, num_bond=4812, num_residue=294),\n",
       " Protein(num_atom=2510, num_bond=4858, num_residue=305),\n",
       " Protein(num_atom=4410, num_bond=8414, num_residue=527),\n",
       " Protein(num_atom=662, num_bond=1264, num_residue=83),\n",
       " Protein(num_atom=1137, num_bond=2204, num_residue=141),\n",
       " Protein(num_atom=835, num_bond=1612, num_residue=102),\n",
       " Protein(num_atom=1257, num_bond=2434, num_residue=155),\n",
       " Protein(num_atom=1233, num_bond=2366, num_residue=150),\n",
       " Protein(num_atom=666, num_bond=1266, num_residue=84),\n",
       " Protein(num_atom=459, num_bond=848, num_residue=58),\n",
       " Protein(num_atom=336, num_bond=652, num_residue=44),\n",
       " Protein(num_atom=585, num_bond=1122, num_residue=72),\n",
       " Protein(num_atom=2556, num_bond=4926, num_residue=307),\n",
       " Protein(num_atom=475, num_bond=902, num_residue=59),\n",
       " Protein(num_atom=1138, num_bond=2228, num_residue=135),\n",
       " Protein(num_atom=589, num_bond=1128, num_residue=76),\n",
       " Protein(num_atom=661, num_bond=1278, num_residue=77),\n",
       " Protein(num_atom=681, num_bond=1298, num_residue=82),\n",
       " Protein(num_atom=357, num_bond=676, num_residue=47),\n",
       " Protein(num_atom=779, num_bond=1526, num_residue=95),\n",
       " Protein(num_atom=776, num_bond=1476, num_residue=99),\n",
       " Protein(num_atom=397, num_bond=764, num_residue=48),\n",
       " Protein(num_atom=986, num_bond=1896, num_residue=118),\n",
       " Protein(num_atom=621, num_bond=1178, num_residue=78),\n",
       " Protein(num_atom=1531, num_bond=2940, num_residue=189),\n",
       " Protein(num_atom=526, num_bond=1024, num_residue=62),\n",
       " Protein(num_atom=845, num_bond=1636, num_residue=101),\n",
       " Protein(num_atom=572, num_bond=1090, num_residue=70),\n",
       " Protein(num_atom=822, num_bond=1568, num_residue=100),\n",
       " Protein(num_atom=2670, num_bond=5210, num_residue=325),\n",
       " Protein(num_atom=439, num_bond=832, num_residue=57),\n",
       " Protein(num_atom=1049, num_bond=2004, num_residue=125),\n",
       " Protein(num_atom=951, num_bond=1842, num_residue=124),\n",
       " Protein(num_atom=395, num_bond=752, num_residue=51),\n",
       " Protein(num_atom=434, num_bond=820, num_residue=55),\n",
       " Protein(num_atom=602, num_bond=1162, num_residue=71),\n",
       " Protein(num_atom=734, num_bond=1418, num_residue=89),\n",
       " Protein(num_atom=799, num_bond=1544, num_residue=98),\n",
       " Protein(num_atom=279, num_bond=526, num_residue=35),\n",
       " Protein(num_atom=377, num_bond=726, num_residue=44),\n",
       " Protein(num_atom=453, num_bond=874, num_residue=58),\n",
       " Protein(num_atom=9159, num_bond=17574, num_residue=1115),\n",
       " Protein(num_atom=544, num_bond=1036, num_residue=69),\n",
       " Protein(num_atom=195, num_bond=372, num_residue=26),\n",
       " Protein(num_atom=509, num_bond=978, num_residue=63),\n",
       " Protein(num_atom=1735, num_bond=3368, num_residue=211),\n",
       " Protein(num_atom=898, num_bond=1734, num_residue=112),\n",
       " Protein(num_atom=1329, num_bond=2528, num_residue=169),\n",
       " Protein(num_atom=592, num_bond=1140, num_residue=75),\n",
       " Protein(num_atom=975, num_bond=1864, num_residue=120),\n",
       " Protein(num_atom=675, num_bond=1290, num_residue=85),\n",
       " Protein(num_atom=1599, num_bond=3084, num_residue=194),\n",
       " Protein(num_atom=1251, num_bond=2404, num_residue=149),\n",
       " Protein(num_atom=1336, num_bond=2590, num_residue=164),\n",
       " Protein(num_atom=1189, num_bond=2304, num_residue=144),\n",
       " Protein(num_atom=992, num_bond=1908, num_residue=119),\n",
       " Protein(num_atom=729, num_bond=1408, num_residue=92),\n",
       " Protein(num_atom=635, num_bond=1218, num_residue=77),\n",
       " Protein(num_atom=1159, num_bond=2264, num_residue=137),\n",
       " Protein(num_atom=1516, num_bond=2948, num_residue=187),\n",
       " Protein(num_atom=646, num_bond=1242, num_residue=78),\n",
       " Protein(num_atom=529, num_bond=1018, num_residue=67),\n",
       " Protein(num_atom=609, num_bond=1176, num_residue=76),\n",
       " Protein(num_atom=573, num_bond=1096, num_residue=74),\n",
       " Protein(num_atom=679, num_bond=1296, num_residue=84),\n",
       " Protein(num_atom=1264, num_bond=2416, num_residue=156),\n",
       " Protein(num_atom=1069, num_bond=2048, num_residue=130),\n",
       " Protein(num_atom=974, num_bond=1868, num_residue=119),\n",
       " Protein(num_atom=770, num_bond=1456, num_residue=95),\n",
       " Protein(num_atom=912, num_bond=1736, num_residue=113),\n",
       " Protein(num_atom=453, num_bond=874, num_residue=57),\n",
       " Protein(num_atom=507, num_bond=980, num_residue=60),\n",
       " Protein(num_atom=1388, num_bond=2678, num_residue=173),\n",
       " Protein(num_atom=903, num_bond=1742, num_residue=113),\n",
       " Protein(num_atom=1011, num_bond=1912, num_residue=130),\n",
       " Protein(num_atom=1221, num_bond=2362, num_residue=143),\n",
       " Protein(num_atom=1115, num_bond=2168, num_residue=133),\n",
       " Protein(num_atom=194, num_bond=372, num_residue=25),\n",
       " Protein(num_atom=659, num_bond=1258, num_residue=83),\n",
       " Protein(num_atom=1138, num_bond=2168, num_residue=139),\n",
       " Protein(num_atom=1492, num_bond=2864, num_residue=184),\n",
       " Protein(num_atom=1436, num_bond=2760, num_residue=179),\n",
       " Protein(num_atom=656, num_bond=1248, num_residue=81),\n",
       " Protein(num_atom=1370, num_bond=2642, num_residue=164),\n",
       " Protein(num_atom=956, num_bond=1826, num_residue=116),\n",
       " Protein(num_atom=1184, num_bond=2248, num_residue=143),\n",
       " Protein(num_atom=737, num_bond=1418, num_residue=90),\n",
       " Protein(num_atom=710, num_bond=1352, num_residue=88),\n",
       " Protein(num_atom=806, num_bond=1550, num_residue=106),\n",
       " Protein(num_atom=897, num_bond=1754, num_residue=103),\n",
       " Protein(num_atom=628, num_bond=1194, num_residue=77),\n",
       " Protein(num_atom=4055, num_bond=7830, num_residue=501),\n",
       " Protein(num_atom=2015, num_bond=3860, num_residue=254),\n",
       " Protein(num_atom=862, num_bond=1648, num_residue=106),\n",
       " Protein(num_atom=1317, num_bond=2510, num_residue=164),\n",
       " Protein(num_atom=385, num_bond=732, num_residue=47),\n",
       " Protein(num_atom=923, num_bond=1794, num_residue=114),\n",
       " Protein(num_atom=762, num_bond=1464, num_residue=96),\n",
       " Protein(num_atom=979, num_bond=1888, num_residue=124),\n",
       " Protein(num_atom=790, num_bond=1514, num_residue=95),\n",
       " Protein(num_atom=1169, num_bond=2234, num_residue=146),\n",
       " Protein(num_atom=561, num_bond=1072, num_residue=69),\n",
       " Protein(num_atom=377, num_bond=704, num_residue=50),\n",
       " Protein(num_atom=859, num_bond=1628, num_residue=103),\n",
       " Protein(num_atom=377, num_bond=708, num_residue=48),\n",
       " Protein(num_atom=1180, num_bond=2264, num_residue=150),\n",
       " Protein(num_atom=596, num_bond=1136, num_residue=76),\n",
       " Protein(num_atom=1017, num_bond=1940, num_residue=123),\n",
       " Protein(num_atom=1535, num_bond=2962, num_residue=186),\n",
       " Protein(num_atom=626, num_bond=1198, num_residue=79),\n",
       " Protein(num_atom=852, num_bond=1668, num_residue=102),\n",
       " Protein(num_atom=385, num_bond=738, num_residue=49),\n",
       " Protein(num_atom=1220, num_bond=2326, num_residue=146),\n",
       " Protein(num_atom=1025, num_bond=1956, num_residue=124),\n",
       " Protein(num_atom=593, num_bond=1124, num_residue=73),\n",
       " Protein(num_atom=321, num_bond=620, num_residue=38),\n",
       " Protein(num_atom=325, num_bond=606, num_residue=41),\n",
       " Protein(num_atom=879, num_bond=1692, num_residue=107),\n",
       " Protein(num_atom=727, num_bond=1384, num_residue=86),\n",
       " Protein(num_atom=689, num_bond=1306, num_residue=88),\n",
       " Protein(num_atom=494, num_bond=950, num_residue=59),\n",
       " Protein(num_atom=560, num_bond=1084, num_residue=69),\n",
       " Protein(num_atom=281, num_bond=532, num_residue=38),\n",
       " Protein(num_atom=536, num_bond=1030, num_residue=66),\n",
       " Protein(num_atom=711, num_bond=1358, num_residue=88),\n",
       " Protein(num_atom=821, num_bond=1582, num_residue=101),\n",
       " Protein(num_atom=382, num_bond=722, num_residue=51),\n",
       " Protein(num_atom=494, num_bond=940, num_residue=64),\n",
       " Protein(num_atom=639, num_bond=1230, num_residue=82),\n",
       " Protein(num_atom=847, num_bond=1624, num_residue=102),\n",
       " Protein(num_atom=862, num_bond=1652, num_residue=109),\n",
       " Protein(num_atom=378, num_bond=714, num_residue=47),\n",
       " Protein(num_atom=921, num_bond=1766, num_residue=116),\n",
       " Protein(num_atom=669, num_bond=1280, num_residue=79),\n",
       " Protein(num_atom=821, num_bond=1576, num_residue=104),\n",
       " Protein(num_atom=1640, num_bond=3180, num_residue=195),\n",
       " Protein(num_atom=779, num_bond=1488, num_residue=96),\n",
       " Protein(num_atom=705, num_bond=1338, num_residue=85),\n",
       " Protein(num_atom=446, num_bond=852, num_residue=57),\n",
       " Protein(num_atom=52, num_bond=102, num_residue=5),\n",
       " Protein(num_atom=1503, num_bond=2914, num_residue=183),\n",
       " Protein(num_atom=339, num_bond=644, num_residue=44)]"
      ]
     },
     "execution_count": 3,
     "metadata": {},
     "output_type": "execute_result"
    }
   ],
   "source": [
    "protein_list"
   ]
  },
  {
   "cell_type": "code",
   "execution_count": 4,
   "metadata": {},
   "outputs": [
    {
     "data": {
      "text/plain": [
       "torch.Size([73, 1280])"
      ]
     },
     "execution_count": 4,
     "metadata": {},
     "output_type": "execute_result"
    }
   ],
   "source": [
    "protein_list[0].residue_feature.shape"
   ]
  },
  {
   "cell_type": "code",
   "execution_count": 14,
   "metadata": {},
   "outputs": [
    {
     "name": "stdout",
     "output_type": "stream",
     "text": [
      "torch.Size([431, 1280])\n",
      "torch.Size([574, 1280])\n",
      "torch.Size([1044, 1280])\n",
      "torch.Size([725, 1280])\n",
      "torch.Size([970, 1280])\n",
      "torch.Size([476, 1280])\n",
      "torch.Size([756, 1280])\n",
      "torch.Size([403, 1280])\n",
      "torch.Size([740, 1280])\n",
      "torch.Size([745, 1280])\n",
      "torch.Size([365, 1280])\n",
      "torch.Size([556, 1280])\n",
      "torch.Size([454, 1280])\n",
      "torch.Size([272, 1280])\n",
      "torch.Size([588, 1280])\n",
      "torch.Size([661, 1280])\n",
      "torch.Size([1132, 1280])\n",
      "torch.Size([1388, 1280])\n",
      "torch.Size([802, 1280])\n",
      "torch.Size([772, 1280])\n",
      "torch.Size([890, 1280])\n",
      "torch.Size([1239, 1280])\n",
      "torch.Size([591, 1280])\n",
      "torch.Size([543, 1280])\n",
      "torch.Size([1130, 1280])\n",
      "torch.Size([1210, 1280])\n",
      "torch.Size([648, 1280])\n",
      "torch.Size([1255, 1280])\n",
      "torch.Size([796, 1280])\n",
      "torch.Size([697, 1280])\n",
      "torch.Size([671, 1280])\n",
      "torch.Size([1382, 1280])\n",
      "torch.Size([509, 1280])\n",
      "torch.Size([537, 1280])\n",
      "torch.Size([297, 1280])\n",
      "torch.Size([822, 1280])\n",
      "torch.Size([972, 1280])\n",
      "torch.Size([543, 1280])\n",
      "torch.Size([512, 1280])\n",
      "torch.Size([1114, 1280])\n",
      "torch.Size([1367, 1280])\n",
      "torch.Size([1390, 1280])\n",
      "torch.Size([526, 1280])\n",
      "torch.Size([2347, 1280])\n",
      "torch.Size([1106, 1280])\n",
      "torch.Size([529, 1280])\n",
      "torch.Size([976, 1280])\n",
      "torch.Size([313, 1280])\n",
      "torch.Size([822, 1280])\n",
      "torch.Size([303, 1280])\n",
      "torch.Size([536, 1280])\n",
      "torch.Size([766, 1280])\n",
      "torch.Size([406, 1280])\n",
      "torch.Size([1089, 1280])\n",
      "torch.Size([822, 1280])\n",
      "torch.Size([672, 1280])\n",
      "torch.Size([351, 1280])\n",
      "torch.Size([1338, 1280])\n",
      "torch.Size([350, 1280])\n",
      "torch.Size([821, 1280])\n",
      "torch.Size([802, 1280])\n",
      "torch.Size([806, 1280])\n",
      "torch.Size([351, 1280])\n",
      "torch.Size([351, 1280])\n",
      "torch.Size([525, 1280])\n",
      "torch.Size([1154, 1280])\n",
      "torch.Size([683, 1280])\n",
      "torch.Size([298, 1280])\n",
      "torch.Size([379, 1280])\n",
      "torch.Size([753, 1280])\n",
      "torch.Size([360, 1280])\n",
      "torch.Size([976, 1280])\n",
      "torch.Size([1055, 1280])\n",
      "torch.Size([864, 1280])\n",
      "torch.Size([1187, 1280])\n",
      "torch.Size([646, 1280])\n",
      "torch.Size([894, 1280])\n",
      "torch.Size([480, 1280])\n",
      "torch.Size([481, 1280])\n",
      "torch.Size([590, 1280])\n",
      "torch.Size([1363, 1280])\n",
      "torch.Size([1356, 1280])\n",
      "torch.Size([400, 1280])\n",
      "torch.Size([993, 1280])\n",
      "torch.Size([450, 1280])\n",
      "torch.Size([467, 1280])\n",
      "torch.Size([596, 1280])\n",
      "torch.Size([1068, 1280])\n",
      "torch.Size([1070, 1280])\n",
      "torch.Size([2549, 1280])\n",
      "torch.Size([507, 1280])\n",
      "torch.Size([1182, 1280])\n",
      "torch.Size([505, 1280])\n",
      "torch.Size([619, 1280])\n",
      "torch.Size([635, 1280])\n",
      "torch.Size([427, 1280])\n",
      "torch.Size([424, 1280])\n",
      "torch.Size([337, 1280])\n",
      "torch.Size([415, 1280])\n",
      "torch.Size([1102, 1280])\n",
      "torch.Size([400, 1280])\n",
      "torch.Size([464, 1280])\n",
      "torch.Size([416, 1280])\n",
      "torch.Size([484, 1280])\n",
      "torch.Size([499, 1280])\n",
      "torch.Size([483, 1280])\n",
      "torch.Size([420, 1280])\n",
      "torch.Size([346, 1280])\n",
      "torch.Size([372, 1280])\n",
      "torch.Size([505, 1280])\n",
      "torch.Size([712, 1280])\n",
      "torch.Size([740, 1280])\n",
      "torch.Size([675, 1280])\n",
      "torch.Size([358, 1280])\n",
      "torch.Size([445, 1280])\n",
      "torch.Size([841, 1280])\n",
      "torch.Size([1124, 1280])\n",
      "torch.Size([334, 1280])\n",
      "torch.Size([603, 1280])\n",
      "torch.Size([647, 1280])\n",
      "torch.Size([367, 1280])\n",
      "torch.Size([346, 1280])\n",
      "torch.Size([331, 1280])\n",
      "torch.Size([552, 1280])\n",
      "torch.Size([987, 1280])\n",
      "torch.Size([215, 1280])\n",
      "torch.Size([391, 1280])\n",
      "torch.Size([415, 1280])\n",
      "torch.Size([3656, 1280])\n",
      "torch.Size([1104, 1280])\n",
      "torch.Size([326, 1280])\n",
      "torch.Size([292, 1280])\n",
      "torch.Size([737, 1280])\n",
      "torch.Size([393, 1280])\n",
      "torch.Size([1124, 1280])\n",
      "torch.Size([954, 1280])\n",
      "torch.Size([706, 1280])\n",
      "torch.Size([509, 1280])\n",
      "torch.Size([1400, 1280])\n",
      "torch.Size([1052, 1280])\n",
      "torch.Size([592, 1280])\n",
      "torch.Size([676, 1280])\n",
      "torch.Size([659, 1280])\n",
      "torch.Size([890, 1280])\n",
      "torch.Size([1038, 1280])\n",
      "torch.Size([620, 1280])\n",
      "torch.Size([820, 1280])\n",
      "torch.Size([999, 1280])\n",
      "torch.Size([559, 1280])\n",
      "torch.Size([545, 1280])\n",
      "torch.Size([524, 1280])\n",
      "torch.Size([491, 1280])\n",
      "torch.Size([762, 1280])\n",
      "torch.Size([1354, 1280])\n",
      "torch.Size([666, 1280])\n",
      "torch.Size([558, 1280])\n",
      "torch.Size([499, 1280])\n",
      "torch.Size([763, 1280])\n",
      "torch.Size([451, 1280])\n",
      "torch.Size([671, 1280])\n",
      "torch.Size([370, 1280])\n",
      "torch.Size([716, 1280])\n",
      "torch.Size([1009, 1280])\n",
      "torch.Size([651, 1280])\n",
      "torch.Size([307, 1280])\n",
      "torch.Size([436, 1280])\n",
      "torch.Size([912, 1280])\n",
      "torch.Size([1308, 1280])\n",
      "torch.Size([735, 1280])\n",
      "torch.Size([364, 1280])\n",
      "torch.Size([839, 1280])\n",
      "torch.Size([942, 1280])\n",
      "torch.Size([984, 1280])\n",
      "torch.Size([360, 1280])\n",
      "torch.Size([473, 1280])\n",
      "torch.Size([847, 1280])\n",
      "torch.Size([822, 1280])\n",
      "torch.Size([382, 1280])\n",
      "torch.Size([1795, 1280])\n",
      "torch.Size([1732, 1280])\n",
      "torch.Size([788, 1280])\n",
      "torch.Size([1001, 1280])\n",
      "torch.Size([326, 1280])\n",
      "torch.Size([385, 1280])\n",
      "torch.Size([473, 1280])\n",
      "torch.Size([1332, 1280])\n",
      "torch.Size([616, 1280])\n",
      "torch.Size([778, 1280])\n",
      "torch.Size([344, 1280])\n",
      "torch.Size([322, 1280])\n",
      "torch.Size([752, 1280])\n",
      "torch.Size([358, 1280])\n",
      "torch.Size([1323, 1280])\n",
      "torch.Size([588, 1280])\n",
      "torch.Size([655, 1280])\n",
      "torch.Size([1374, 1280])\n",
      "torch.Size([465, 1280])\n",
      "torch.Size([502, 1280])\n",
      "torch.Size([367, 1280])\n",
      "torch.Size([878, 1280])\n",
      "torch.Size([926, 1280])\n",
      "torch.Size([1235, 1280])\n",
      "torch.Size([1198, 1280])\n",
      "torch.Size([488, 1280])\n",
      "torch.Size([646, 1280])\n",
      "torch.Size([481, 1280])\n",
      "torch.Size([465, 1280])\n",
      "torch.Size([367, 1280])\n",
      "torch.Size([313, 1280])\n",
      "torch.Size([422, 1280])\n",
      "torch.Size([520, 1280])\n",
      "torch.Size([460, 1280])\n",
      "torch.Size([800, 1280])\n",
      "torch.Size([311, 1280])\n",
      "torch.Size([416, 1280])\n",
      "torch.Size([527, 1280])\n",
      "torch.Size([816, 1280])\n",
      "torch.Size([482, 1280])\n",
      "torch.Size([414, 1280])\n",
      "torch.Size([489, 1280])\n",
      "torch.Size([569, 1280])\n",
      "torch.Size([729, 1280])\n",
      "torch.Size([1620, 1280])\n",
      "torch.Size([478, 1280])\n",
      "torch.Size([479, 1280])\n",
      "torch.Size([629, 1280])\n",
      "torch.Size([270, 1280])\n",
      "torch.Size([846, 1280])\n",
      "torch.Size([447, 1280])\n"
     ]
    }
   ],
   "source": [
    "for protein in protein_list:\n",
    "    print(protein.residue_feature.shape)\n",
    "    # degree = protein.degree_in + protein.degree_out\n",
    "    # print(\"==============================\")\n",
    "    # print(\"Average degree: \", degree.mean().item())\n",
    "    # print(\"Maximum degree: \", degree.max().item())\n",
    "    # print(\"Minimum degree: \", degree.min().item())\n",
    "    # print(\"Number of zero-degree nodes: \", (degree == 0).sum().item())\n",
    "    # print(\"==============================\")"
   ]
  },
  {
   "attachments": {},
   "cell_type": "markdown",
   "metadata": {},
   "source": [
    "***"
   ]
  },
  {
   "attachments": {},
   "cell_type": "markdown",
   "metadata": {},
   "source": [
    "Test for P78527 Len:4128"
   ]
  },
  {
   "cell_type": "code",
   "execution_count": 4,
   "metadata": {},
   "outputs": [],
   "source": [
    "from torchdrug import data\n",
    "path = '../../../data/dta-datasets/KIBA/pdb/pdb/'"
   ]
  },
  {
   "cell_type": "code",
   "execution_count": 11,
   "metadata": {},
   "outputs": [],
   "source": [
    "new_list = [] \n",
    "for index in range(15):\n",
    "    pdb_file = path + 'AF-P78527-F' + str(index+1) + '-model_v4.pdb'\n",
    "    # print(pdb_file)\n",
    "    protein = data.Protein.from_pdb(pdb_file)\n",
    "    new_list.append(protein)\n",
    "    # print(protein)"
   ]
  },
  {
   "cell_type": "code",
   "execution_count": 28,
   "metadata": {},
   "outputs": [],
   "source": [
    "sequence = \"MAGSGAGVRCSLLRLQETLSAADRCGAALAGHQLIRGLGQECVLSSSPAVLALQTSLVFSRDFGLLVFVRKSLNSIEFRECREEILKFLCIFLEKMGQKIAPYSVEIKNTCTSVYTKDRAAKCKIPALDLLIKLLQTFRSSRLMDEFKIGELFSKFYGELALKKKIPDTVLEKVYELLGLLGEVHPSEMINNAENLFRAFLGELKTQMTSAVREPKLPVLAGCLKGLSSLLCNFTKSMEEDPQTSREIFNFVLKAIRPQIDLKRYAVPSAGLRLFALHASQFSTCLLDNYVSLFEVLLKWCAHTNVELKKAALSALESFLKQVSNMVAKNAEMHKNKLQYFMEQFYGIIRNVDSNNKELSIAIRGYGLFAGPCKVINAKDVDFMYVELIQRCKQMFLTQTDTGDDRVYQMPSFLQSVASVLLYLDTVPEVYTPVLEHLVVMQIDSFPQYSPKMQLVCCRAIVKVFLALAAKGPVLRNCISTVVHQGLIRICSKPVVLPKGPESESEDHRASGEVRTGKWKVPTYKDYVDLFRHLLSSDQMMDSILADEAFFSVNSSSESLNHLLYDEFVKSVLKIVEKLDLTLEIQTVGEQENGDEAPGVWMIPTSDPAANLHPAKPKDFSAFINLVEFCREILPEKQAEFFEPWVYSFSYELILQSTRLPLISGFYKLLSITVRNAKKIKYFEGVSPKSLKHSPEDPEKYSCFALFVKFGKEVAVKMKQYKDELLASCLTFLLSLPHNIIELDVRAYVPALQMAFKLGLSYTPLAEVGLNALEEWSIYIDRHVMQPYYKDILPCLDGYLKTSALSDETKNNWEVSALSRAAQKGFNKVVLKHLKKTKNLSSNEAISLEEIRIRVVQMLGSLGGQINKNLLTVTSSDEMMKSYVAWDREKRLSFAVPFREMKPVIFLDVFLPRVTELALTASDRQTKVAACELLHSMVMFMLGKATQMPEGGQGAPPMYQLYKRTFPVLLRLACDVDQVTRQLYEPLVMQLIHWFTNNKKFESQDTVALLEAILDGIVDPVDSTLRDFCGRCIREFLKWSIKQITPQQQEKSPVNTKSLFKRLYSLALHPNAFKRLGASLAFNNIYREFREEESLVEQFVFEALVIYMESLALAHADEKSLGTIQQCCDAIDHLCRIIEKKHVSLNKAKKRRLPRGFPPSASLCLLDLVKWLLAHCGRPQTECRHKSIELFYKFVPLLPGNRSPNLWLKDVLKEEGVSFLINTFEGGGCGQPSGILAQPTLLYLRGPFSLQATLCWLDLLLAALECYNTFIGERTVGALQVLGTEAQSSLLKAVAFFLESIAMHDIIAAEKCFGTGAAGNRTSPQEGERYNYSKCTVVVRIMEFTTTLLNTSPEGWKLLKKDLCNTHLMRVLVQTLCEPASIGFNIGDVQVMAHLPDVCVNLMKALKMSPYKDILETHLREKITAQSIEELCAVNLYGPDAQVDRSRLAAVVSACKQLHRAGLLHNILPSQSTDLHHSVGTELLSLVYKGIAPGDERQCLPSLDLSCKQLASGLLELAFAFGGLCERLVSLLLNPAVLSTASLGSSQGSVIHFSHGEYFYSLFSETINTELLKNLDLAVLELMQSSVDNTKMVSAVLNGMLDQSFRERANQKHQGLKLATTILQHWKKCDSWWAKDSPLETKMAVLALLAKILQIDSSVSFNTSHGSFPEVFTTYISLLADTKLDLHLKGQAVTLLPFFTSLTGGSLEELRRVLEQLIVAHFPMQSREFPPGTPRFNNYVDCMKKFLDALELSQSPMLLELMTEVLCREQQHVMEELFQSSFRRIARRGSCVTQVGLLESVYEMFRKDDPRLSFTRQSFVDRSLLTLLWHCSLDALREFFSTIVVDAIDVLKSRFTKLNESTFDTQITKKMGYYKILDVMYSRLPKDDVHAKESKINQVFHGSCITEGNELTKTLIKLCYDAFTENMAGENQLLERRRLYHCAAYNCAISVICCVFNELKFYQGFLFSEKPEKNLLIFENLIDLKRRYNFPVEVEVPMERKKKYIEIRKEAREAANGDSDGPSYMSSLSYLADSTLSEEMSQFDFSTGVQSYSYSSQDPRPATGRFRRREQRDPTVHDDVLELEMDELNRHECMAPLTALVKHMHRSLGPPQGEEDSVPRDLPSWMKFLHGKLGNPIVPLNIRLFLAKLVINTEEVFRPYAKHWLSPLLQLAASENNGGEGIHYMVVEIVATILSWTGLATPTGVPKDEVLANRLLNFLMKHVFHPKRAVFRHNLEIIKTLVECWKDCLSIPYRLIFEKFSGKDPNSKDNSVGIQLLGIVMANDLPPYDPQCGIQSSEYFQALVNNMSFVRYKEVYAAAAEVLGLILRYVMERKNILEESLCELVAKQLKQHQNTMEDKFIVCLNKVTKSFPPLADRFMNAVFFLLPKFHGVLKTLCLEVVLCRVEGMTELYFQLKSKDFVQVMRHRDDERQKVCLDIIYKMMPKLKPVELRELLNPVVEFVSHPSTTCREQMYNILMWIHDNYRDPESETDNDSQEIFKLAKDVLIQGLIDENPGLQLIIRNFWSHETRLPSNTLDRLLALNSLYSPKIEVHFLSLATNFLLEMTSMSPDYPNPMFEHPLSECEFQEYTIDSDWRFRSTVLTPMFVETQASQGTLQTRTQEGSLSARWPVAGQIRATQQQHDFTLTQTADGRSSFDWLTGSSTDPLVDHTSPSSDSLLFAHKRSERLQRAPLKSVGPDFGKKRLGLPGDEVDNKVKGAAGRTDLLRLRRRFMRDQEKLSLMYARKGVAEQKREKEIKSELKMKQDAQVVLYRSYRHGDLPDIQIKHSSLITPLQAVAQRDPIIAKQLFSSLFSGILKEMDKFKTLSEKNNITQKLLQDFNRFLNTTFSFFPPFVSCIQDISCQHAALLSLDPAAVSAGCLASLQQPVGIRLLEEALLRLLPAELPAKRVRGKARLPPDVLRWVELAKLYRSIGEYDVLRGIFTSEIGTKQITQSALLAEARSDYSEAAKQYDEALNKQDWVDGEPTEAEKDFWELASLDCYNHLAEWKSLEYCSTASIDSENPPDLNKIWSEPFYQETYLPYMIRSKLKLLLQGEADQSLLTFIDKAMHGELQKAILELHYSQELSLLYLLQDDVDRAKYYIQNGIQSFMQNYSSIDVLLHQSRLTKLQSVQALTEIQEFISFISKQGNLSSQVPLKRLLNTWTNRYPDAKMDPMNIWDDIITNRCFFLSKIEEKLTPLPEDNSMNVDQDGDPSDRMEVQEQEEDISSLIRSCKFSMKMKMIDSARKQNNFSLAMKLLKELHKESKTRDDWLVSWVQSYCRLSHCRSRSQGCSEQVLTVLKTVSLLDENNVSSYLSKNILAFRDQNILLGTTYRIIANALSSEPACLAEIEEDKARRILELSGSSSEDSEKVIAGLYQRAFQHLSEAVQAAEEEAQPPSWSCGPAAGVIDAYMTLADFCDQQLRKEEENASVIDSAELQAYPALVVEKMLKALKLNSNEARLKFPRLLQIIERYPEETLSLMTKEISSVPCWQFISWISHMVALLDKDQAVAVQHSVEEITDNYPQAIVYPFIISSESYSFKDTSTGHKNKEFVARIKSKLDQGGVIQDFINALDQLSNPELLFKDWSNDVRAELAKTPVNKKNIEKMYERMYAALGDPKAPGLGAFRRKFIQTFGKEFDKHFGKGGSKLLRMKLSDFNDITNMLLLKMNKDSKPPGNLKECSPWMSDFKVEFLRNELEIPGQYDGRGKPLPEYHVRIAGFDERVTVMASLRRPKRIIIRGHDEREHPFLVKGGEDLRQDQRVEQLFQVMNGILAQDSACSQRALQLRTYSVVPMTSRLGLIEWLENTVTLKDLLLNTMSQEEKAAYLSDPRAPPCEYKDWLTKMSGKHDVGAYMLMYKGANRTETVTSFRKRESKVPADLLKRAFVRMSTSPEAFLALRSHFASSHALICISHWILGIGDRHLNNFMVAMETGGVIGIDFGHAFGSATQFLPVPELMPFRLTRQFINLMLPMKETGLMYSIMVHALRAFRSDPGLLTNTMDVFVKEPSFDWKNFEQKMLKKGGSWIQEINVAEKNWYPRQKICYAKRKLAGANPAVITCDELLLGHEKAPAFRDYVAVARGSKDHNIRAQEPESGLSEETQVKCLMDQATDPNILGRTWEGWEPWM\""
   ]
  },
  {
   "cell_type": "code",
   "execution_count": 12,
   "metadata": {},
   "outputs": [
    {
     "data": {
      "text/plain": [
       "Protein(num_atom=11082, num_bond=22620, num_residue=1400)"
      ]
     },
     "execution_count": 12,
     "metadata": {},
     "output_type": "execute_result"
    }
   ],
   "source": [
    "fragment1 = new_list[0]\n",
    "fragment1"
   ]
  },
  {
   "cell_type": "code",
   "execution_count": 26,
   "metadata": {},
   "outputs": [
    {
     "data": {
      "text/plain": [
       "'MAGSGAGVRCSLLRLQETLSAADRCGAALAGHQLIRGLGQECVLSSSPAVLALQTSLVFSRDFGLLVFVRKSLNSIEFRECREEILKFLCIFLEKMGQKIAPYSVEIKNTCTSVYTKDRAAKCKIPALDLLIKLLQTFRSSRLMDEFKIGELFSKFYGELALKKKIPDTVLEKVYELLGLLGEVHPSEMINNAENLFRAFLGELKTQMTSAVREPKLPVLAGCLKGLSSLLCNFTKSMEEDPQTSREIFNFVLKAIRPQIDLKRYAVPSAGLRLFALHASQFSTCLLDNYVSLFEVLLKWCAHTNVELKKAALSALESFLKQVSNMVAKNAEMHKNKLQYFMEQFYGIIRNVDSNNKELSIAIRGYGLFAGPCKVINAKDVDFMYVELIQRCKQMFLTQTDTGDDRVYQMPSFLQSVASVLLYLDTVPEVYTPVLEHLVVMQIDSFPQYSPKMQLVCCRAIVKVFLALAAKGPVLRNCISTVVHQGLIRICSKPVVLPKGPESESEDHRASGEVRTGKWKVPTYKDYVDLFRHLLSSDQMMDSILADEAFFSVNSSSESLNHLLYDEFVKSVLKIVEKLDLTLEIQTVGEQENGDEAPGVWMIPTSDPAANLHPAKPKDFSAFINLVEFCREILPEKQAEFFEPWVYSFSYELILQSTRLPLISGFYKLLSITVRNAKKIKYFEGVSPKSLKHSPEDPEKYSCFALFVKFGKEVAVKMKQYKDELLASCLTFLLSLPHNIIELDVRAYVPALQMAFKLGLSYTPLAEVGLNALEEWSIYIDRHVMQPYYKDILPCLDGYLKTSALSDETKNNWEVSALSRAAQKGFNKVVLKHLKKTKNLSSNEAISLEEIRIRVVQMLGSLGGQINKNLLTVTSSDEMMKSYVAWDREKRLSFAVPFREMKPVIFLDVFLPRVTELALTASDRQTKVAACELLHSMVMFMLGKATQMPEGGQGAPPMYQLYKRTFPVLLRLACDVDQVTRQLYEPLVMQLIHWFTNNKKFESQDTVALLEAILDGIVDPVDSTLRDFCGRCIREFLKWSIKQITPQQQEKSPVNTKSLFKRLYSLALHPNAFKRLGASLAFNNIYREFREEESLVEQFVFEALVIYMESLALAHADEKSLGTIQQCCDAIDHLCRIIEKKHVSLNKAKKRRLPRGFPPSASLCLLDLVKWLLAHCGRPQTECRHKSIELFYKFVPLLPGNRSPNLWLKDVLKEEGVSFLINTFEGGGCGQPSGILAQPTLLYLRGPFSLQATLCWLDLLLAALECYNTFIGERTVGALQVLGTEAQSSLLKAVAFFLESIAMHDIIAAEKCFGTGAAGNRTSPQEGERYNYSKCTVVVRIMEFTTTLLNTSPEGWKLLKKDLCNTHLMRVLVQTLCEPASIGFNIGDVQVMAHLPDVCV'"
      ]
     },
     "execution_count": 26,
     "metadata": {},
     "output_type": "execute_result"
    }
   ],
   "source": [
    "fragment1.to_sequence()"
   ]
  },
  {
   "cell_type": "code",
   "execution_count": 29,
   "metadata": {},
   "outputs": [
    {
     "data": {
      "text/plain": [
       "'MAGSGAGVRCSLLRLQETLSAADRCGAALAGHQLIRGLGQECVLSSSPAVLALQTSLVFSRDFGLLVFVRKSLNSIEFRECREEILKFLCIFLEKMGQKIAPYSVEIKNTCTSVYTKDRAAKCKIPALDLLIKLLQTFRSSRLMDEFKIGELFSKFYGELALKKKIPDTVLEKVYELLGLLGEVHPSEMINNAENLFRAFLGELKTQMTSAVREPKLPVLAGCLKGLSSLLCNFTKSMEEDPQTSREIFNFVLKAIRPQIDLKRYAVPSAGLRLFALHASQFSTCLLDNYVSLFEVLLKWCAHTNVELKKAALSALESFLKQVSNMVAKNAEMHKNKLQYFMEQFYGIIRNVDSNNKELSIAIRGYGLFAGPCKVINAKDVDFMYVELIQRCKQMFLTQTDTGDDRVYQMPSFLQSVASVLLYLDTVPEVYTPVLEHLVVMQIDSFPQYSPKMQLVCCRAIVKVFLALAAKGPVLRNCISTVVHQGLIRICSKPVVLPKGPESESEDHRASGEVRTGKWKVPTYKDYVDLFRHLLSSDQMMDSILADEAFFSVNSSSESLNHLLYDEFVKSVLKIVEKLDLTLEIQTVGEQENGDEAPGVWMIPTSDPAANLHPAKPKDFSAFINLVEFCREILPEKQAEFFEPWVYSFSYELILQSTRLPLISGFYKLLSITVRNAKKIKYFEGVSPKSLKHSPEDPEKYSCFALFVKFGKEVAVKMKQYKDELLASCLTFLLSLPHNIIELDVRAYVPALQMAFKLGLSYTPLAEVGLNALEEWSIYIDRHVMQPYYKDILPCLDGYLKTSALSDETKNNWEVSALSRAAQKGFNKVVLKHLKKTKNLSSNEAISLEEIRIRVVQMLGSLGGQINKNLLTVTSSDEMMKSYVAWDREKRLSFAVPFREMKPVIFLDVFLPRVTELALTASDRQTKVAACELLHSMVMFMLGKATQMPEGGQGAPPMYQLYKRTFPVLLRLACDVDQVTRQLYEPLVMQLIHWFTNNKKFESQDTVALLEAILDGIVDPVDSTLRDFCGRCIREFLKWSIKQITPQQQEKSPVNTKSLFKRLYSLALHPNAFKRLGASLAFNNIYREFREEESLVEQFVFEALVIYMESLALAHADEKSLGTIQQCCDAIDHLCRIIEKKHVSLNKAKKRRLPRGFPPSASLCLLDLVKWLLAHCGRPQTECRHKSIELFYKFVPLLPGNRSPNLWLKDVLKEEGVSFLINTFEGGGCGQPSGILAQPTLLYLRGPFSLQATLCWLDLLLAALECYNTFIGERTVGALQVLGTEAQSSLLKAVAFFLESIAMHDIIAAEKCFGTGAAGNRTSPQEGERYNYSKCTVVVRIMEFTTTLLNTSPEGWKLLKKDLCNTHLMRVLVQTLCEPASIGFNIGDVQVMAHLPDVCV'"
      ]
     },
     "execution_count": 29,
     "metadata": {},
     "output_type": "execute_result"
    }
   ],
   "source": [
    "sequence[:1400]"
   ]
  },
  {
   "cell_type": "code",
   "execution_count": 35,
   "metadata": {},
   "outputs": [
    {
     "data": {
      "text/plain": [
       "Protein(num_atom=11237, num_bond=22944, num_residue=1400)"
      ]
     },
     "execution_count": 35,
     "metadata": {},
     "output_type": "execute_result"
    }
   ],
   "source": [
    "fragment2 = new_list[7]\n",
    "fragment2"
   ]
  },
  {
   "cell_type": "code",
   "execution_count": 36,
   "metadata": {},
   "outputs": [
    {
     "data": {
      "text/plain": [
       "'NLMKALKMSPYKDILETHLREKITAQSIEELCAVNLYGPDAQVDRSRLAAVVSACKQLHRAGLLHNILPSQSTDLHHSVGTELLSLVYKGIAPGDERQCLPSLDLSCKQLASGLLELAFAFGGLCERLVSLLLNPAVLSTASLGSSQGSVIHFSHGEYFYSLFSETINTELLKNLDLAVLELMQSSVDNTKMVSAVLNGMLDQSFRERANQKHQGLKLATTILQHWKKCDSWWAKDSPLETKMAVLALLAKILQIDSSVSFNTSHGSFPEVFTTYISLLADTKLDLHLKGQAVTLLPFFTSLTGGSLEELRRVLEQLIVAHFPMQSREFPPGTPRFNNYVDCMKKFLDALELSQSPMLLELMTEVLCREQQHVMEELFQSSFRRIARRGSCVTQVGLLESVYEMFRKDDPRLSFTRQSFVDRSLLTLLWHCSLDALREFFSTIVVDAIDVLKSRFTKLNESTFDTQITKKMGYYKILDVMYSRLPKDDVHAKESKINQVFHGSCITEGNELTKTLIKLCYDAFTENMAGENQLLERRRLYHCAAYNCAISVICCVFNELKFYQGFLFSEKPEKNLLIFENLIDLKRRYNFPVEVEVPMERKKKYIEIRKEAREAANGDSDGPSYMSSLSYLADSTLSEEMSQFDFSTGVQSYSYSSQDPRPATGRFRRREQRDPTVHDDVLELEMDELNRHECMAPLTALVKHMHRSLGPPQGEEDSVPRDLPSWMKFLHGKLGNPIVPLNIRLFLAKLVINTEEVFRPYAKHWLSPLLQLAASENNGGEGIHYMVVEIVATILSWTGLATPTGVPKDEVLANRLLNFLMKHVFHPKRAVFRHNLEIIKTLVECWKDCLSIPYRLIFEKFSGKDPNSKDNSVGIQLLGIVMANDLPPYDPQCGIQSSEYFQALVNNMSFVRYKEVYAAAAEVLGLILRYVMERKNILEESLCELVAKQLKQHQNTMEDKFIVCLNKVTKSFPPLADRFMNAVFFLLPKFHGVLKTLCLEVVLCRVEGMTELYFQLKSKDFVQVMRHRDDERQKVCLDIIYKMMPKLKPVELRELLNPVVEFVSHPSTTCREQMYNILMWIHDNYRDPESETDNDSQEIFKLAKDVLIQGLIDENPGLQLIIRNFWSHETRLPSNTLDRLLALNSLYSPKIEVHFLSLATNFLLEMTSMSPDYPNPMFEHPLSECEFQEYTIDSDWRFRSTVLTPMFVETQASQGTLQTRTQEGSLSARWPVAGQIRATQQQHDFTLTQTADGRSSFDWLTGSSTDPLVDHTSPSSDSLLFAHKRSERLQRAPLKSVGPDFGKKRLGLPGDEVDNKVKGAAGRTDLLRLRRRFMRDQEKLSLMYARKGVAEQKREKEIKSELKMKQDAQVVLYRSYRHGDLPDIQIKHSSLITPLQAVAQR'"
      ]
     },
     "execution_count": 36,
     "metadata": {},
     "output_type": "execute_result"
    }
   ],
   "source": [
    "fragment2.to_sequence()"
   ]
  },
  {
   "cell_type": "code",
   "execution_count": 37,
   "metadata": {},
   "outputs": [
    {
     "data": {
      "text/plain": [
       "'NLMKALKMSPYKDILETHLREKITAQSIEELCAVNLYGPDAQVDRSRLAAVVSACKQLHRAGLLHNILPSQSTDLHHSVGTELLSLVYKGIAPGDERQCLPSLDLSCKQLASGLLELAFAFGGLCERLVSLLLNPAVLSTASLGSSQGSVIHFSHGEYFYSLFSETINTELLKNLDLAVLELMQSSVDNTKMVSAVLNGMLDQSFRERANQKHQGLKLATTILQHWKKCDSWWAKDSPLETKMAVLALLAKILQIDSSVSFNTSHGSFPEVFTTYISLLADTKLDLHLKGQAVTLLPFFTSLTGGSLEELRRVLEQLIVAHFPMQSREFPPGTPRFNNYVDCMKKFLDALELSQSPMLLELMTEVLCREQQHVMEELFQSSFRRIARRGSCVTQVGLLESVYEMFRKDDPRLSFTRQSFVDRSLLTLLWHCSLDALREFFSTIVVDAIDVLKSRFTKLNESTFDTQITKKMGYYKILDVMYSRLPKDDVHAKESKINQVFHGSCITEGNELTKTLIKLCYDAFTENMAGENQLLERRRLYHCAAYNCAISVICCVFNELKFYQGFLFSEKPEKNLLIFENLIDLKRRYNFPVEVEVPMERKKKYIEIRKEAREAANGDSDGPSYMSSLSYLADSTLSEEMSQFDFSTGVQSYSYSSQDPRPATGRFRRREQRDPTVHDDVLELEMDELNRHECMAPLTALVKHMHRSLGPPQGEEDSVPRDLPSWMKFLHGKLGNPIVPLNIRLFLAKLVINTEEVFRPYAKHWLSPLLQLAASENNGGEGIHYMVVEIVATILSWTGLATPTGVPKDEVLANRLLNFLMKHVFHPKRAVFRHNLEIIKTLVECWKDCLSIPYRLIFEKFSGKDPNSKDNSVGIQLLGIVMANDLPPYDPQCGIQSSEYFQALVNNMSFVRYKEVYAAAAEVLGLILRYVMERKNILEESLCELVAKQLKQHQNTMEDKFIVCLNKVTKSFPPLADRFMNAVFFLLPKFHGVLKTLCLEVVLCRVEGMTELYFQLKSKDFVQVMRHRDDERQKVCLDIIYKMMPKLKPVELRELLNPVVEFVSHPSTTCREQMYNILMWIHDNYRDPESETDNDSQEIFKLAKDVLIQGLIDENPGLQLIIRNFWSHETRLPSNTLDRLLALNSLYSPKIEVHFLSLATNFLLEMTSMSPDYPNPMFEHPLSECEFQEYTIDSDWRFRSTVLTPMFVETQASQGTLQTRTQEGSLSARWPVAGQIRATQQQHDFTLTQTADGRSSFDWLTGSSTDPLVDHTSPSSDSLLFAHKRSERLQRAPLKSVGPDFGKKRLGLPGDEVDNKVKGAAGRTDLLRLRRRFMRDQEKLSLMYARKGVAEQKREKEIKSELKMKQDAQVVLYRSYRHGDLPDIQIKHSSLITPLQAVAQR'"
      ]
     },
     "execution_count": 37,
     "metadata": {},
     "output_type": "execute_result"
    }
   ],
   "source": [
    "sequence[1400:2800]"
   ]
  },
  {
   "cell_type": "code",
   "execution_count": 38,
   "metadata": {},
   "outputs": [
    {
     "data": {
      "text/plain": [
       "Protein(num_atom=10641, num_bond=21728, num_residue=1328)"
      ]
     },
     "execution_count": 38,
     "metadata": {},
     "output_type": "execute_result"
    }
   ],
   "source": [
    "fragment3 = new_list[14]\n",
    "fragment3"
   ]
  },
  {
   "cell_type": "code",
   "execution_count": 39,
   "metadata": {},
   "outputs": [
    {
     "data": {
      "text/plain": [
       "'DPIIAKQLFSSLFSGILKEMDKFKTLSEKNNITQKLLQDFNRFLNTTFSFFPPFVSCIQDISCQHAALLSLDPAAVSAGCLASLQQPVGIRLLEEALLRLLPAELPAKRVRGKARLPPDVLRWVELAKLYRSIGEYDVLRGIFTSEIGTKQITQSALLAEARSDYSEAAKQYDEALNKQDWVDGEPTEAEKDFWELASLDCYNHLAEWKSLEYCSTASIDSENPPDLNKIWSEPFYQETYLPYMIRSKLKLLLQGEADQSLLTFIDKAMHGELQKAILELHYSQELSLLYLLQDDVDRAKYYIQNGIQSFMQNYSSIDVLLHQSRLTKLQSVQALTEIQEFISFISKQGNLSSQVPLKRLLNTWTNRYPDAKMDPMNIWDDIITNRCFFLSKIEEKLTPLPEDNSMNVDQDGDPSDRMEVQEQEEDISSLIRSCKFSMKMKMIDSARKQNNFSLAMKLLKELHKESKTRDDWLVSWVQSYCRLSHCRSRSQGCSEQVLTVLKTVSLLDENNVSSYLSKNILAFRDQNILLGTTYRIIANALSSEPACLAEIEEDKARRILELSGSSSEDSEKVIAGLYQRAFQHLSEAVQAAEEEAQPPSWSCGPAAGVIDAYMTLADFCDQQLRKEEENASVIDSAELQAYPALVVEKMLKALKLNSNEARLKFPRLLQIIERYPEETLSLMTKEISSVPCWQFISWISHMVALLDKDQAVAVQHSVEEITDNYPQAIVYPFIISSESYSFKDTSTGHKNKEFVARIKSKLDQGGVIQDFINALDQLSNPELLFKDWSNDVRAELAKTPVNKKNIEKMYERMYAALGDPKAPGLGAFRRKFIQTFGKEFDKHFGKGGSKLLRMKLSDFNDITNMLLLKMNKDSKPPGNLKECSPWMSDFKVEFLRNELEIPGQYDGRGKPLPEYHVRIAGFDERVTVMASLRRPKRIIIRGHDEREHPFLVKGGEDLRQDQRVEQLFQVMNGILAQDSACSQRALQLRTYSVVPMTSRLGLIEWLENTVTLKDLLLNTMSQEEKAAYLSDPRAPPCEYKDWLTKMSGKHDVGAYMLMYKGANRTETVTSFRKRESKVPADLLKRAFVRMSTSPEAFLALRSHFASSHALICISHWILGIGDRHLNNFMVAMETGGVIGIDFGHAFGSATQFLPVPELMPFRLTRQFINLMLPMKETGLMYSIMVHALRAFRSDPGLLTNTMDVFVKEPSFDWKNFEQKMLKKGGSWIQEINVAEKNWYPRQKICYAKRKLAGANPAVITCDELLLGHEKAPAFRDYVAVARGSKDHNIRAQEPESGLSEETQVKCLMDQATDPNILGRTWEGWEPWM'"
      ]
     },
     "execution_count": 39,
     "metadata": {},
     "output_type": "execute_result"
    }
   ],
   "source": [
    "fragment3.to_sequence()"
   ]
  },
  {
   "cell_type": "code",
   "execution_count": 40,
   "metadata": {},
   "outputs": [
    {
     "data": {
      "text/plain": [
       "'DPIIAKQLFSSLFSGILKEMDKFKTLSEKNNITQKLLQDFNRFLNTTFSFFPPFVSCIQDISCQHAALLSLDPAAVSAGCLASLQQPVGIRLLEEALLRLLPAELPAKRVRGKARLPPDVLRWVELAKLYRSIGEYDVLRGIFTSEIGTKQITQSALLAEARSDYSEAAKQYDEALNKQDWVDGEPTEAEKDFWELASLDCYNHLAEWKSLEYCSTASIDSENPPDLNKIWSEPFYQETYLPYMIRSKLKLLLQGEADQSLLTFIDKAMHGELQKAILELHYSQELSLLYLLQDDVDRAKYYIQNGIQSFMQNYSSIDVLLHQSRLTKLQSVQALTEIQEFISFISKQGNLSSQVPLKRLLNTWTNRYPDAKMDPMNIWDDIITNRCFFLSKIEEKLTPLPEDNSMNVDQDGDPSDRMEVQEQEEDISSLIRSCKFSMKMKMIDSARKQNNFSLAMKLLKELHKESKTRDDWLVSWVQSYCRLSHCRSRSQGCSEQVLTVLKTVSLLDENNVSSYLSKNILAFRDQNILLGTTYRIIANALSSEPACLAEIEEDKARRILELSGSSSEDSEKVIAGLYQRAFQHLSEAVQAAEEEAQPPSWSCGPAAGVIDAYMTLADFCDQQLRKEEENASVIDSAELQAYPALVVEKMLKALKLNSNEARLKFPRLLQIIERYPEETLSLMTKEISSVPCWQFISWISHMVALLDKDQAVAVQHSVEEITDNYPQAIVYPFIISSESYSFKDTSTGHKNKEFVARIKSKLDQGGVIQDFINALDQLSNPELLFKDWSNDVRAELAKTPVNKKNIEKMYERMYAALGDPKAPGLGAFRRKFIQTFGKEFDKHFGKGGSKLLRMKLSDFNDITNMLLLKMNKDSKPPGNLKECSPWMSDFKVEFLRNELEIPGQYDGRGKPLPEYHVRIAGFDERVTVMASLRRPKRIIIRGHDEREHPFLVKGGEDLRQDQRVEQLFQVMNGILAQDSACSQRALQLRTYSVVPMTSRLGLIEWLENTVTLKDLLLNTMSQEEKAAYLSDPRAPPCEYKDWLTKMSGKHDVGAYMLMYKGANRTETVTSFRKRESKVPADLLKRAFVRMSTSPEAFLALRSHFASSHALICISHWILGIGDRHLNNFMVAMETGGVIGIDFGHAFGSATQFLPVPELMPFRLTRQFINLMLPMKETGLMYSIMVHALRAFRSDPGLLTNTMDVFVKEPSFDWKNFEQKMLKKGGSWIQEINVAEKNWYPRQKICYAKRKLAGANPAVITCDELLLGHEKAPAFRDYVAVARGSKDHNIRAQEPESGLSEETQVKCLMDQATDPNILGRTWEGWEPWM'"
      ]
     },
     "execution_count": 40,
     "metadata": {},
     "output_type": "execute_result"
    }
   ],
   "source": [
    "sequence[2800:]"
   ]
  }
 ],
 "metadata": {
  "kernelspec": {
   "display_name": "Python 3.8.13 ('torchdrug')",
   "language": "python",
   "name": "python3"
  },
  "language_info": {
   "codemirror_mode": {
    "name": "ipython",
    "version": 3
   },
   "file_extension": ".py",
   "mimetype": "text/x-python",
   "name": "python",
   "nbconvert_exporter": "python",
   "pygments_lexer": "ipython3",
   "version": "3.8.16"
  },
  "orig_nbformat": 4,
  "vscode": {
   "interpreter": {
    "hash": "cb15710f8c0deeed06839ee1c6afab27549449016d814ee789699df3eb9a6173"
   }
  }
 },
 "nbformat": 4,
 "nbformat_minor": 2
}

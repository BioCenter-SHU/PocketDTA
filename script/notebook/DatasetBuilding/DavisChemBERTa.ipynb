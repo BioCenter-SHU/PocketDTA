{
 "cells": [
  {
   "attachments": {},
   "cell_type": "markdown",
   "metadata": {
    "pycharm": {
     "name": "#%% md\n"
    }
   },
   "source": [
    "# 3D Graph for Mol"
   ]
  },
  {
   "attachments": {},
   "cell_type": "markdown",
   "metadata": {
    "pycharm": {
     "name": "#%% md\n"
    }
   },
   "source": [
    "Only use the distance to build different edge. Like the \n",
    "- single bond: 1.54A\n",
    "- aromatic bond: 1.40A\n",
    "- double bond: 1.34A\n",
    "- triple bond is: 1.20A"
   ]
  },
  {
   "cell_type": "code",
   "execution_count": 1,
   "metadata": {
    "pycharm": {
     "name": "#%%\n"
    }
   },
   "outputs": [],
   "source": [
    "import pickle\n",
    "from tqdm import tqdm\n",
    "from torchdrug import utils, data, layers"
   ]
  },
  {
   "cell_type": "code",
   "execution_count": 2,
   "metadata": {
    "pycharm": {
     "name": "#%%\n"
    }
   },
   "outputs": [],
   "source": [
    "mol_pkl = '../../../data/dta-datasets/Davis/3d_Molecule.pkl'\n",
    "with utils.smart_open(mol_pkl, \"rb\") as fin:\n",
    "    mol_list = pickle.load(fin)"
   ]
  },
  {
   "cell_type": "code",
   "execution_count": 3,
   "metadata": {
    "pycharm": {
     "name": "#%%\n"
    }
   },
   "outputs": [
    {
     "data": {
      "text/plain": [
       "[Molecule(num_atom=27, num_bond=60),\n",
       " Molecule(num_atom=40, num_bond=90),\n",
       " Molecule(num_atom=38, num_bond=82),\n",
       " Molecule(num_atom=25, num_bond=54),\n",
       " Molecule(num_atom=34, num_bond=74),\n",
       " Molecule(num_atom=28, num_bond=62),\n",
       " Molecule(num_atom=28, num_bond=62),\n",
       " Molecule(num_atom=38, num_bond=84),\n",
       " Molecule(num_atom=20, num_bond=42),\n",
       " Molecule(num_atom=37, num_bond=80),\n",
       " Molecule(num_atom=36, num_bond=78),\n",
       " Molecule(num_atom=27, num_bond=60),\n",
       " Molecule(num_atom=37, num_bond=82),\n",
       " Molecule(num_atom=25, num_bond=54),\n",
       " Molecule(num_atom=34, num_bond=74),\n",
       " Molecule(num_atom=33, num_bond=74),\n",
       " Molecule(num_atom=30, num_bond=66),\n",
       " Molecule(num_atom=33, num_bond=72),\n",
       " Molecule(num_atom=39, num_bond=86),\n",
       " Molecule(num_atom=36, num_bond=76),\n",
       " Molecule(num_atom=39, num_bond=90),\n",
       " Molecule(num_atom=29, num_bond=62),\n",
       " Molecule(num_atom=46, num_bond=102),\n",
       " Molecule(num_atom=25, num_bond=56),\n",
       " Molecule(num_atom=31, num_bond=68),\n",
       " Molecule(num_atom=27, num_bond=58),\n",
       " Molecule(num_atom=31, num_bond=68),\n",
       " Molecule(num_atom=37, num_bond=82),\n",
       " Molecule(num_atom=19, num_bond=42),\n",
       " Molecule(num_atom=25, num_bond=56),\n",
       " Molecule(num_atom=40, num_bond=88),\n",
       " Molecule(num_atom=33, num_bond=80),\n",
       " Molecule(num_atom=28, num_bond=62),\n",
       " Molecule(num_atom=26, num_bond=58),\n",
       " Molecule(num_atom=34, num_bond=76),\n",
       " Molecule(num_atom=36, num_bond=80),\n",
       " Molecule(num_atom=43, num_bond=102),\n",
       " Molecule(num_atom=28, num_bond=62),\n",
       " Molecule(num_atom=40, num_bond=86),\n",
       " Molecule(num_atom=39, num_bond=86),\n",
       " Molecule(num_atom=29, num_bond=64),\n",
       " Molecule(num_atom=43, num_bond=96),\n",
       " Molecule(num_atom=26, num_bond=60),\n",
       " Molecule(num_atom=27, num_bond=58),\n",
       " Molecule(num_atom=23, num_bond=52),\n",
       " Molecule(num_atom=31, num_bond=68),\n",
       " Molecule(num_atom=35, num_bond=80),\n",
       " Molecule(num_atom=44, num_bond=94),\n",
       " Molecule(num_atom=35, num_bond=80),\n",
       " Molecule(num_atom=28, num_bond=60),\n",
       " Molecule(num_atom=27, num_bond=60),\n",
       " Molecule(num_atom=26, num_bond=60),\n",
       " Molecule(num_atom=25, num_bond=54),\n",
       " Molecule(num_atom=32, num_bond=70),\n",
       " Molecule(num_atom=27, num_bond=58),\n",
       " Molecule(num_atom=32, num_bond=68),\n",
       " Molecule(num_atom=35, num_bond=84),\n",
       " Molecule(num_atom=29, num_bond=62),\n",
       " Molecule(num_atom=42, num_bond=92),\n",
       " Molecule(num_atom=26, num_bond=58),\n",
       " Molecule(num_atom=37, num_bond=80),\n",
       " Molecule(num_atom=41, num_bond=90),\n",
       " Molecule(num_atom=23, num_bond=50),\n",
       " Molecule(num_atom=33, num_bond=74),\n",
       " Molecule(num_atom=28, num_bond=62),\n",
       " Molecule(num_atom=30, num_bond=66),\n",
       " Molecule(num_atom=40, num_bond=88),\n",
       " Molecule(num_atom=25, num_bond=56)]"
      ]
     },
     "execution_count": 3,
     "metadata": {},
     "output_type": "execute_result"
    }
   ],
   "source": [
    "mol_list"
   ]
  },
  {
   "cell_type": "code",
   "execution_count": null,
   "metadata": {
    "pycharm": {
     "name": "#%%\n"
    }
   },
   "outputs": [],
   "source": [
    "graph_construction_model = layers.GraphConstruction(node_layers=[layers.geometry.IdentityNode()], \n",
    "                                                    edge_layers=[layers.geometry.SpatialEdge(radius=3.0, min_distance=1.6, mode_type = \"molecule\"), # hydeogen/ionic  bond\n",
    "                                                                 layers.geometry.SpatialEdge(radius=1.6, min_distance=1.4, mode_type = \"molecule\"), # single bond\n",
    "                                                                 layers.geometry.SpatialEdge(radius=1.4, min_distance=1.3, mode_type = \"molecule\"), # aromatic bond\n",
    "                                                                 layers.geometry.SpatialEdge(radius=1.3, min_distance=1.0, mode_type = \"molecule\"), # double bond\n",
    "                                                                 ],\n",
    "                                                    edge_feature=\"molecule\")"
   ]
  },
  {
   "attachments": {},
   "cell_type": "markdown",
   "metadata": {
    "pycharm": {
     "name": "#%% md\n"
    }
   },
   "source": [
    "#### Single demo"
   ]
  },
  {
   "cell_type": "code",
   "execution_count": 5,
   "metadata": {
    "pycharm": {
     "name": "#%%\n"
    }
   },
   "outputs": [
    {
     "data": {
      "text/plain": [
       "Molecule(num_atom=25, num_bond=54)"
      ]
     },
     "execution_count": 5,
     "metadata": {},
     "output_type": "execute_result"
    }
   ],
   "source": [
    "mol = mol_list[3]\n",
    "mol"
   ]
  },
  {
   "cell_type": "code",
   "execution_count": 6,
   "metadata": {
    "pycharm": {
     "name": "#%%\n"
    }
   },
   "outputs": [
    {
     "data": {
      "text/plain": [
       "tensor([[0, 0, 0, 0, 0, 0, 0, 0, 0, 0, 0, 0, 0, 0, 1, 1, 0, 0, 3, 3, 3, 3, 3, 3,\n",
       "         3, 3, 0, 0, 0, 0, 1, 1, 0, 0, 3, 3, 3, 3, 3, 3, 3, 3, 3, 3, 0, 0, 0, 0,\n",
       "         0, 0, 3, 3, 3, 3]])"
      ]
     },
     "execution_count": 6,
     "metadata": {},
     "output_type": "execute_result"
    }
   ],
   "source": [
    "mol.edge_list.t()[2:3]  # the bond {0: single, 1:double, 2:triple, 3:aromatic}"
   ]
  },
  {
   "cell_type": "code",
   "execution_count": 8,
   "metadata": {
    "pycharm": {
     "name": "#%%\n"
    }
   },
   "outputs": [
    {
     "data": {
      "image/png": "[encoded data removed]",
      "text/plain": [
       "<rdkit.Chem.rdchem.RWMol at 0x7f77235e2c20>"
      ]
     },
     "execution_count": 8,
     "metadata": {},
     "output_type": "execute_result"
    }
   ],
   "source": [
    "mol.to_molecule()"
   ]
  },
  {
   "cell_type": "code",
   "execution_count": 7,
   "metadata": {
    "pycharm": {
     "name": "#%%\n"
    }
   },
   "outputs": [
    {
     "data": {
      "text/plain": [
       "tensor([[ 4.0136,  1.0087,  0.9047],\n",
       "        [ 5.3054,  0.1870,  0.8937],\n",
       "        [ 5.9950,  0.6293, -0.3070],\n",
       "        [ 5.3077,  0.0337, -1.4300],\n",
       "        [ 3.8609,  0.3619, -1.5138],\n",
       "        [ 3.1434,  0.5905, -0.2395],\n",
       "        [ 2.2719, -0.5222,  0.0542],\n",
       "        [ 0.8542, -0.4633,  0.1075],\n",
       "        [ 0.3691,  0.6440, -0.1212],\n",
       "        [ 0.0099, -1.6004,  0.4055],\n",
       "        [-1.3642, -1.6842,  0.4895],\n",
       "        [-1.6237, -2.9974,  0.7988],\n",
       "        [-0.4442, -3.6952,  0.9007],\n",
       "        [ 0.5315, -2.8422,  0.6616],\n",
       "        [-2.2117, -0.5636,  0.2769],\n",
       "        [-3.6218, -0.6875,  0.3688],\n",
       "        [-4.0784, -1.8616,  0.6656],\n",
       "        [-4.6187,  0.3141,  0.1815],\n",
       "        [-4.4509,  1.5026, -0.4555],\n",
       "        [-5.4953,  2.4509, -0.5408],\n",
       "        [-6.7045,  2.2041,  0.0113],\n",
       "        [-6.9124,  1.0184,  0.6596],\n",
       "        [-5.8950,  0.1095,  0.7363],\n",
       "        [-6.2156, -1.3913,  1.5815],\n",
       "        [-2.9453,  1.8908, -1.2419]])"
      ]
     },
     "execution_count": 7,
     "metadata": {},
     "output_type": "execute_result"
    }
   ],
   "source": [
    "mol.node_position"
   ]
  },
  {
   "cell_type": "code",
   "execution_count": 11,
   "metadata": {
    "pycharm": {
     "name": "#%%\n"
    }
   },
   "outputs": [
    {
     "data": {
      "text/plain": [
       "torch.Size([54, 18])"
      ]
     },
     "execution_count": 11,
     "metadata": {},
     "output_type": "execute_result"
    }
   ],
   "source": [
    "mol.bond_feature.shape"
   ]
  },
  {
   "cell_type": "code",
   "execution_count": 9,
   "metadata": {
    "pycharm": {
     "name": "#%%\n"
    }
   },
   "outputs": [
    {
     "data": {
      "text/plain": [
       "tensor([1.5310, 1.5310, 1.4535, 1.4535, 1.4450, 1.4450, 1.4860, 1.4860, 1.4802,\n",
       "        1.4802, 1.4435, 1.4435, 1.4199, 1.4199, 1.2304, 1.2304, 1.4473, 1.4473,\n",
       "        1.3791, 1.3791, 1.3739, 1.3739, 1.3743, 1.3743, 1.3179, 1.3179, 1.4210,\n",
       "        1.4210, 1.4186, 1.4186, 1.2942, 1.2942, 1.4255, 1.4255, 1.3588, 1.3588,\n",
       "        1.4133, 1.4133, 1.3520, 1.3520, 1.3672, 1.3672, 1.3664, 1.3664, 1.7520,\n",
       "        1.7520, 1.7424, 1.7424, 1.4971, 1.4971, 1.3711, 1.3711, 1.4066, 1.4066])"
      ]
     },
     "execution_count": 9,
     "metadata": {},
     "output_type": "execute_result"
    }
   ],
   "source": [
    "node_in, node_out = mol.edge_list.t()[:2]\n",
    "(mol.node_position[node_in] - mol.node_position[node_out]).norm(dim=-1)"
   ]
  },
  {
   "cell_type": "code",
   "execution_count": 13,
   "metadata": {
    "pycharm": {
     "name": "#%%\n"
    }
   },
   "outputs": [],
   "source": [
    "smile = 'C1CNCCC1NC(=O)C2=C(C=NN2)NC(=O)C3=C(C=CC=C3Cl)Cl'"
   ]
  },
  {
   "cell_type": "code",
   "execution_count": 14,
   "metadata": {
    "pycharm": {
     "name": "#%%\n"
    }
   },
   "outputs": [
    {
     "data": {
      "text/plain": [
       "Molecule(num_atom=25, num_bond=54)"
      ]
     },
     "execution_count": 14,
     "metadata": {},
     "output_type": "execute_result"
    }
   ],
   "source": [
    "mol2 = data.Molecule.from_smiles(smile)\n",
    "mol2"
   ]
  },
  {
   "cell_type": "code",
   "execution_count": 15,
   "metadata": {
    "pycharm": {
     "name": "#%%\n"
    }
   },
   "outputs": [
    {
     "data": {
      "text/plain": [
       "tensor([ 6,  6,  7,  6,  6,  6,  7,  6,  8,  6,  6,  6,  7,  7,  7,  6,  8,  6,\n",
       "         6,  6,  6,  6,  6, 17, 17])"
      ]
     },
     "execution_count": 15,
     "metadata": {},
     "output_type": "execute_result"
    }
   ],
   "source": [
    "mol2.atom_type"
   ]
  },
  {
   "cell_type": "code",
   "execution_count": 16,
   "metadata": {
    "pycharm": {
     "name": "#%%\n"
    }
   },
   "outputs": [],
   "source": [
    "node_in, node_out, _ = mol2.edge_list.t()"
   ]
  },
  {
   "cell_type": "code",
   "execution_count": 17,
   "metadata": {
    "pycharm": {
     "name": "#%%\n"
    }
   },
   "outputs": [],
   "source": [
    "in_atom_type, out_atom_type = mol2.atom_type[node_in], mol2.atom_type[node_out]"
   ]
  },
  {
   "cell_type": "code",
   "execution_count": 18,
   "metadata": {
    "pycharm": {
     "name": "#%%\n"
    }
   },
   "outputs": [
    {
     "data": {
      "text/plain": [
       "tensor([ 6,  6,  6,  7,  7,  6,  6,  6,  6,  6,  6,  7,  7,  6,  6,  8,  6,  6,\n",
       "         6,  6,  6,  6,  6,  7,  7,  7,  6,  7,  7,  6,  6,  8,  6,  6,  6,  6,\n",
       "         6,  6,  6,  6,  6,  6,  6,  6,  6, 17,  6, 17,  6,  6,  7,  6,  6,  6])"
      ]
     },
     "execution_count": 18,
     "metadata": {},
     "output_type": "execute_result"
    }
   ],
   "source": [
    "in_atom_type"
   ]
  },
  {
   "cell_type": "code",
   "execution_count": null,
   "metadata": {
    "pycharm": {
     "name": "#%%\n"
    }
   },
   "outputs": [],
   "source": [
    "graph = data.Molecule.pack([mol])\n",
    "transGraph = graph_construction_model(graph)\n",
    "transGraph"
   ]
  },
  {
   "cell_type": "code",
   "execution_count": 11,
   "metadata": {
    "pycharm": {
     "name": "#%%\n"
    }
   },
   "outputs": [
    {
     "data": {
      "text/plain": [
       "{'H': 0,\n",
       " 'B': 1,\n",
       " 'C': 2,\n",
       " 'N': 3,\n",
       " 'O': 4,\n",
       " 'F': 5,\n",
       " 'Mg': 6,\n",
       " 'Si': 7,\n",
       " 'P': 8,\n",
       " 'S': 9,\n",
       " 'Cl': 10,\n",
       " 'Cu': 11,\n",
       " 'Zn': 12,\n",
       " 'Se': 13,\n",
       " 'Br': 14,\n",
       " 'Sn': 15,\n",
       " 'I': 16}"
      ]
     },
     "execution_count": 11,
     "metadata": {},
     "output_type": "execute_result"
    }
   ],
   "source": [
    "data.feature.atom_vocab"
   ]
  },
  {
   "cell_type": "code",
   "execution_count": 13,
   "metadata": {
    "pycharm": {
     "name": "#%%\n"
    }
   },
   "outputs": [
    {
     "data": {
      "text/plain": [
       "'O=C(NC1CCNCC1)c1[nH]ncc1NC(=O)c1c(Cl)cccc1Cl'"
      ]
     },
     "execution_count": 13,
     "metadata": {},
     "output_type": "execute_result"
    }
   ],
   "source": [
    "mol.to_smiles()"
   ]
  },
  {
   "cell_type": "code",
   "execution_count": 12,
   "metadata": {
    "pycharm": {
     "name": "#%%\n"
    }
   },
   "outputs": [
    {
     "data": {
      "text/plain": [
       "tensor([ 6,  6,  7,  6,  6,  6,  7,  6,  8,  6,  6,  6,  7,  7,  7,  6,  8,  6,\n",
       "         6,  6,  6,  6,  6, 17, 17])"
      ]
     },
     "execution_count": 12,
     "metadata": {},
     "output_type": "execute_result"
    }
   ],
   "source": [
    "graph.atom_type"
   ]
  },
  {
   "cell_type": "code",
   "execution_count": 26,
   "metadata": {
    "pycharm": {
     "name": "#%%\n"
    }
   },
   "outputs": [
    {
     "data": {
      "text/plain": [
       "tensor([[ 2,  0,  0],\n",
       "        [ 9,  0,  0],\n",
       "        [ 3,  1,  0],\n",
       "        [ 8,  1,  0],\n",
       "        [ 7,  1,  0],\n",
       "        [ 0,  2,  0],\n",
       "        [ 9,  2,  0],\n",
       "        [ 8,  2,  0],\n",
       "        [ 6,  2,  0],\n",
       "        [ 5,  2,  0],\n",
       "        [ 4,  2,  0],\n",
       "        [ 1,  3,  0],\n",
       "        [ 6,  3,  0],\n",
       "        [ 7,  3,  0],\n",
       "        [ 5,  3,  0],\n",
       "        [10,  3,  0],\n",
       "        [15,  3,  0],\n",
       "        [11,  4,  0],\n",
       "        [15,  4,  0],\n",
       "        [ 2,  4,  0],\n",
       "        [ 6,  4,  0],\n",
       "        [ 7,  4,  0],\n",
       "        [10,  5,  0],\n",
       "        [11,  5,  0],\n",
       "        [ 2,  5,  0],\n",
       "        [ 3,  5,  0],\n",
       "        [ 7,  5,  0],\n",
       "        [ 2,  6,  0],\n",
       "        [ 3,  6,  0],\n",
       "        [ 8,  6,  0],\n",
       "        [ 4,  6,  0],\n",
       "        [ 1,  7,  0],\n",
       "        [ 3,  7,  0],\n",
       "        [ 9,  7,  0],\n",
       "        [ 5,  7,  0],\n",
       "        [ 4,  7,  0],\n",
       "        [ 1,  8,  0],\n",
       "        [ 2,  8,  0],\n",
       "        [ 6,  8,  0],\n",
       "        [ 0,  9,  0],\n",
       "        [ 2,  9,  0],\n",
       "        [ 7,  9,  0],\n",
       "        [ 5, 10,  0],\n",
       "        [12, 10,  0],\n",
       "        [13, 10,  0],\n",
       "        [14, 10,  0],\n",
       "        [ 3, 10,  0],\n",
       "        [ 5, 11,  0],\n",
       "        [ 4, 11,  0],\n",
       "        [13, 11,  0],\n",
       "        [14, 11,  0],\n",
       "        [15, 11,  0],\n",
       "        [16, 11,  0],\n",
       "        [17, 11,  0],\n",
       "        [10, 12,  0],\n",
       "        [14, 12,  0],\n",
       "        [15, 12,  0],\n",
       "        [17, 12,  0],\n",
       "        [10, 13,  0],\n",
       "        [11, 13,  0],\n",
       "        [15, 13,  0],\n",
       "        [16, 13,  0],\n",
       "        [10, 14,  0],\n",
       "        [11, 14,  0],\n",
       "        [12, 14,  0],\n",
       "        [ 4, 15,  0],\n",
       "        [11, 15,  0],\n",
       "        [12, 15,  0],\n",
       "        [13, 15,  0],\n",
       "        [ 3, 15,  0],\n",
       "        [18, 16,  0],\n",
       "        [19, 16,  0],\n",
       "        [26, 16,  0],\n",
       "        [11, 16,  0],\n",
       "        [13, 16,  0],\n",
       "        [19, 17,  0],\n",
       "        [26, 17,  0],\n",
       "        [11, 17,  0],\n",
       "        [12, 17,  0],\n",
       "        [16, 18,  0],\n",
       "        [20, 18,  0],\n",
       "        [16, 19,  0],\n",
       "        [17, 19,  0],\n",
       "        [26, 19,  0],\n",
       "        [21, 19,  0],\n",
       "        [25, 19,  0],\n",
       "        [22, 20,  0],\n",
       "        [23, 20,  0],\n",
       "        [24, 20,  0],\n",
       "        [18, 20,  0],\n",
       "        [23, 21,  0],\n",
       "        [24, 21,  0],\n",
       "        [25, 21,  0],\n",
       "        [19, 21,  0],\n",
       "        [24, 22,  0],\n",
       "        [25, 22,  0],\n",
       "        [20, 22,  0],\n",
       "        [21, 23,  0],\n",
       "        [25, 23,  0],\n",
       "        [20, 23,  0],\n",
       "        [21, 24,  0],\n",
       "        [22, 24,  0],\n",
       "        [20, 24,  0],\n",
       "        [21, 25,  0],\n",
       "        [22, 25,  0],\n",
       "        [23, 25,  0],\n",
       "        [19, 25,  0],\n",
       "        [16, 26,  0],\n",
       "        [17, 26,  0],\n",
       "        [19, 26,  0],\n",
       "        [ 1,  0,  1],\n",
       "        [ 0,  1,  1],\n",
       "        [10,  4,  1],\n",
       "        [ 6,  5,  1],\n",
       "        [ 5,  6,  1],\n",
       "        [ 4, 10,  1],\n",
       "        [17, 16,  1],\n",
       "        [16, 17,  1],\n",
       "        [18, 17,  1],\n",
       "        [17, 18,  1],\n",
       "        [19, 18,  1],\n",
       "        [26, 18,  1],\n",
       "        [18, 19,  1],\n",
       "        [20, 19,  1],\n",
       "        [19, 20,  1],\n",
       "        [18, 26,  1],\n",
       "        [ 2,  1,  2],\n",
       "        [ 9,  1,  2],\n",
       "        [ 1,  2,  2],\n",
       "        [ 3,  2,  2],\n",
       "        [ 7,  2,  2],\n",
       "        [ 2,  3,  2],\n",
       "        [ 4,  3,  2],\n",
       "        [ 5,  4,  2],\n",
       "        [ 3,  4,  2],\n",
       "        [ 4,  5,  2],\n",
       "        [ 7,  6,  2],\n",
       "        [ 2,  7,  2],\n",
       "        [ 8,  7,  2],\n",
       "        [ 6,  7,  2],\n",
       "        [ 9,  8,  2],\n",
       "        [ 7,  8,  2],\n",
       "        [ 1,  9,  2],\n",
       "        [ 8,  9,  2],\n",
       "        [11, 10,  2],\n",
       "        [15, 10,  2],\n",
       "        [10, 11,  2],\n",
       "        [12, 11,  2],\n",
       "        [11, 12,  2],\n",
       "        [13, 12,  2],\n",
       "        [16, 12,  2],\n",
       "        [12, 13,  2],\n",
       "        [14, 13,  2],\n",
       "        [13, 14,  2],\n",
       "        [15, 14,  2],\n",
       "        [10, 15,  2],\n",
       "        [14, 15,  2],\n",
       "        [12, 16,  2],\n",
       "        [21, 20,  2],\n",
       "        [25, 20,  2],\n",
       "        [22, 21,  2],\n",
       "        [20, 21,  2],\n",
       "        [21, 22,  2],\n",
       "        [23, 22,  2],\n",
       "        [22, 23,  2],\n",
       "        [24, 23,  2],\n",
       "        [23, 24,  2],\n",
       "        [25, 24,  2],\n",
       "        [24, 25,  2],\n",
       "        [20, 25,  2]])"
      ]
     },
     "execution_count": 26,
     "metadata": {},
     "output_type": "execute_result"
    }
   ],
   "source": [
    "transGraph.edge_list"
   ]
  },
  {
   "attachments": {},
   "cell_type": "markdown",
   "metadata": {
    "pycharm": {
     "name": "#%% md\n"
    }
   },
   "source": [
    "#### Batch Mol processing"
   ]
  },
  {
   "cell_type": "code",
   "execution_count": 6,
   "metadata": {
    "pycharm": {
     "name": "#%%\n"
    }
   },
   "outputs": [
    {
     "name": "stderr",
     "output_type": "stream",
     "text": [
      "Graph Computing ......: 100%|██████████| 2111/2111 [00:11<00:00, 184.16it/s]\n"
     ]
    }
   ],
   "source": [
    "transgraph_list = []\n",
    "indexes = range(len(mol_list))  \n",
    "indexes = tqdm(indexes, \"Graph Computing ......\")\n",
    "for index in indexes:\n",
    "    mol = mol_list[index]\n",
    "    graph = data.Molecule.pack([mol])\n",
    "    transGraph = graph_construction_model(graph)\n",
    "    new_mol = transGraph.unpack()[0]\n",
    "    # new_mol.mol_feature = mol_list[index].mol_feature\n",
    "    transgraph_list.append(new_mol)\n",
    "    # print(mol_list[index].mol_feature)"
   ]
  },
  {
   "cell_type": "code",
   "execution_count": 7,
   "metadata": {
    "pycharm": {
     "name": "#%%\n"
    }
   },
   "outputs": [
    {
     "data": {
      "text/plain": [
       "Molecule(num_atom=21, num_bond=136)"
      ]
     },
     "execution_count": 7,
     "metadata": {},
     "output_type": "execute_result"
    }
   ],
   "source": [
    "new_mol = transgraph_list[0]\n",
    "new_mol"
   ]
  },
  {
   "cell_type": "code",
   "execution_count": 8,
   "metadata": {
    "pycharm": {
     "name": "#%%\n"
    }
   },
   "outputs": [
    {
     "data": {
      "text/plain": [
       "tensor([[ 5.2500,  0.6980,  0.7176],\n",
       "        [ 4.0285,  1.2344,  1.1843],\n",
       "        [ 2.7934,  0.8227,  0.7129],\n",
       "        [ 1.6817,  1.4146,  1.2403],\n",
       "        [ 0.4128,  1.0422,  0.8064],\n",
       "        [ 0.2778,  0.0737, -0.1629],\n",
       "        [ 1.4328, -0.5172, -0.6851],\n",
       "        [ 2.6603, -0.1465, -0.2523],\n",
       "        [ 1.3717, -1.5590, -1.7365],\n",
       "        [ 0.0293, -2.1379, -1.9179],\n",
       "        [-1.0325, -1.4326, -1.3400],\n",
       "        [-1.0167, -0.4156, -0.5317],\n",
       "        [-2.3071,  0.0624, -0.1071],\n",
       "        [-2.6412,  1.1931,  0.5629],\n",
       "        [-3.9051,  1.4906,  1.0618],\n",
       "        [-4.9426,  0.6134,  0.8921],\n",
       "        [-4.6468, -0.5515,  0.2094],\n",
       "        [-3.4088, -0.8281, -0.2693],\n",
       "        [-6.5624,  0.8821,  1.4737],\n",
       "        [-4.2078,  2.9891,  1.9188],\n",
       "        [ 1.7586,  2.6582,  2.4731]])"
      ]
     },
     "execution_count": 8,
     "metadata": {},
     "output_type": "execute_result"
    }
   ],
   "source": [
    "new_mol.node_position"
   ]
  },
  {
   "cell_type": "code",
   "execution_count": 9,
   "metadata": {
    "pycharm": {
     "name": "#%%\n"
    }
   },
   "outputs": [
    {
     "data": {
      "text/plain": [
       "tensor([[2.4598],\n",
       "        [2.8915],\n",
       "        [2.4172],\n",
       "        [2.9733],\n",
       "        [2.3544],\n",
       "        [2.4598],\n",
       "        [2.7455],\n",
       "        [2.3666],\n",
       "        [2.7670],\n",
       "        [2.3925],\n",
       "        [1.7528],\n",
       "        [2.7388],\n",
       "        [2.3954],\n",
       "        [2.3544],\n",
       "        [2.3712],\n",
       "        [2.6834],\n",
       "        [2.3867],\n",
       "        [2.3925],\n",
       "        [2.7541],\n",
       "        [2.4412],\n",
       "        [2.8342],\n",
       "        [2.5177],\n",
       "        [2.3954],\n",
       "        [2.7670],\n",
       "        [2.3943],\n",
       "        [2.5855],\n",
       "        [2.3176],\n",
       "        [2.4731],\n",
       "        [2.3867],\n",
       "        [2.7388],\n",
       "        [2.3666],\n",
       "        [2.4564],\n",
       "        [2.7101],\n",
       "        [2.4172],\n",
       "        [2.8915],\n",
       "        [2.4205],\n",
       "        [2.3943],\n",
       "        [2.7541],\n",
       "        [2.3712],\n",
       "        [2.5177],\n",
       "        [2.4205],\n",
       "        [2.9092],\n",
       "        [2.4399],\n",
       "        [2.4731],\n",
       "        [2.8342],\n",
       "        [2.4459],\n",
       "        [2.6755],\n",
       "        [2.3194],\n",
       "        [2.4399],\n",
       "        [2.7101],\n",
       "        [2.3176],\n",
       "        [2.4415],\n",
       "        [2.5348],\n",
       "        [2.4459],\n",
       "        [2.9092],\n",
       "        [2.4564],\n",
       "        [2.4412],\n",
       "        [2.4396],\n",
       "        [2.8719],\n",
       "        [2.4412],\n",
       "        [2.3194],\n",
       "        [2.5855],\n",
       "        [2.7419],\n",
       "        [2.3167],\n",
       "        [2.6816],\n",
       "        [2.3960],\n",
       "        [2.5348],\n",
       "        [1.7526],\n",
       "        [2.7570],\n",
       "        [2.7193],\n",
       "        [2.3338],\n",
       "        [2.4412],\n",
       "        [2.6903],\n",
       "        [1.7419],\n",
       "        [2.4040],\n",
       "        [2.3960],\n",
       "        [2.8719],\n",
       "        [2.7061],\n",
       "        [2.3338],\n",
       "        [2.6816],\n",
       "        [2.4396],\n",
       "        [2.4040],\n",
       "        [2.7193],\n",
       "        [2.3167],\n",
       "        [2.4415],\n",
       "        [2.6755],\n",
       "        [2.7061],\n",
       "        [1.7419],\n",
       "        [2.7570],\n",
       "        [2.6903],\n",
       "        [1.7526],\n",
       "        [2.7419],\n",
       "        [2.6834],\n",
       "        [1.7528],\n",
       "        [2.7455],\n",
       "        [2.9733],\n",
       "        [1.4134],\n",
       "        [1.4134],\n",
       "        [1.4322],\n",
       "        [1.4815],\n",
       "        [1.4731],\n",
       "        [1.4815],\n",
       "        [1.4731],\n",
       "        [1.4400],\n",
       "        [1.4322],\n",
       "        [1.4259],\n",
       "        [1.4400],\n",
       "        [1.4259],\n",
       "        [1.3846],\n",
       "        [1.3846],\n",
       "        [1.3743],\n",
       "        [1.3654],\n",
       "        [1.3918],\n",
       "        [1.3654],\n",
       "        [1.3769],\n",
       "        [1.3918],\n",
       "        [1.3985],\n",
       "        [1.3769],\n",
       "        [1.3985],\n",
       "        [1.3533],\n",
       "        [1.3743],\n",
       "        [1.3533],\n",
       "        [1.3996],\n",
       "        [1.3996],\n",
       "        [1.3561],\n",
       "        [1.3910],\n",
       "        [1.3561],\n",
       "        [1.3691],\n",
       "        [1.3910],\n",
       "        [1.3822],\n",
       "        [1.3691],\n",
       "        [1.3559],\n",
       "        [1.3822],\n",
       "        [1.3559],\n",
       "        [1.2992],\n",
       "        [1.2992]])"
      ]
     },
     "execution_count": 9,
     "metadata": {},
     "output_type": "execute_result"
    }
   ],
   "source": [
    "new_mol.edge_feature"
   ]
  },
  {
   "cell_type": "code",
   "execution_count": 10,
   "metadata": {
    "pycharm": {
     "name": "#%%\n"
    }
   },
   "outputs": [
    {
     "data": {
      "text/plain": [
       "torch.Size([21, 67])"
      ]
     },
     "execution_count": 10,
     "metadata": {},
     "output_type": "execute_result"
    }
   ],
   "source": [
    "new_mol.node_feature.shape"
   ]
  },
  {
   "cell_type": "code",
   "execution_count": 11,
   "metadata": {
    "pycharm": {
     "name": "#%%\n"
    }
   },
   "outputs": [
    {
     "data": {
      "text/plain": [
       "tensor([[ 2,  0,  0],\n",
       "        [ 7,  0,  0],\n",
       "        [ 7,  1,  0],\n",
       "        [20,  1,  0],\n",
       "        [ 3,  1,  0],\n",
       "        [ 0,  2,  0],\n",
       "        [20,  2,  0],\n",
       "        [ 6,  2,  0],\n",
       "        [ 5,  2,  0],\n",
       "        [ 4,  2,  0],\n",
       "        [20,  3,  0],\n",
       "        [ 6,  3,  0],\n",
       "        [ 5,  3,  0],\n",
       "        [ 1,  3,  0],\n",
       "        [ 7,  3,  0],\n",
       "        [20,  4,  0],\n",
       "        [ 6,  4,  0],\n",
       "        [ 2,  4,  0],\n",
       "        [ 7,  4,  0],\n",
       "        [11,  4,  0],\n",
       "        [ 9,  5,  0],\n",
       "        [ 8,  5,  0],\n",
       "        [ 3,  5,  0],\n",
       "        [ 2,  5,  0],\n",
       "        [ 7,  5,  0],\n",
       "        [12,  5,  0],\n",
       "        [10,  5,  0],\n",
       "        [ 9,  6,  0],\n",
       "        [ 4,  6,  0],\n",
       "        [ 3,  6,  0],\n",
       "        [ 2,  6,  0],\n",
       "        [11,  6,  0],\n",
       "        [10,  6,  0],\n",
       "        [ 1,  7,  0],\n",
       "        [ 0,  7,  0],\n",
       "        [ 8,  7,  0],\n",
       "        [ 5,  7,  0],\n",
       "        [ 4,  7,  0],\n",
       "        [ 3,  7,  0],\n",
       "        [ 5,  8,  0],\n",
       "        [ 7,  8,  0],\n",
       "        [11,  8,  0],\n",
       "        [10,  8,  0],\n",
       "        [ 6,  9,  0],\n",
       "        [ 5,  9,  0],\n",
       "        [11,  9,  0],\n",
       "        [17, 10,  0],\n",
       "        [12, 10,  0],\n",
       "        [ 8, 10,  0],\n",
       "        [ 6, 10,  0],\n",
       "        [ 5, 10,  0],\n",
       "        [17, 11,  0],\n",
       "        [13, 11,  0],\n",
       "        [ 9, 11,  0],\n",
       "        [ 8, 11,  0],\n",
       "        [ 6, 11,  0],\n",
       "        [ 4, 11,  0],\n",
       "        [16, 12,  0],\n",
       "        [15, 12,  0],\n",
       "        [14, 12,  0],\n",
       "        [10, 12,  0],\n",
       "        [ 5, 12,  0],\n",
       "        [19, 13,  0],\n",
       "        [17, 13,  0],\n",
       "        [16, 13,  0],\n",
       "        [15, 13,  0],\n",
       "        [11, 13,  0],\n",
       "        [19, 14,  0],\n",
       "        [18, 14,  0],\n",
       "        [17, 14,  0],\n",
       "        [16, 14,  0],\n",
       "        [12, 14,  0],\n",
       "        [19, 15,  0],\n",
       "        [18, 15,  0],\n",
       "        [17, 15,  0],\n",
       "        [13, 15,  0],\n",
       "        [12, 15,  0],\n",
       "        [18, 16,  0],\n",
       "        [14, 16,  0],\n",
       "        [13, 16,  0],\n",
       "        [12, 16,  0],\n",
       "        [15, 17,  0],\n",
       "        [14, 17,  0],\n",
       "        [13, 17,  0],\n",
       "        [11, 17,  0],\n",
       "        [10, 17,  0],\n",
       "        [16, 18,  0],\n",
       "        [15, 18,  0],\n",
       "        [14, 18,  0],\n",
       "        [15, 19,  0],\n",
       "        [14, 19,  0],\n",
       "        [13, 19,  0],\n",
       "        [ 4, 20,  0],\n",
       "        [ 3, 20,  0],\n",
       "        [ 2, 20,  0],\n",
       "        [ 1, 20,  0],\n",
       "        [ 1,  0,  1],\n",
       "        [ 0,  1,  1],\n",
       "        [11,  5,  1],\n",
       "        [ 8,  6,  1],\n",
       "        [ 9,  8,  1],\n",
       "        [ 6,  8,  1],\n",
       "        [ 8,  9,  1],\n",
       "        [12, 11,  1],\n",
       "        [ 5, 11,  1],\n",
       "        [17, 12,  1],\n",
       "        [11, 12,  1],\n",
       "        [12, 17,  1],\n",
       "        [ 2,  1,  2],\n",
       "        [ 1,  2,  2],\n",
       "        [ 7,  2,  2],\n",
       "        [ 3,  2,  2],\n",
       "        [ 4,  3,  2],\n",
       "        [ 2,  3,  2],\n",
       "        [ 5,  4,  2],\n",
       "        [ 3,  4,  2],\n",
       "        [ 6,  5,  2],\n",
       "        [ 4,  5,  2],\n",
       "        [ 5,  6,  2],\n",
       "        [ 7,  6,  2],\n",
       "        [ 2,  7,  2],\n",
       "        [ 6,  7,  2],\n",
       "        [10,  9,  2],\n",
       "        [ 9, 10,  2],\n",
       "        [13, 12,  2],\n",
       "        [14, 13,  2],\n",
       "        [12, 13,  2],\n",
       "        [15, 14,  2],\n",
       "        [13, 14,  2],\n",
       "        [16, 15,  2],\n",
       "        [14, 15,  2],\n",
       "        [17, 16,  2],\n",
       "        [15, 16,  2],\n",
       "        [16, 17,  2],\n",
       "        [11, 10,  3],\n",
       "        [10, 11,  3]])"
      ]
     },
     "execution_count": 11,
     "metadata": {},
     "output_type": "execute_result"
    }
   ],
   "source": [
    "new_mol.edge_list"
   ]
  },
  {
   "cell_type": "code",
   "execution_count": 12,
   "metadata": {
    "pycharm": {
     "name": "#%%\n"
    }
   },
   "outputs": [
    {
     "data": {
      "text/plain": [
       "tensor(4)"
      ]
     },
     "execution_count": 12,
     "metadata": {},
     "output_type": "execute_result"
    }
   ],
   "source": [
    "new_mol.num_relation"
   ]
  },
  {
   "cell_type": "code",
   "execution_count": 30,
   "metadata": {
    "pycharm": {
     "name": "#%%\n"
    }
   },
   "outputs": [
    {
     "data": {
      "text/plain": [
       "tensor([0, 1, 0,  ..., 0, 0, 0])"
      ]
     },
     "execution_count": 30,
     "metadata": {},
     "output_type": "execute_result"
    }
   ],
   "source": [
    "new_mol.mol_feature"
   ]
  },
  {
   "cell_type": "code",
   "execution_count": 13,
   "metadata": {
    "pycharm": {
     "name": "#%%\n"
    }
   },
   "outputs": [],
   "source": [
    "mol_pkl = '../../../data/dta-datasets/KIBA/spatial_Molecule.pkl'\n",
    "with utils.smart_open(mol_pkl, \"wb\") as fout:\n",
    "    pickle.dump(transgraph_list, fout)"
   ]
  },
  {
   "attachments": {},
   "cell_type": "markdown",
   "metadata": {
    "pycharm": {
     "name": "#%% md\n"
    }
   },
   "source": [
    "## Dataset Demo"
   ]
  },
  {
   "cell_type": "code",
   "execution_count": 1,
   "metadata": {
    "pycharm": {
     "name": "#%%\n"
    }
   },
   "outputs": [],
   "source": [
    "from torchdrug import datasets"
   ]
  },
  {
   "cell_type": "code",
   "execution_count": 2,
   "metadata": {
    "pycharm": {
     "name": "#%%\n"
    }
   },
   "outputs": [
    {
     "name": "stdout",
     "output_type": "stream",
     "text": [
      "==================== Using distanceMol drug method and gearnetesm_pocket protein method! ====================\n"
     ]
    },
    {
     "name": "stderr",
     "output_type": "stream",
     "text": [
      "Constructing Dataset from pkl file: 100%|██████████| 30056/30056 [00:00<00:00, 1431927.13it/s]\n"
     ]
    }
   ],
   "source": [
    "dataset = datasets.Davis(path=\"../../../data/dta-datasets/Davis/\", protein_method='gearnetesm_pocket', drug_method=\"distanceMol\") # drug_method=\"3dMol\" ,  , protein_method='pdb'atom_feature=None, bond_feature=None, mol_feature='default'"
   ]
  },
  {
   "cell_type": "code",
   "execution_count": 3,
   "metadata": {
    "pycharm": {
     "name": "#%%\n"
    }
   },
   "outputs": [
    {
     "data": {
      "text/plain": [
       "PackedProtein(batch_size=1, num_atoms=[74], num_bonds=[647], num_residues=[74])"
      ]
     },
     "execution_count": 3,
     "metadata": {},
     "output_type": "execute_result"
    }
   ],
   "source": [
    "protein = dataset[0]['graph1']\n",
    "protein"
   ]
  },
  {
   "cell_type": "code",
   "execution_count": 4,
   "metadata": {
    "pycharm": {
     "name": "#%%\n"
    }
   },
   "outputs": [
    {
     "data": {
      "text/plain": [
       "Molecule(num_atom=27, num_bond=60)"
      ]
     },
     "execution_count": 4,
     "metadata": {},
     "output_type": "execute_result"
    }
   ],
   "source": [
    "drug = dataset[0]['graph2']\n",
    "drug"
   ]
  },
  {
   "cell_type": "code",
   "execution_count": 5,
   "metadata": {
    "pycharm": {
     "name": "#%%\n"
    }
   },
   "outputs": [
    {
     "data": {
      "text/plain": [
       "torch.Size([27, 67])"
      ]
     },
     "execution_count": 5,
     "metadata": {},
     "output_type": "execute_result"
    }
   ],
   "source": [
    "drug.atom_feature.shape"
   ]
  },
  {
   "cell_type": "code",
   "execution_count": 7,
   "metadata": {
    "pycharm": {
     "name": "#%%\n"
    }
   },
   "outputs": [
    {
     "data": {
      "text/plain": [
       "tensor([[1.0000, 0.0000, 0.0000,  ..., 0.0000, 0.0000, 1.4791],\n",
       "        [1.0000, 0.0000, 0.0000,  ..., 0.0000, 0.0000, 1.4791],\n",
       "        [0.0000, 0.0000, 0.0000,  ..., 0.0000, 1.0000, 1.3713],\n",
       "        ...,\n",
       "        [0.0000, 0.0000, 0.0000,  ..., 0.0000, 1.0000, 1.3956],\n",
       "        [0.0000, 0.0000, 0.0000,  ..., 0.0000, 1.0000, 1.4021],\n",
       "        [0.0000, 0.0000, 0.0000,  ..., 0.0000, 1.0000, 1.4021]])"
      ]
     },
     "execution_count": 7,
     "metadata": {},
     "output_type": "execute_result"
    }
   ],
   "source": [
    "drug.bond_feature"
   ]
  },
  {
   "cell_type": "code",
   "execution_count": 6,
   "metadata": {
    "pycharm": {
     "name": "#%%\n"
    }
   },
   "outputs": [
    {
     "data": {
      "text/plain": [
       "torch.Size([60, 19])"
      ]
     },
     "execution_count": 6,
     "metadata": {},
     "output_type": "execute_result"
    }
   ],
   "source": [
    "drug.bond_feature.shape"
   ]
  },
  {
   "cell_type": "code",
   "execution_count": 6,
   "metadata": {
    "pycharm": {
     "name": "#%%\n"
    }
   },
   "outputs": [
    {
     "data": {
      "text/plain": [
       "tensor([1., 1., 1., 1., 1., 1., 1., 1., 1., 1., 1., 1., 1., 1., 1., 1., 1., 1.,\n",
       "        1., 1., 1., 1., 1., 1., 1., 1., 1., 1., 1., 1., 1., 1., 1., 1., 1., 1.,\n",
       "        1., 1., 1., 1., 1., 1., 1., 1., 1., 1.])"
      ]
     },
     "execution_count": 6,
     "metadata": {},
     "output_type": "execute_result"
    }
   ],
   "source": [
    "drug.edge_weight"
   ]
  },
  {
   "cell_type": "code",
   "execution_count": 8,
   "metadata": {
    "pycharm": {
     "name": "#%%\n"
    }
   },
   "outputs": [
    {
     "data": {
      "text/plain": [
       "torch.Size([1024])"
      ]
     },
     "execution_count": 8,
     "metadata": {},
     "output_type": "execute_result"
    }
   ],
   "source": [
    "drug.mol_feature.shape"
   ]
  }
 ],
 "metadata": {
  "kernelspec": {
   "display_name": "Python 3.8.13 ('torchdrug')",
   "language": "python",
   "name": "python3"
  },
  "language_info": {
   "codemirror_mode": {
    "name": "ipython",
    "version": 3
   },
   "file_extension": ".py",
   "mimetype": "text/x-python",
   "name": "python",
   "nbconvert_exporter": "python",
   "pygments_lexer": "ipython3",
   "version": "3.8.16"
  },
  "orig_nbformat": 4,
  "vscode": {
   "interpreter": {
    "hash": "cb15710f8c0deeed06839ee1c6afab27549449016d814ee789699df3eb9a6173"
   }
  }
 },
 "nbformat": 4,
 "nbformat_minor": 2
}